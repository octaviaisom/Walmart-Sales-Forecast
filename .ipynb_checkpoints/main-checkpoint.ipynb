{
 "cells": [
  {
   "cell_type": "markdown",
   "metadata": {},
   "source": [
    "# Walmart Sales Forecast\n",
    "This notebook explores the sales data of 45 Wal-Mart locations. Exploritory data analysis was perfomed at the store and deparment level and the finding were used to forecast the sales."
   ]
  },
  {
   "cell_type": "markdown",
   "metadata": {},
   "source": [
    "    Functionality Setting"
   ]
  },
  {
   "cell_type": "code",
   "execution_count": 1,
   "metadata": {},
   "outputs": [],
   "source": [
    "import warnings\n",
    "warnings.filterwarnings(\"ignore\")"
   ]
  },
  {
   "cell_type": "markdown",
   "metadata": {},
   "source": [
    "    Dependencies"
   ]
  },
  {
   "cell_type": "code",
   "execution_count": 2,
   "metadata": {},
   "outputs": [],
   "source": [
    "import matplotlib.pyplot as plt\n",
    "#%matplotlib inline\n",
    "\n",
    "import plotly.graph_objects as go\n",
    "\n",
    "\n",
    "import seaborn as sns\n",
    "import pandas as pd\n",
    "import numpy as np\n",
    "import datetime"
   ]
  },
  {
   "cell_type": "markdown",
   "metadata": {},
   "source": [
    "# 1. Data Imports and Manipulation\n",
    "The sales and store data was collected from [Walmart Recruiting's Kaggle Competition](https://www.kaggle.com/c/walmart-recruiting-store-sales-forecasting). This dataset only includes the influence of 4 holidays. Entering this project with the assumption that consumer spending is heavily influenced by holidays so a [second source](https://www.timeanddate.com/holidays/us/2010?hol=17) was utilized to collect all relevant consumer events and commonly observed U.S. holidays. The datasets were then consolidated in a [separate script](https://github.com/octaviaisom/Walmart-Sales-Forecast/blob/master/holidates.py) (due to its extended runtime) and saved in ``` sales_updated.csv ```."
   ]
  },
  {
   "cell_type": "code",
   "execution_count": 29,
   "metadata": {},
   "outputs": [
    {
     "data": {
      "text/html": [
       "<div>\n",
       "<style scoped>\n",
       "    .dataframe tbody tr th:only-of-type {\n",
       "        vertical-align: middle;\n",
       "    }\n",
       "\n",
       "    .dataframe tbody tr th {\n",
       "        vertical-align: top;\n",
       "    }\n",
       "\n",
       "    .dataframe thead th {\n",
       "        text-align: right;\n",
       "    }\n",
       "</style>\n",
       "<table border=\"1\" class=\"dataframe\">\n",
       "  <thead>\n",
       "    <tr style=\"text-align: right;\">\n",
       "      <th></th>\n",
       "      <th>Holiday</th>\n",
       "      <th>Date</th>\n",
       "    </tr>\n",
       "  </thead>\n",
       "  <tbody>\n",
       "    <tr>\n",
       "      <th>0</th>\n",
       "      <td>Black Friday</td>\n",
       "      <td>2010-11-26</td>\n",
       "    </tr>\n",
       "    <tr>\n",
       "      <th>1</th>\n",
       "      <td>Black Friday</td>\n",
       "      <td>2011-11-25</td>\n",
       "    </tr>\n",
       "    <tr>\n",
       "      <th>2</th>\n",
       "      <td>Black Friday</td>\n",
       "      <td>2012-11-23</td>\n",
       "    </tr>\n",
       "    <tr>\n",
       "      <th>3</th>\n",
       "      <td>Black Friday</td>\n",
       "      <td>2013-11-29</td>\n",
       "    </tr>\n",
       "    <tr>\n",
       "      <th>4</th>\n",
       "      <td>Christmas Day</td>\n",
       "      <td>2010-12-25</td>\n",
       "    </tr>\n",
       "  </tbody>\n",
       "</table>\n",
       "</div>"
      ],
      "text/plain": [
       "         Holiday        Date\n",
       "0   Black Friday  2010-11-26\n",
       "1   Black Friday  2011-11-25\n",
       "2   Black Friday  2012-11-23\n",
       "3   Black Friday  2013-11-29\n",
       "4  Christmas Day  2010-12-25"
      ]
     },
     "execution_count": 29,
     "metadata": {},
     "output_type": "execute_result"
    }
   ],
   "source": [
    "csv = pd.read_csv(\"data/holidays.csv\")\n",
    "holidays = pd.DataFrame(csv)\n",
    "\n",
    "holidays.head()"
   ]
  },
  {
   "cell_type": "code",
   "execution_count": 30,
   "metadata": {},
   "outputs": [],
   "source": [
    "holidays.Date = pd.to_datetime(holidays.Date)"
   ]
  },
  {
   "cell_type": "code",
   "execution_count": 5,
   "metadata": {},
   "outputs": [
    {
     "data": {
      "text/html": [
       "<div>\n",
       "<style scoped>\n",
       "    .dataframe tbody tr th:only-of-type {\n",
       "        vertical-align: middle;\n",
       "    }\n",
       "\n",
       "    .dataframe tbody tr th {\n",
       "        vertical-align: top;\n",
       "    }\n",
       "\n",
       "    .dataframe thead th {\n",
       "        text-align: right;\n",
       "    }\n",
       "</style>\n",
       "<table border=\"1\" class=\"dataframe\">\n",
       "  <thead>\n",
       "    <tr style=\"text-align: right;\">\n",
       "      <th></th>\n",
       "      <th>Store</th>\n",
       "      <th>Dept</th>\n",
       "      <th>Date</th>\n",
       "      <th>Weekly_Sales</th>\n",
       "      <th>IsHoliday</th>\n",
       "    </tr>\n",
       "  </thead>\n",
       "  <tbody>\n",
       "    <tr>\n",
       "      <th>421565</th>\n",
       "      <td>45</td>\n",
       "      <td>98</td>\n",
       "      <td>2012-09-28</td>\n",
       "      <td>508.37</td>\n",
       "      <td>False</td>\n",
       "    </tr>\n",
       "    <tr>\n",
       "      <th>421566</th>\n",
       "      <td>45</td>\n",
       "      <td>98</td>\n",
       "      <td>2012-10-05</td>\n",
       "      <td>628.10</td>\n",
       "      <td>False</td>\n",
       "    </tr>\n",
       "    <tr>\n",
       "      <th>421567</th>\n",
       "      <td>45</td>\n",
       "      <td>98</td>\n",
       "      <td>2012-10-12</td>\n",
       "      <td>1061.02</td>\n",
       "      <td>False</td>\n",
       "    </tr>\n",
       "    <tr>\n",
       "      <th>421568</th>\n",
       "      <td>45</td>\n",
       "      <td>98</td>\n",
       "      <td>2012-10-19</td>\n",
       "      <td>760.01</td>\n",
       "      <td>False</td>\n",
       "    </tr>\n",
       "    <tr>\n",
       "      <th>421569</th>\n",
       "      <td>45</td>\n",
       "      <td>98</td>\n",
       "      <td>2012-10-26</td>\n",
       "      <td>1076.80</td>\n",
       "      <td>False</td>\n",
       "    </tr>\n",
       "  </tbody>\n",
       "</table>\n",
       "</div>"
      ],
      "text/plain": [
       "        Store  Dept        Date  Weekly_Sales  IsHoliday\n",
       "421565     45    98  2012-09-28        508.37      False\n",
       "421566     45    98  2012-10-05        628.10      False\n",
       "421567     45    98  2012-10-12       1061.02      False\n",
       "421568     45    98  2012-10-19        760.01      False\n",
       "421569     45    98  2012-10-26       1076.80      False"
      ]
     },
     "execution_count": 5,
     "metadata": {},
     "output_type": "execute_result"
    }
   ],
   "source": [
    "#walmart's\n",
    "csv = pd.read_csv(\"data/sales.csv\")\n",
    "sales = pd.DataFrame(csv)\n",
    "\n",
    "sales.tail()"
   ]
  },
  {
   "cell_type": "code",
   "execution_count": 6,
   "metadata": {},
   "outputs": [],
   "source": [
    "sales.Date = pd.to_datetime(sales.Date)"
   ]
  },
  {
   "cell_type": "code",
   "execution_count": 7,
   "metadata": {},
   "outputs": [
    {
     "data": {
      "text/html": [
       "<div>\n",
       "<style scoped>\n",
       "    .dataframe tbody tr th:only-of-type {\n",
       "        vertical-align: middle;\n",
       "    }\n",
       "\n",
       "    .dataframe tbody tr th {\n",
       "        vertical-align: top;\n",
       "    }\n",
       "\n",
       "    .dataframe thead th {\n",
       "        text-align: right;\n",
       "    }\n",
       "</style>\n",
       "<table border=\"1\" class=\"dataframe\">\n",
       "  <thead>\n",
       "    <tr style=\"text-align: right;\">\n",
       "      <th></th>\n",
       "      <th>Store</th>\n",
       "      <th>Dept</th>\n",
       "      <th>Date</th>\n",
       "      <th>Weekly_Sales</th>\n",
       "      <th>IsHoliday</th>\n",
       "    </tr>\n",
       "  </thead>\n",
       "  <tbody>\n",
       "    <tr>\n",
       "      <th>421565</th>\n",
       "      <td>45</td>\n",
       "      <td>98</td>\n",
       "      <td>9/28/2012</td>\n",
       "      <td>508.37</td>\n",
       "      <td>False</td>\n",
       "    </tr>\n",
       "    <tr>\n",
       "      <th>421566</th>\n",
       "      <td>45</td>\n",
       "      <td>98</td>\n",
       "      <td>10/5/2012</td>\n",
       "      <td>628.10</td>\n",
       "      <td>False</td>\n",
       "    </tr>\n",
       "    <tr>\n",
       "      <th>421567</th>\n",
       "      <td>45</td>\n",
       "      <td>98</td>\n",
       "      <td>10/12/2012</td>\n",
       "      <td>1061.02</td>\n",
       "      <td>False</td>\n",
       "    </tr>\n",
       "    <tr>\n",
       "      <th>421568</th>\n",
       "      <td>45</td>\n",
       "      <td>98</td>\n",
       "      <td>10/19/2012</td>\n",
       "      <td>760.01</td>\n",
       "      <td>False</td>\n",
       "    </tr>\n",
       "    <tr>\n",
       "      <th>421569</th>\n",
       "      <td>45</td>\n",
       "      <td>98</td>\n",
       "      <td>10/26/2012</td>\n",
       "      <td>1076.80</td>\n",
       "      <td>False</td>\n",
       "    </tr>\n",
       "  </tbody>\n",
       "</table>\n",
       "</div>"
      ],
      "text/plain": [
       "        Store  Dept        Date  Weekly_Sales  IsHoliday\n",
       "421565     45    98   9/28/2012        508.37      False\n",
       "421566     45    98   10/5/2012        628.10      False\n",
       "421567     45    98  10/12/2012       1061.02      False\n",
       "421568     45    98  10/19/2012        760.01      False\n",
       "421569     45    98  10/26/2012       1076.80      False"
      ]
     },
     "execution_count": 7,
     "metadata": {},
     "output_type": "execute_result"
    }
   ],
   "source": [
    "#all\n",
    "csv = pd.read_csv(\"data/sales_updated.csv\")\n",
    "sales_all = pd.DataFrame(csv)\n",
    "\n",
    "sales_all.tail()"
   ]
  },
  {
   "cell_type": "code",
   "execution_count": 8,
   "metadata": {},
   "outputs": [],
   "source": [
    "sales_all.Date = pd.to_datetime(sales.Date)"
   ]
  },
  {
   "cell_type": "code",
   "execution_count": 9,
   "metadata": {},
   "outputs": [
    {
     "name": "stdout",
     "output_type": "stream",
     "text": [
      "<class 'pandas.core.frame.DataFrame'>\n",
      "RangeIndex: 421570 entries, 0 to 421569\n",
      "Data columns (total 5 columns):\n",
      "Store           421570 non-null int64\n",
      "Dept            421570 non-null int64\n",
      "Date            421570 non-null datetime64[ns]\n",
      "Weekly_Sales    421570 non-null float64\n",
      "IsHoliday       421570 non-null bool\n",
      "dtypes: bool(1), datetime64[ns](1), float64(1), int64(2)\n",
      "memory usage: 13.3 MB\n"
     ]
    },
    {
     "data": {
      "text/html": [
       "<div>\n",
       "<style scoped>\n",
       "    .dataframe tbody tr th:only-of-type {\n",
       "        vertical-align: middle;\n",
       "    }\n",
       "\n",
       "    .dataframe tbody tr th {\n",
       "        vertical-align: top;\n",
       "    }\n",
       "\n",
       "    .dataframe thead th {\n",
       "        text-align: right;\n",
       "    }\n",
       "</style>\n",
       "<table border=\"1\" class=\"dataframe\">\n",
       "  <thead>\n",
       "    <tr style=\"text-align: right;\">\n",
       "      <th></th>\n",
       "      <th>Store</th>\n",
       "      <th>Dept</th>\n",
       "      <th>Weekly_Sales</th>\n",
       "    </tr>\n",
       "  </thead>\n",
       "  <tbody>\n",
       "    <tr>\n",
       "      <th>count</th>\n",
       "      <td>421570.000000</td>\n",
       "      <td>421570.000000</td>\n",
       "      <td>421570.000000</td>\n",
       "    </tr>\n",
       "    <tr>\n",
       "      <th>mean</th>\n",
       "      <td>22.200546</td>\n",
       "      <td>44.260317</td>\n",
       "      <td>15981.258123</td>\n",
       "    </tr>\n",
       "    <tr>\n",
       "      <th>std</th>\n",
       "      <td>12.785297</td>\n",
       "      <td>30.492054</td>\n",
       "      <td>22711.183519</td>\n",
       "    </tr>\n",
       "    <tr>\n",
       "      <th>min</th>\n",
       "      <td>1.000000</td>\n",
       "      <td>1.000000</td>\n",
       "      <td>-4988.940000</td>\n",
       "    </tr>\n",
       "    <tr>\n",
       "      <th>25%</th>\n",
       "      <td>11.000000</td>\n",
       "      <td>18.000000</td>\n",
       "      <td>2079.650000</td>\n",
       "    </tr>\n",
       "    <tr>\n",
       "      <th>50%</th>\n",
       "      <td>22.000000</td>\n",
       "      <td>37.000000</td>\n",
       "      <td>7612.030000</td>\n",
       "    </tr>\n",
       "    <tr>\n",
       "      <th>75%</th>\n",
       "      <td>33.000000</td>\n",
       "      <td>74.000000</td>\n",
       "      <td>20205.852500</td>\n",
       "    </tr>\n",
       "    <tr>\n",
       "      <th>max</th>\n",
       "      <td>45.000000</td>\n",
       "      <td>99.000000</td>\n",
       "      <td>693099.360000</td>\n",
       "    </tr>\n",
       "  </tbody>\n",
       "</table>\n",
       "</div>"
      ],
      "text/plain": [
       "               Store           Dept   Weekly_Sales\n",
       "count  421570.000000  421570.000000  421570.000000\n",
       "mean       22.200546      44.260317   15981.258123\n",
       "std        12.785297      30.492054   22711.183519\n",
       "min         1.000000       1.000000   -4988.940000\n",
       "25%        11.000000      18.000000    2079.650000\n",
       "50%        22.000000      37.000000    7612.030000\n",
       "75%        33.000000      74.000000   20205.852500\n",
       "max        45.000000      99.000000  693099.360000"
      ]
     },
     "execution_count": 9,
     "metadata": {},
     "output_type": "execute_result"
    }
   ],
   "source": [
    "sales.info()\n",
    "sales.describe()"
   ]
  },
  {
   "cell_type": "code",
   "execution_count": 10,
   "metadata": {},
   "outputs": [
    {
     "data": {
      "text/html": [
       "<div>\n",
       "<style scoped>\n",
       "    .dataframe tbody tr th:only-of-type {\n",
       "        vertical-align: middle;\n",
       "    }\n",
       "\n",
       "    .dataframe tbody tr th {\n",
       "        vertical-align: top;\n",
       "    }\n",
       "\n",
       "    .dataframe thead th {\n",
       "        text-align: right;\n",
       "    }\n",
       "</style>\n",
       "<table border=\"1\" class=\"dataframe\">\n",
       "  <thead>\n",
       "    <tr style=\"text-align: right;\">\n",
       "      <th></th>\n",
       "      <th>Store</th>\n",
       "      <th>Type</th>\n",
       "      <th>Size</th>\n",
       "    </tr>\n",
       "  </thead>\n",
       "  <tbody>\n",
       "    <tr>\n",
       "      <th>40</th>\n",
       "      <td>41</td>\n",
       "      <td>A</td>\n",
       "      <td>196321</td>\n",
       "    </tr>\n",
       "    <tr>\n",
       "      <th>41</th>\n",
       "      <td>42</td>\n",
       "      <td>C</td>\n",
       "      <td>39690</td>\n",
       "    </tr>\n",
       "    <tr>\n",
       "      <th>42</th>\n",
       "      <td>43</td>\n",
       "      <td>C</td>\n",
       "      <td>41062</td>\n",
       "    </tr>\n",
       "    <tr>\n",
       "      <th>43</th>\n",
       "      <td>44</td>\n",
       "      <td>C</td>\n",
       "      <td>39910</td>\n",
       "    </tr>\n",
       "    <tr>\n",
       "      <th>44</th>\n",
       "      <td>45</td>\n",
       "      <td>B</td>\n",
       "      <td>118221</td>\n",
       "    </tr>\n",
       "  </tbody>\n",
       "</table>\n",
       "</div>"
      ],
      "text/plain": [
       "    Store Type    Size\n",
       "40     41    A  196321\n",
       "41     42    C   39690\n",
       "42     43    C   41062\n",
       "43     44    C   39910\n",
       "44     45    B  118221"
      ]
     },
     "execution_count": 10,
     "metadata": {},
     "output_type": "execute_result"
    }
   ],
   "source": [
    "csv = pd.read_csv(\"data/stores.csv\")\n",
    "stores = pd.DataFrame(csv)\n",
    "\n",
    "stores.tail()"
   ]
  },
  {
   "cell_type": "code",
   "execution_count": 11,
   "metadata": {},
   "outputs": [
    {
     "name": "stdout",
     "output_type": "stream",
     "text": [
      "<class 'pandas.core.frame.DataFrame'>\n",
      "RangeIndex: 45 entries, 0 to 44\n",
      "Data columns (total 3 columns):\n",
      "Store    45 non-null int64\n",
      "Type     45 non-null object\n",
      "Size     45 non-null int64\n",
      "dtypes: int64(2), object(1)\n",
      "memory usage: 1.2+ KB\n"
     ]
    },
    {
     "data": {
      "text/html": [
       "<div>\n",
       "<style scoped>\n",
       "    .dataframe tbody tr th:only-of-type {\n",
       "        vertical-align: middle;\n",
       "    }\n",
       "\n",
       "    .dataframe tbody tr th {\n",
       "        vertical-align: top;\n",
       "    }\n",
       "\n",
       "    .dataframe thead th {\n",
       "        text-align: right;\n",
       "    }\n",
       "</style>\n",
       "<table border=\"1\" class=\"dataframe\">\n",
       "  <thead>\n",
       "    <tr style=\"text-align: right;\">\n",
       "      <th></th>\n",
       "      <th>Store</th>\n",
       "      <th>Size</th>\n",
       "    </tr>\n",
       "  </thead>\n",
       "  <tbody>\n",
       "    <tr>\n",
       "      <th>count</th>\n",
       "      <td>45.000000</td>\n",
       "      <td>45.000000</td>\n",
       "    </tr>\n",
       "    <tr>\n",
       "      <th>mean</th>\n",
       "      <td>23.000000</td>\n",
       "      <td>130287.600000</td>\n",
       "    </tr>\n",
       "    <tr>\n",
       "      <th>std</th>\n",
       "      <td>13.133926</td>\n",
       "      <td>63825.271991</td>\n",
       "    </tr>\n",
       "    <tr>\n",
       "      <th>min</th>\n",
       "      <td>1.000000</td>\n",
       "      <td>34875.000000</td>\n",
       "    </tr>\n",
       "    <tr>\n",
       "      <th>25%</th>\n",
       "      <td>12.000000</td>\n",
       "      <td>70713.000000</td>\n",
       "    </tr>\n",
       "    <tr>\n",
       "      <th>50%</th>\n",
       "      <td>23.000000</td>\n",
       "      <td>126512.000000</td>\n",
       "    </tr>\n",
       "    <tr>\n",
       "      <th>75%</th>\n",
       "      <td>34.000000</td>\n",
       "      <td>202307.000000</td>\n",
       "    </tr>\n",
       "    <tr>\n",
       "      <th>max</th>\n",
       "      <td>45.000000</td>\n",
       "      <td>219622.000000</td>\n",
       "    </tr>\n",
       "  </tbody>\n",
       "</table>\n",
       "</div>"
      ],
      "text/plain": [
       "           Store           Size\n",
       "count  45.000000      45.000000\n",
       "mean   23.000000  130287.600000\n",
       "std    13.133926   63825.271991\n",
       "min     1.000000   34875.000000\n",
       "25%    12.000000   70713.000000\n",
       "50%    23.000000  126512.000000\n",
       "75%    34.000000  202307.000000\n",
       "max    45.000000  219622.000000"
      ]
     },
     "execution_count": 11,
     "metadata": {},
     "output_type": "execute_result"
    }
   ],
   "source": [
    "stores.info()\n",
    "stores.describe()"
   ]
  },
  {
   "cell_type": "markdown",
   "metadata": {},
   "source": [
    "# 2. EDA"
   ]
  },
  {
   "cell_type": "code",
   "execution_count": 12,
   "metadata": {},
   "outputs": [],
   "source": [
    "#setting color pallete for charts\n",
    "palette = flatui = [\"#9b59b6\", \"#3498db\", \"#95a5a6\", \"#e74c3c\", \"#34495e\", \"#2ecc71\"]\n",
    "sns.set_palette(palette)\n",
    "\n",
    "plt.style.use('seaborn-darkgrid')\n"
   ]
  },
  {
   "cell_type": "markdown",
   "metadata": {},
   "source": [
    "## Record Counts\n",
    "Review missing values"
   ]
  },
  {
   "cell_type": "code",
   "execution_count": 13,
   "metadata": {},
   "outputs": [
    {
     "data": {
      "text/plain": [
       "Store               45\n",
       "Dept                81\n",
       "Date               143\n",
       "Weekly_Sales    359464\n",
       "IsHoliday            2\n",
       "dtype: int64"
      ]
     },
     "execution_count": 13,
     "metadata": {},
     "output_type": "execute_result"
    }
   ],
   "source": [
    "sales.nunique()"
   ]
  },
  {
   "cell_type": "code",
   "execution_count": 14,
   "metadata": {},
   "outputs": [
    {
     "data": {
      "text/plain": [
       "False"
      ]
     },
     "execution_count": 14,
     "metadata": {},
     "output_type": "execute_result"
    }
   ],
   "source": [
    "45*81*143 == len(sales)"
   ]
  },
  {
   "cell_type": "code",
   "execution_count": 15,
   "metadata": {},
   "outputs": [
    {
     "data": {
      "text/html": [
       "<div>\n",
       "<style scoped>\n",
       "    .dataframe tbody tr th:only-of-type {\n",
       "        vertical-align: middle;\n",
       "    }\n",
       "\n",
       "    .dataframe tbody tr th {\n",
       "        vertical-align: top;\n",
       "    }\n",
       "\n",
       "    .dataframe thead th {\n",
       "        text-align: right;\n",
       "    }\n",
       "</style>\n",
       "<table border=\"1\" class=\"dataframe\">\n",
       "  <thead>\n",
       "    <tr style=\"text-align: right;\">\n",
       "      <th></th>\n",
       "      <th>Store</th>\n",
       "      <th>Dept</th>\n",
       "      <th>Date</th>\n",
       "      <th>Weekly_Sales</th>\n",
       "      <th>IsHoliday</th>\n",
       "    </tr>\n",
       "    <tr>\n",
       "      <th>Dept</th>\n",
       "      <th></th>\n",
       "      <th></th>\n",
       "      <th></th>\n",
       "      <th></th>\n",
       "      <th></th>\n",
       "    </tr>\n",
       "  </thead>\n",
       "  <tbody>\n",
       "    <tr>\n",
       "      <th>39</th>\n",
       "      <td>5</td>\n",
       "      <td>1</td>\n",
       "      <td>16</td>\n",
       "      <td>12</td>\n",
       "      <td>2</td>\n",
       "    </tr>\n",
       "    <tr>\n",
       "      <th>43</th>\n",
       "      <td>5</td>\n",
       "      <td>1</td>\n",
       "      <td>12</td>\n",
       "      <td>6</td>\n",
       "      <td>2</td>\n",
       "    </tr>\n",
       "    <tr>\n",
       "      <th>47</th>\n",
       "      <td>37</td>\n",
       "      <td>1</td>\n",
       "      <td>138</td>\n",
       "      <td>277</td>\n",
       "      <td>2</td>\n",
       "    </tr>\n",
       "    <tr>\n",
       "      <th>51</th>\n",
       "      <td>37</td>\n",
       "      <td>1</td>\n",
       "      <td>131</td>\n",
       "      <td>780</td>\n",
       "      <td>2</td>\n",
       "    </tr>\n",
       "    <tr>\n",
       "      <th>77</th>\n",
       "      <td>37</td>\n",
       "      <td>1</td>\n",
       "      <td>35</td>\n",
       "      <td>58</td>\n",
       "      <td>2</td>\n",
       "    </tr>\n",
       "    <tr>\n",
       "      <th>78</th>\n",
       "      <td>37</td>\n",
       "      <td>1</td>\n",
       "      <td>82</td>\n",
       "      <td>38</td>\n",
       "      <td>2</td>\n",
       "    </tr>\n",
       "    <tr>\n",
       "      <th>99</th>\n",
       "      <td>37</td>\n",
       "      <td>1</td>\n",
       "      <td>94</td>\n",
       "      <td>311</td>\n",
       "      <td>2</td>\n",
       "    </tr>\n",
       "  </tbody>\n",
       "</table>\n",
       "</div>"
      ],
      "text/plain": [
       "      Store  Dept  Date  Weekly_Sales  IsHoliday\n",
       "Dept                                            \n",
       "39        5     1    16            12          2\n",
       "43        5     1    12             6          2\n",
       "47       37     1   138           277          2\n",
       "51       37     1   131           780          2\n",
       "77       37     1    35            58          2\n",
       "78       37     1    82            38          2\n",
       "99       37     1    94           311          2"
      ]
     },
     "execution_count": 15,
     "metadata": {},
     "output_type": "execute_result"
    }
   ],
   "source": [
    "#Departments with missing weekly sales\n",
    "sales.groupby('Dept').nunique().query(\"Date<143\")"
   ]
  },
  {
   "cell_type": "code",
   "execution_count": 16,
   "metadata": {},
   "outputs": [
    {
     "data": {
      "text/html": [
       "<div>\n",
       "<style scoped>\n",
       "    .dataframe tbody tr th:only-of-type {\n",
       "        vertical-align: middle;\n",
       "    }\n",
       "\n",
       "    .dataframe tbody tr th {\n",
       "        vertical-align: top;\n",
       "    }\n",
       "\n",
       "    .dataframe thead th {\n",
       "        text-align: right;\n",
       "    }\n",
       "</style>\n",
       "<table border=\"1\" class=\"dataframe\">\n",
       "  <thead>\n",
       "    <tr style=\"text-align: right;\">\n",
       "      <th></th>\n",
       "      <th>Store</th>\n",
       "      <th>Dept</th>\n",
       "      <th>Date</th>\n",
       "      <th>Weekly_Sales</th>\n",
       "      <th>IsHoliday</th>\n",
       "    </tr>\n",
       "    <tr>\n",
       "      <th>Store</th>\n",
       "      <th></th>\n",
       "      <th></th>\n",
       "      <th></th>\n",
       "      <th></th>\n",
       "      <th></th>\n",
       "    </tr>\n",
       "  </thead>\n",
       "  <tbody>\n",
       "  </tbody>\n",
       "</table>\n",
       "</div>"
      ],
      "text/plain": [
       "Empty DataFrame\n",
       "Columns: [Store, Dept, Date, Weekly_Sales, IsHoliday]\n",
       "Index: []"
      ]
     },
     "execution_count": 16,
     "metadata": {},
     "output_type": "execute_result"
    }
   ],
   "source": [
    "#Stores with missing weekly sales\n",
    "sales.groupby('Store').nunique().query(\"Date<143\")"
   ]
  },
  {
   "cell_type": "code",
   "execution_count": 17,
   "metadata": {},
   "outputs": [
    {
     "data": {
      "text/plain": [
       "<matplotlib.axes._subplots.AxesSubplot at 0x253a54c9160>"
      ]
     },
     "execution_count": 17,
     "metadata": {},
     "output_type": "execute_result"
    },
    {
     "data": {
      "image/png": "[encoded data removed]",
      "text/plain": [
       "<Figure size 432x288 with 1 Axes>"
      ]
     },
     "metadata": {},
     "output_type": "display_data"
    }
   ],
   "source": [
    "#Number of unique depts per store\n",
    "sales.groupby('Store').nunique().sort_values(['Dept']).plot()"
   ]
  },
  {
   "cell_type": "markdown",
   "metadata": {},
   "source": [
    "## Sales Analysis\n",
    "High-level analysis of sales and holiday's potential influence on seasonality"
   ]
  },
  {
   "cell_type": "code",
   "execution_count": 26,
   "metadata": {},
   "outputs": [
    {
     "data": {
      "text/html": [
       "<div>\n",
       "<style scoped>\n",
       "    .dataframe tbody tr th:only-of-type {\n",
       "        vertical-align: middle;\n",
       "    }\n",
       "\n",
       "    .dataframe tbody tr th {\n",
       "        vertical-align: top;\n",
       "    }\n",
       "\n",
       "    .dataframe thead th {\n",
       "        text-align: right;\n",
       "    }\n",
       "</style>\n",
       "<table border=\"1\" class=\"dataframe\">\n",
       "  <thead>\n",
       "    <tr style=\"text-align: right;\">\n",
       "      <th></th>\n",
       "      <th>Date</th>\n",
       "      <th>Store</th>\n",
       "      <th>Dept</th>\n",
       "      <th>Weekly_Sales</th>\n",
       "      <th>IsHoliday</th>\n",
       "    </tr>\n",
       "  </thead>\n",
       "  <tbody>\n",
       "    <tr>\n",
       "      <th>0</th>\n",
       "      <td>2010-02-05</td>\n",
       "      <td>65124</td>\n",
       "      <td>130557</td>\n",
       "      <td>49750740.50</td>\n",
       "      <td>0.0</td>\n",
       "    </tr>\n",
       "    <tr>\n",
       "      <th>1</th>\n",
       "      <td>2010-02-12</td>\n",
       "      <td>65082</td>\n",
       "      <td>131179</td>\n",
       "      <td>48336677.63</td>\n",
       "      <td>2956.0</td>\n",
       "    </tr>\n",
       "    <tr>\n",
       "      <th>2</th>\n",
       "      <td>2010-02-19</td>\n",
       "      <td>65610</td>\n",
       "      <td>131897</td>\n",
       "      <td>48276993.78</td>\n",
       "      <td>0.0</td>\n",
       "    </tr>\n",
       "    <tr>\n",
       "      <th>3</th>\n",
       "      <td>2010-02-26</td>\n",
       "      <td>65045</td>\n",
       "      <td>130161</td>\n",
       "      <td>43968571.13</td>\n",
       "      <td>0.0</td>\n",
       "    </tr>\n",
       "    <tr>\n",
       "      <th>4</th>\n",
       "      <td>2010-03-05</td>\n",
       "      <td>64897</td>\n",
       "      <td>129670</td>\n",
       "      <td>46871470.30</td>\n",
       "      <td>0.0</td>\n",
       "    </tr>\n",
       "  </tbody>\n",
       "</table>\n",
       "</div>"
      ],
      "text/plain": [
       "        Date  Store    Dept  Weekly_Sales  IsHoliday\n",
       "0 2010-02-05  65124  130557   49750740.50        0.0\n",
       "1 2010-02-12  65082  131179   48336677.63     2956.0\n",
       "2 2010-02-19  65610  131897   48276993.78        0.0\n",
       "3 2010-02-26  65045  130161   43968571.13        0.0\n",
       "4 2010-03-05  64897  129670   46871470.30        0.0"
      ]
     },
     "execution_count": 26,
     "metadata": {},
     "output_type": "execute_result"
    }
   ],
   "source": [
    "byDate = sales.groupby('Date',sort=False, as_index=False).sum()\n",
    "byDate.Date = pd.to_datetime(byDate.Date)\n",
    "byDate.Date.freq = 'W-FRI'\n",
    "byDate.head()"
   ]
  },
  {
   "cell_type": "code",
   "execution_count": 31,
   "metadata": {},
   "outputs": [
    {
     "data": {
      "text/plain": [
       "0     2010-02-05\n",
       "1     2010-02-12\n",
       "2     2010-02-19\n",
       "3     2010-02-26\n",
       "4     2010-03-05\n",
       "         ...    \n",
       "138   2012-09-28\n",
       "139   2012-10-05\n",
       "140   2012-10-12\n",
       "141   2012-10-19\n",
       "142   2012-10-26\n",
       "Name: Date, Length: 143, dtype: datetime64[ns]"
      ]
     },
     "execution_count": 31,
     "metadata": {},
     "output_type": "execute_result"
    }
   ],
   "source": [
    "byDate.Date"
   ]
  },
  {
   "cell_type": "code",
   "execution_count": 32,
   "metadata": {},
   "outputs": [
    {
     "data": {
      "text/plain": [
       "0    2010-11-26\n",
       "1    2011-11-25\n",
       "2    2012-11-23\n",
       "3    2013-11-29\n",
       "4    2010-12-25\n",
       "        ...    \n",
       "59   2013-11-11\n",
       "60   2010-02-07\n",
       "61   2011-02-06\n",
       "62   2012-02-05\n",
       "63   2013-02-03\n",
       "Name: Date, Length: 64, dtype: datetime64[ns]"
      ]
     },
     "execution_count": 32,
     "metadata": {},
     "output_type": "execute_result"
    }
   ],
   "source": [
    "holidays.Date"
   ]
  },
  {
   "cell_type": "code",
   "execution_count": 19,
   "metadata": {},
   "outputs": [
    {
     "data": {
      "text/plain": [
       "'line = go.Figure(data=go.Scatter(x=byDate.index,y=byDate.Weekly_Sales, name=\\'Weekly_Sales\\'))\\nline.update_layout(title={\\n        \\'text\\': \"Total Weekly Sales\",\\n        \\'y\\':0.9,\\n        \\'x\\':0.5,\\n        \\'xanchor\\': \\'center\\',\\n        \\'yanchor\\': \\'top\\'}\\n)\\nline.update_xaxes(\\n    rangeslider_visible=True,\\n    rangeselector=dict(\\n        buttons=list([\\n            dict(count=1, label=\"1m\", step=\"month\", stepmode=\"backward\"),\\n            dict(count=6, label=\"6m\", step=\"month\", stepmode=\"backward\"),\\n            dict(count=1, label=\"1y\", step=\"year\", stepmode=\"backward\"),\\n            dict(step=\"all\")\\n        ])\\n    )\\n)\\nline.show()\\n'"
      ]
     },
     "execution_count": 19,
     "metadata": {},
     "output_type": "execute_result"
    }
   ],
   "source": [
    "'''line = go.Figure(data=go.Scatter(x=byDate.index,y=byDate.Weekly_Sales, name='Weekly_Sales'))\n",
    "line.update_layout(title={\n",
    "        'text': \"Total Weekly Sales\",\n",
    "        'y':0.9,\n",
    "        'x':0.5,\n",
    "        'xanchor': 'center',\n",
    "        'yanchor': 'top'}\n",
    ")\n",
    "line.update_xaxes(\n",
    "    rangeslider_visible=True,\n",
    "    rangeselector=dict(\n",
    "        buttons=list([\n",
    "            dict(count=1, label=\"1m\", step=\"month\", stepmode=\"backward\"),\n",
    "            dict(count=6, label=\"6m\", step=\"month\", stepmode=\"backward\"),\n",
    "            dict(count=1, label=\"1y\", step=\"year\", stepmode=\"backward\"),\n",
    "            dict(step=\"all\")\n",
    "        ])\n",
    "    )\n",
    ")\n",
    "line.show()\n",
    "'''"
   ]
  },
  {
   "cell_type": "code",
   "execution_count": 20,
   "metadata": {},
   "outputs": [],
   "source": [
    "x = byDate.query(\"IsHoliday!=0\").index[5]"
   ]
  },
  {
   "cell_type": "code",
   "execution_count": 21,
   "metadata": {},
   "outputs": [
    {
     "data": {
      "text/plain": [
       "'ymin=byDate.min()\\nymax=byDate.max()\\n\\nlinex = go.Figure(data=go.Scatter(x=byDate.index,y=byDate.Weekly_Sales, name=\\'Weekly_Sales\\'))\\n\\nlinex.add_shape(\\n        # Line Horizontal\\n            type=\"line\",\\n            x0=x,\\n            y0=ymin,\\n            x1=x,\\n            y1=ymax,\\n            )\\n\\nlinex.update_layout(title={\\n        \\'text\\': \"Total Weekly Sales with Walmart\\'s Holiday Markers\",\\n        \\'y\\':0.9,\\n        \\'x\\':0.5,\\n        \\'xanchor\\': \\'center\\',\\n        \\'yanchor\\': \\'top\\'})\\nlinex.show()\\n'"
      ]
     },
     "execution_count": 21,
     "metadata": {},
     "output_type": "execute_result"
    }
   ],
   "source": [
    "'''ymin=byDate.min()\n",
    "ymax=byDate.max()\n",
    "\n",
    "linex = go.Figure(data=go.Scatter(x=byDate.index,y=byDate.Weekly_Sales, name='Weekly_Sales'))\n",
    "\n",
    "linex.add_shape(\n",
    "        # Line Horizontal\n",
    "            type=\"line\",\n",
    "            x0=x,\n",
    "            y0=ymin,\n",
    "            x1=x,\n",
    "            y1=ymax,\n",
    "            )\n",
    "\n",
    "linex.update_layout(title={\n",
    "        'text': \"Total Weekly Sales with Walmart's Holiday Markers\",\n",
    "        'y':0.9,\n",
    "        'x':0.5,\n",
    "        'xanchor': 'center',\n",
    "        'yanchor': 'top'})\n",
    "linex.show()\n",
    "'''"
   ]
  },
  {
   "cell_type": "code",
   "execution_count": 34,
   "metadata": {},
   "outputs": [
    {
     "data": {
      "application/vnd.plotly.v1+json": {
       "config": {
        "plotlyServerURL": "https://plot.ly"
       },
       "data": [
        {
         "name": "Weekly_Sales",
         "type": "scatter",
         "x": [
          "2010-02-05T00:00:00",
          "2010-02-12T00:00:00",
          "2010-02-19T00:00:00",
          "2010-02-26T00:00:00",
          "2010-03-05T00:00:00",
          "2010-03-12T00:00:00",
          "2010-03-19T00:00:00",
          "2010-03-26T00:00:00",
          "2010-04-02T00:00:00",
          "2010-04-09T00:00:00",
          "2010-04-16T00:00:00",
          "2010-04-23T00:00:00",
          "2010-04-30T00:00:00",
          "2010-05-07T00:00:00",
          "2010-05-14T00:00:00",
          "2010-05-21T00:00:00",
          "2010-05-28T00:00:00",
          "2010-06-04T00:00:00",
          "2010-06-11T00:00:00",
          "2010-06-18T00:00:00",
          "2010-06-25T00:00:00",
          "2010-07-02T00:00:00",
          "2010-07-09T00:00:00",
          "2010-07-16T00:00:00",
          "2010-07-23T00:00:00",
          "2010-07-30T00:00:00",
          "2010-08-06T00:00:00",
          "2010-08-13T00:00:00",
          "2010-08-20T00:00:00",
          "2010-08-27T00:00:00",
          "2010-09-03T00:00:00",
          "2010-09-10T00:00:00",
          "2010-09-17T00:00:00",
          "2010-09-24T00:00:00",
          "2010-10-01T00:00:00",
          "2010-10-08T00:00:00",
          "2010-10-15T00:00:00",
          "2010-10-22T00:00:00",
          "2010-10-29T00:00:00",
          "2010-11-05T00:00:00",
          "2010-11-12T00:00:00",
          "2010-11-19T00:00:00",
          "2010-11-26T00:00:00",
          "2010-12-03T00:00:00",
          "2010-12-10T00:00:00",
          "2010-12-17T00:00:00",
          "2010-12-24T00:00:00",
          "2010-12-31T00:00:00",
          "2011-01-07T00:00:00",
          "2011-01-14T00:00:00",
          "2011-01-21T00:00:00",
          "2011-01-28T00:00:00",
          "2011-02-04T00:00:00",
          "2011-02-11T00:00:00",
          "2011-02-18T00:00:00",
          "2011-02-25T00:00:00",
          "2011-03-04T00:00:00",
          "2011-03-11T00:00:00",
          "2011-03-18T00:00:00",
          "2011-03-25T00:00:00",
          "2011-04-01T00:00:00",
          "2011-04-08T00:00:00",
          "2011-04-15T00:00:00",
          "2011-04-22T00:00:00",
          "2011-04-29T00:00:00",
          "2011-05-06T00:00:00",
          "2011-05-13T00:00:00",
          "2011-05-20T00:00:00",
          "2011-05-27T00:00:00",
          "2011-06-03T00:00:00",
          "2011-06-10T00:00:00",
          "2011-06-17T00:00:00",
          "2011-06-24T00:00:00",
          "2011-07-01T00:00:00",
          "2011-07-08T00:00:00",
          "2011-07-15T00:00:00",
          "2011-07-22T00:00:00",
          "2011-07-29T00:00:00",
          "2011-08-05T00:00:00",
          "2011-08-12T00:00:00",
          "2011-08-19T00:00:00",
          "2011-08-26T00:00:00",
          "2011-09-02T00:00:00",
          "2011-09-09T00:00:00",
          "2011-09-16T00:00:00",
          "2011-09-23T00:00:00",
          "2011-09-30T00:00:00",
          "2011-10-07T00:00:00",
          "2011-10-14T00:00:00",
          "2011-10-21T00:00:00",
          "2011-10-28T00:00:00",
          "2011-11-04T00:00:00",
          "2011-11-11T00:00:00",
          "2011-11-18T00:00:00",
          "2011-11-25T00:00:00",
          "2011-12-02T00:00:00",
          "2011-12-09T00:00:00",
          "2011-12-16T00:00:00",
          "2011-12-23T00:00:00",
          "2011-12-30T00:00:00",
          "2012-01-06T00:00:00",
          "2012-01-13T00:00:00",
          "2012-01-20T00:00:00",
          "2012-01-27T00:00:00",
          "2012-02-03T00:00:00",
          "2012-02-10T00:00:00",
          "2012-02-17T00:00:00",
          "2012-02-24T00:00:00",
          "2012-03-02T00:00:00",
          "2012-03-09T00:00:00",
          "2012-03-16T00:00:00",
          "2012-03-23T00:00:00",
          "2012-03-30T00:00:00",
          "2012-04-06T00:00:00",
          "2012-04-13T00:00:00",
          "2012-04-20T00:00:00",
          "2012-04-27T00:00:00",
          "2012-05-04T00:00:00",
          "2012-05-11T00:00:00",
          "2012-05-18T00:00:00",
          "2012-05-25T00:00:00",
          "2012-06-01T00:00:00",
          "2012-06-08T00:00:00",
          "2012-06-15T00:00:00",
          "2012-06-22T00:00:00",
          "2012-06-29T00:00:00",
          "2012-07-06T00:00:00",
          "2012-07-13T00:00:00",
          "2012-07-20T00:00:00",
          "2012-07-27T00:00:00",
          "2012-08-03T00:00:00",
          "2012-08-10T00:00:00",
          "2012-08-17T00:00:00",
          "2012-08-24T00:00:00",
          "2012-08-31T00:00:00",
          "2012-09-07T00:00:00",
          "2012-09-14T00:00:00",
          "2012-09-21T00:00:00",
          "2012-09-28T00:00:00",
          "2012-10-05T00:00:00",
          "2012-10-12T00:00:00",
          "2012-10-19T00:00:00",
          "2012-10-26T00:00:00"
         ],
         "y": [
          49750740.49999988,
          48336677.63000006,
          48276993.78000006,
          43968571.12999993,
          46871470.3,
          45925396.50999998,
          44988974.64000006,
          44133961.050000034,
          50423831.260000035,
          47365290.440000035,
          45183667.080000006,
          44734452.56000002,
          43705126.709999874,
          48503243.51999991,
          45330080.19999999,
          45120108.05999994,
          47757502.56000001,
          50188543.119999915,
          47826546.72000009,
          47622046.22999998,
          46609036.29000002,
          48917484.50000017,
          47899529.37000009,
          46243899.57999996,
          44888849.109999955,
          44630363.41999992,
          48204999.11999994,
          46464418.40999996,
          47060952.919999994,
          45909740.44000011,
          47194257.61,
          45634397.840000056,
          43080726.50999983,
          41358514.41000003,
          42239875.86999992,
          45102974.229999974,
          43149473.45000014,
          43066669.51999998,
          43602830.94999994,
          45781981.89,
          46124800.829999916,
          45125584.18000006,
          65821003.240000084,
          49909027.88000007,
          55666770.389999814,
          61820799.85,
          80931415.60000007,
          40432519.000000075,
          42775787.76999989,
          40673678.039999954,
          40654648.029999994,
          39599852.990000054,
          46153111.12,
          47336192.78999979,
          48716164.119999975,
          44125859.84000007,
          46980603.73999991,
          44627319.39999998,
          44872325.97000003,
          42876199.18000005,
          43458991.190000035,
          45887466.799999945,
          44973328.14000003,
          48676692.05999989,
          43530032.77999999,
          46861958.2900002,
          45446144.81999999,
          44046598.01000008,
          45293457.03999987,
          48771994.18000002,
          47669734.66000002,
          47447561.77000003,
          45884094.579999946,
          47578519.50000006,
          47859263.78,
          45515929.91999994,
          45274411.39000012,
          43683274.27999995,
          48015466.97000004,
          46249569.2100001,
          46917347.61999986,
          47416948.45000011,
          45376623.26999996,
          46763227.53000005,
          43793960.07999998,
          42718096.7299999,
          42195830.80999997,
          47211688.36000014,
          44374820.29999992,
          45818953.43999992,
          45855821.05000005,
          48655544.3000002,
          48474224.75000006,
          46438980.559999995,
          66593605.25999993,
          49390556.4899999,
          55561147.70000017,
          60085695.93999998,
          76998241.30999984,
          46042461.03999984,
          44955421.950000025,
          42023078.47999996,
          42080996.56000003,
          39834974.670000054,
          46085608.08999996,
          50009407.91999999,
          50197056.95999993,
          45771506.56999987,
          46861034.97000005,
          47480454.110000014,
          46901504.940000065,
          44993794.45000002,
          45272862.01999999,
          53502315.87,
          46629261.409999974,
          45072529.780000016,
          43716798.88999998,
          47124197.930000074,
          46925878.99000018,
          46823939.22000004,
          47892463.30999993,
          48281649.72000005,
          49651171.78000006,
          48412110.70000001,
          47668284.96999992,
          46597112.12000013,
          51253021.87999992,
          46099732.099999964,
          46059543.450000085,
          44097154.970000006,
          47485899.55999997,
          47403451.04000004,
          47354452.05000001,
          47447323.60000003,
          47159639.42999998,
          48330059.30999995,
          44226038.6499999,
          44354547.1100001,
          43734899.40000004,
          47566639.310000025,
          46128514.250000045,
          45122410.57000012,
          45544116.290000014
         ]
        }
       ],
       "layout": {
        "shapes": [
         {
          "opacity": 0.2,
          "type": "line",
          "x0": "2010-11-26T00:00:00",
          "x1": "2010-11-26T00:00:00",
          "y0": [
           "2010-02-05T00:00:00",
           64350,
           127980,
           39599852.990000054,
           0
          ],
          "y1": [
           "2012-10-26T00:00:00",
           67073,
           135801,
           80931415.60000007,
           3021
          ]
         },
         {
          "opacity": 0.2,
          "type": "line",
          "x0": "2011-11-25T00:00:00",
          "x1": "2011-11-25T00:00:00",
          "y0": [
           "2010-02-05T00:00:00",
           64350,
           127980,
           39599852.990000054,
           0
          ],
          "y1": [
           "2012-10-26T00:00:00",
           67073,
           135801,
           80931415.60000007,
           3021
          ]
         },
         {
          "opacity": 0.2,
          "type": "line",
          "x0": "2010-12-25T00:00:00",
          "x1": "2010-12-25T00:00:00",
          "y0": [
           "2010-02-05T00:00:00",
           64350,
           127980,
           39599852.990000054,
           0
          ],
          "y1": [
           "2012-10-26T00:00:00",
           67073,
           135801,
           80931415.60000007,
           3021
          ]
         },
         {
          "opacity": 0.2,
          "type": "line",
          "x0": "2011-12-25T00:00:00",
          "x1": "2011-12-25T00:00:00",
          "y0": [
           "2010-02-05T00:00:00",
           64350,
           127980,
           39599852.990000054,
           0
          ],
          "y1": [
           "2012-10-26T00:00:00",
           67073,
           135801,
           80931415.60000007,
           3021
          ]
         },
         {
          "opacity": 0.2,
          "type": "line",
          "x0": "2010-12-24T00:00:00",
          "x1": "2010-12-24T00:00:00",
          "y0": [
           "2010-02-05T00:00:00",
           64350,
           127980,
           39599852.990000054,
           0
          ],
          "y1": [
           "2012-10-26T00:00:00",
           67073,
           135801,
           80931415.60000007,
           3021
          ]
         },
         {
          "opacity": 0.2,
          "type": "line",
          "x0": "2011-12-24T00:00:00",
          "x1": "2011-12-24T00:00:00",
          "y0": [
           "2010-02-05T00:00:00",
           64350,
           127980,
           39599852.990000054,
           0
          ],
          "y1": [
           "2012-10-26T00:00:00",
           67073,
           135801,
           80931415.60000007,
           3021
          ]
         },
         {
          "opacity": 0.2,
          "type": "line",
          "x0": "2010-04-04T00:00:00",
          "x1": "2010-04-04T00:00:00",
          "y0": [
           "2010-02-05T00:00:00",
           64350,
           127980,
           39599852.990000054,
           0
          ],
          "y1": [
           "2012-10-26T00:00:00",
           67073,
           135801,
           80931415.60000007,
           3021
          ]
         },
         {
          "opacity": 0.2,
          "type": "line",
          "x0": "2011-04-24T00:00:00",
          "x1": "2011-04-24T00:00:00",
          "y0": [
           "2010-02-05T00:00:00",
           64350,
           127980,
           39599852.990000054,
           0
          ],
          "y1": [
           "2012-10-26T00:00:00",
           67073,
           135801,
           80931415.60000007,
           3021
          ]
         },
         {
          "opacity": 0.2,
          "type": "line",
          "x0": "2012-04-08T00:00:00",
          "x1": "2012-04-08T00:00:00",
          "y0": [
           "2010-02-05T00:00:00",
           64350,
           127980,
           39599852.990000054,
           0
          ],
          "y1": [
           "2012-10-26T00:00:00",
           67073,
           135801,
           80931415.60000007,
           3021
          ]
         },
         {
          "opacity": 0.2,
          "type": "line",
          "x0": "2010-06-20T00:00:00",
          "x1": "2010-06-20T00:00:00",
          "y0": [
           "2010-02-05T00:00:00",
           64350,
           127980,
           39599852.990000054,
           0
          ],
          "y1": [
           "2012-10-26T00:00:00",
           67073,
           135801,
           80931415.60000007,
           3021
          ]
         },
         {
          "opacity": 0.2,
          "type": "line",
          "x0": "2011-06-19T00:00:00",
          "x1": "2011-06-19T00:00:00",
          "y0": [
           "2010-02-05T00:00:00",
           64350,
           127980,
           39599852.990000054,
           0
          ],
          "y1": [
           "2012-10-26T00:00:00",
           67073,
           135801,
           80931415.60000007,
           3021
          ]
         },
         {
          "opacity": 0.2,
          "type": "line",
          "x0": "2012-06-17T00:00:00",
          "x1": "2012-06-17T00:00:00",
          "y0": [
           "2010-02-05T00:00:00",
           64350,
           127980,
           39599852.990000054,
           0
          ],
          "y1": [
           "2012-10-26T00:00:00",
           67073,
           135801,
           80931415.60000007,
           3021
          ]
         },
         {
          "opacity": 0.2,
          "type": "line",
          "x0": "2010-10-31T00:00:00",
          "x1": "2010-10-31T00:00:00",
          "y0": [
           "2010-02-05T00:00:00",
           64350,
           127980,
           39599852.990000054,
           0
          ],
          "y1": [
           "2012-10-26T00:00:00",
           67073,
           135801,
           80931415.60000007,
           3021
          ]
         },
         {
          "opacity": 0.2,
          "type": "line",
          "x0": "2011-10-31T00:00:00",
          "x1": "2011-10-31T00:00:00",
          "y0": [
           "2010-02-05T00:00:00",
           64350,
           127980,
           39599852.990000054,
           0
          ],
          "y1": [
           "2012-10-26T00:00:00",
           67073,
           135801,
           80931415.60000007,
           3021
          ]
         },
         {
          "opacity": 0.2,
          "type": "line",
          "x0": "2010-07-04T00:00:00",
          "x1": "2010-07-04T00:00:00",
          "y0": [
           "2010-02-05T00:00:00",
           64350,
           127980,
           39599852.990000054,
           0
          ],
          "y1": [
           "2012-10-26T00:00:00",
           67073,
           135801,
           80931415.60000007,
           3021
          ]
         },
         {
          "opacity": 0.2,
          "type": "line",
          "x0": "2011-07-04T00:00:00",
          "x1": "2011-07-04T00:00:00",
          "y0": [
           "2010-02-05T00:00:00",
           64350,
           127980,
           39599852.990000054,
           0
          ],
          "y1": [
           "2012-10-26T00:00:00",
           67073,
           135801,
           80931415.60000007,
           3021
          ]
         },
         {
          "opacity": 0.2,
          "type": "line",
          "x0": "2012-07-04T00:00:00",
          "x1": "2012-07-04T00:00:00",
          "y0": [
           "2010-02-05T00:00:00",
           64350,
           127980,
           39599852.990000054,
           0
          ],
          "y1": [
           "2012-10-26T00:00:00",
           67073,
           135801,
           80931415.60000007,
           3021
          ]
         },
         {
          "opacity": 0.2,
          "type": "line",
          "x0": "2010-09-06T00:00:00",
          "x1": "2010-09-06T00:00:00",
          "y0": [
           "2010-02-05T00:00:00",
           64350,
           127980,
           39599852.990000054,
           0
          ],
          "y1": [
           "2012-10-26T00:00:00",
           67073,
           135801,
           80931415.60000007,
           3021
          ]
         },
         {
          "opacity": 0.2,
          "type": "line",
          "x0": "2011-09-05T00:00:00",
          "x1": "2011-09-05T00:00:00",
          "y0": [
           "2010-02-05T00:00:00",
           64350,
           127980,
           39599852.990000054,
           0
          ],
          "y1": [
           "2012-10-26T00:00:00",
           67073,
           135801,
           80931415.60000007,
           3021
          ]
         },
         {
          "opacity": 0.2,
          "type": "line",
          "x0": "2012-09-03T00:00:00",
          "x1": "2012-09-03T00:00:00",
          "y0": [
           "2010-02-05T00:00:00",
           64350,
           127980,
           39599852.990000054,
           0
          ],
          "y1": [
           "2012-10-26T00:00:00",
           67073,
           135801,
           80931415.60000007,
           3021
          ]
         },
         {
          "opacity": 0.2,
          "type": "line",
          "x0": "2010-05-31T00:00:00",
          "x1": "2010-05-31T00:00:00",
          "y0": [
           "2010-02-05T00:00:00",
           64350,
           127980,
           39599852.990000054,
           0
          ],
          "y1": [
           "2012-10-26T00:00:00",
           67073,
           135801,
           80931415.60000007,
           3021
          ]
         },
         {
          "opacity": 0.2,
          "type": "line",
          "x0": "2011-05-30T00:00:00",
          "x1": "2011-05-30T00:00:00",
          "y0": [
           "2010-02-05T00:00:00",
           64350,
           127980,
           39599852.990000054,
           0
          ],
          "y1": [
           "2012-10-26T00:00:00",
           67073,
           135801,
           80931415.60000007,
           3021
          ]
         },
         {
          "opacity": 0.2,
          "type": "line",
          "x0": "2012-05-28T00:00:00",
          "x1": "2012-05-28T00:00:00",
          "y0": [
           "2010-02-05T00:00:00",
           64350,
           127980,
           39599852.990000054,
           0
          ],
          "y1": [
           "2012-10-26T00:00:00",
           67073,
           135801,
           80931415.60000007,
           3021
          ]
         },
         {
          "opacity": 0.2,
          "type": "line",
          "x0": "2010-05-09T00:00:00",
          "x1": "2010-05-09T00:00:00",
          "y0": [
           "2010-02-05T00:00:00",
           64350,
           127980,
           39599852.990000054,
           0
          ],
          "y1": [
           "2012-10-26T00:00:00",
           67073,
           135801,
           80931415.60000007,
           3021
          ]
         },
         {
          "opacity": 0.2,
          "type": "line",
          "x0": "2011-05-08T00:00:00",
          "x1": "2011-05-08T00:00:00",
          "y0": [
           "2010-02-05T00:00:00",
           64350,
           127980,
           39599852.990000054,
           0
          ],
          "y1": [
           "2012-10-26T00:00:00",
           67073,
           135801,
           80931415.60000007,
           3021
          ]
         },
         {
          "opacity": 0.2,
          "type": "line",
          "x0": "2012-05-13T00:00:00",
          "x1": "2012-05-13T00:00:00",
          "y0": [
           "2010-02-05T00:00:00",
           64350,
           127980,
           39599852.990000054,
           0
          ],
          "y1": [
           "2012-10-26T00:00:00",
           67073,
           135801,
           80931415.60000007,
           3021
          ]
         },
         {
          "opacity": 0.2,
          "type": "line",
          "x0": "2010-01-01T00:00:00",
          "x1": "2010-01-01T00:00:00",
          "y0": [
           "2010-02-05T00:00:00",
           64350,
           127980,
           39599852.990000054,
           0
          ],
          "y1": [
           "2012-10-26T00:00:00",
           67073,
           135801,
           80931415.60000007,
           3021
          ]
         },
         {
          "opacity": 0.2,
          "type": "line",
          "x0": "2011-01-01T00:00:00",
          "x1": "2011-01-01T00:00:00",
          "y0": [
           "2010-02-05T00:00:00",
           64350,
           127980,
           39599852.990000054,
           0
          ],
          "y1": [
           "2012-10-26T00:00:00",
           67073,
           135801,
           80931415.60000007,
           3021
          ]
         },
         {
          "opacity": 0.2,
          "type": "line",
          "x0": "2012-01-01T00:00:00",
          "x1": "2012-01-01T00:00:00",
          "y0": [
           "2010-02-05T00:00:00",
           64350,
           127980,
           39599852.990000054,
           0
          ],
          "y1": [
           "2012-10-26T00:00:00",
           67073,
           135801,
           80931415.60000007,
           3021
          ]
         },
         {
          "opacity": 0.2,
          "type": "line",
          "x0": "2010-03-17T00:00:00",
          "x1": "2010-03-17T00:00:00",
          "y0": [
           "2010-02-05T00:00:00",
           64350,
           127980,
           39599852.990000054,
           0
          ],
          "y1": [
           "2012-10-26T00:00:00",
           67073,
           135801,
           80931415.60000007,
           3021
          ]
         },
         {
          "opacity": 0.2,
          "type": "line",
          "x0": "2011-03-17T00:00:00",
          "x1": "2011-03-17T00:00:00",
          "y0": [
           "2010-02-05T00:00:00",
           64350,
           127980,
           39599852.990000054,
           0
          ],
          "y1": [
           "2012-10-26T00:00:00",
           67073,
           135801,
           80931415.60000007,
           3021
          ]
         },
         {
          "opacity": 0.2,
          "type": "line",
          "x0": "2012-03-17T00:00:00",
          "x1": "2012-03-17T00:00:00",
          "y0": [
           "2010-02-05T00:00:00",
           64350,
           127980,
           39599852.990000054,
           0
          ],
          "y1": [
           "2012-10-26T00:00:00",
           67073,
           135801,
           80931415.60000007,
           3021
          ]
         },
         {
          "opacity": 0.2,
          "type": "line",
          "x0": "2010-11-25T00:00:00",
          "x1": "2010-11-25T00:00:00",
          "y0": [
           "2010-02-05T00:00:00",
           64350,
           127980,
           39599852.990000054,
           0
          ],
          "y1": [
           "2012-10-26T00:00:00",
           67073,
           135801,
           80931415.60000007,
           3021
          ]
         },
         {
          "opacity": 0.2,
          "type": "line",
          "x0": "2011-11-24T00:00:00",
          "x1": "2011-11-24T00:00:00",
          "y0": [
           "2010-02-05T00:00:00",
           64350,
           127980,
           39599852.990000054,
           0
          ],
          "y1": [
           "2012-10-26T00:00:00",
           67073,
           135801,
           80931415.60000007,
           3021
          ]
         },
         {
          "opacity": 0.2,
          "type": "line",
          "x0": "2010-02-14T00:00:00",
          "x1": "2010-02-14T00:00:00",
          "y0": [
           "2010-02-05T00:00:00",
           64350,
           127980,
           39599852.990000054,
           0
          ],
          "y1": [
           "2012-10-26T00:00:00",
           67073,
           135801,
           80931415.60000007,
           3021
          ]
         },
         {
          "opacity": 0.2,
          "type": "line",
          "x0": "2011-02-14T00:00:00",
          "x1": "2011-02-14T00:00:00",
          "y0": [
           "2010-02-05T00:00:00",
           64350,
           127980,
           39599852.990000054,
           0
          ],
          "y1": [
           "2012-10-26T00:00:00",
           67073,
           135801,
           80931415.60000007,
           3021
          ]
         },
         {
          "opacity": 0.2,
          "type": "line",
          "x0": "2012-02-14T00:00:00",
          "x1": "2012-02-14T00:00:00",
          "y0": [
           "2010-02-05T00:00:00",
           64350,
           127980,
           39599852.990000054,
           0
          ],
          "y1": [
           "2012-10-26T00:00:00",
           67073,
           135801,
           80931415.60000007,
           3021
          ]
         },
         {
          "opacity": 0.2,
          "type": "line",
          "x0": "2010-11-11T00:00:00",
          "x1": "2010-11-11T00:00:00",
          "y0": [
           "2010-02-05T00:00:00",
           64350,
           127980,
           39599852.990000054,
           0
          ],
          "y1": [
           "2012-10-26T00:00:00",
           67073,
           135801,
           80931415.60000007,
           3021
          ]
         },
         {
          "opacity": 0.2,
          "type": "line",
          "x0": "2011-11-11T00:00:00",
          "x1": "2011-11-11T00:00:00",
          "y0": [
           "2010-02-05T00:00:00",
           64350,
           127980,
           39599852.990000054,
           0
          ],
          "y1": [
           "2012-10-26T00:00:00",
           67073,
           135801,
           80931415.60000007,
           3021
          ]
         },
         {
          "opacity": 0.2,
          "type": "line",
          "x0": "2010-02-07T00:00:00",
          "x1": "2010-02-07T00:00:00",
          "y0": [
           "2010-02-05T00:00:00",
           64350,
           127980,
           39599852.990000054,
           0
          ],
          "y1": [
           "2012-10-26T00:00:00",
           67073,
           135801,
           80931415.60000007,
           3021
          ]
         },
         {
          "opacity": 0.2,
          "type": "line",
          "x0": "2011-02-06T00:00:00",
          "x1": "2011-02-06T00:00:00",
          "y0": [
           "2010-02-05T00:00:00",
           64350,
           127980,
           39599852.990000054,
           0
          ],
          "y1": [
           "2012-10-26T00:00:00",
           67073,
           135801,
           80931415.60000007,
           3021
          ]
         },
         {
          "opacity": 0.2,
          "type": "line",
          "x0": "2012-02-05T00:00:00",
          "x1": "2012-02-05T00:00:00",
          "y0": [
           "2010-02-05T00:00:00",
           64350,
           127980,
           39599852.990000054,
           0
          ],
          "y1": [
           "2012-10-26T00:00:00",
           67073,
           135801,
           80931415.60000007,
           3021
          ]
         }
        ],
        "template": {
         "data": {
          "bar": [
           {
            "error_x": {
             "color": "#2a3f5f"
            },
            "error_y": {
             "color": "#2a3f5f"
            },
            "marker": {
             "line": {
              "color": "#E5ECF6",
              "width": 0.5
             }
            },
            "type": "bar"
           }
          ],
          "barpolar": [
           {
            "marker": {
             "line": {
              "color": "#E5ECF6",
              "width": 0.5
             }
            },
            "type": "barpolar"
           }
          ],
          "carpet": [
           {
            "aaxis": {
             "endlinecolor": "#2a3f5f",
             "gridcolor": "white",
             "linecolor": "white",
             "minorgridcolor": "white",
             "startlinecolor": "#2a3f5f"
            },
            "baxis": {
             "endlinecolor": "#2a3f5f",
             "gridcolor": "white",
             "linecolor": "white",
             "minorgridcolor": "white",
             "startlinecolor": "#2a3f5f"
            },
            "type": "carpet"
           }
          ],
          "choropleth": [
           {
            "colorbar": {
             "outlinewidth": 0,
             "ticks": ""
            },
            "type": "choropleth"
           }
          ],
          "contour": [
           {
            "colorbar": {
             "outlinewidth": 0,
             "ticks": ""
            },
            "colorscale": [
             [
              0,
              "#0d0887"
             ],
             [
              0.1111111111111111,
              "#46039f"
             ],
             [
              0.2222222222222222,
              "#7201a8"
             ],
             [
              0.3333333333333333,
              "#9c179e"
             ],
             [
              0.4444444444444444,
              "#bd3786"
             ],
             [
              0.5555555555555556,
              "#d8576b"
             ],
             [
              0.6666666666666666,
              "#ed7953"
             ],
             [
              0.7777777777777778,
              "#fb9f3a"
             ],
             [
              0.8888888888888888,
              "#fdca26"
             ],
             [
              1,
              "#f0f921"
             ]
            ],
            "type": "contour"
           }
          ],
          "contourcarpet": [
           {
            "colorbar": {
             "outlinewidth": 0,
             "ticks": ""
            },
            "type": "contourcarpet"
           }
          ],
          "heatmap": [
           {
            "colorbar": {
             "outlinewidth": 0,
             "ticks": ""
            },
            "colorscale": [
             [
              0,
              "#0d0887"
             ],
             [
              0.1111111111111111,
              "#46039f"
             ],
             [
              0.2222222222222222,
              "#7201a8"
             ],
             [
              0.3333333333333333,
              "#9c179e"
             ],
             [
              0.4444444444444444,
              "#bd3786"
             ],
             [
              0.5555555555555556,
              "#d8576b"
             ],
             [
              0.6666666666666666,
              "#ed7953"
             ],
             [
              0.7777777777777778,
              "#fb9f3a"
             ],
             [
              0.8888888888888888,
              "#fdca26"
             ],
             [
              1,
              "#f0f921"
             ]
            ],
            "type": "heatmap"
           }
          ],
          "heatmapgl": [
           {
            "colorbar": {
             "outlinewidth": 0,
             "ticks": ""
            },
            "colorscale": [
             [
              0,
              "#0d0887"
             ],
             [
              0.1111111111111111,
              "#46039f"
             ],
             [
              0.2222222222222222,
              "#7201a8"
             ],
             [
              0.3333333333333333,
              "#9c179e"
             ],
             [
              0.4444444444444444,
              "#bd3786"
             ],
             [
              0.5555555555555556,
              "#d8576b"
             ],
             [
              0.6666666666666666,
              "#ed7953"
             ],
             [
              0.7777777777777778,
              "#fb9f3a"
             ],
             [
              0.8888888888888888,
              "#fdca26"
             ],
             [
              1,
              "#f0f921"
             ]
            ],
            "type": "heatmapgl"
           }
          ],
          "histogram": [
           {
            "marker": {
             "colorbar": {
              "outlinewidth": 0,
              "ticks": ""
             }
            },
            "type": "histogram"
           }
          ],
          "histogram2d": [
           {
            "colorbar": {
             "outlinewidth": 0,
             "ticks": ""
            },
            "colorscale": [
             [
              0,
              "#0d0887"
             ],
             [
              0.1111111111111111,
              "#46039f"
             ],
             [
              0.2222222222222222,
              "#7201a8"
             ],
             [
              0.3333333333333333,
              "#9c179e"
             ],
             [
              0.4444444444444444,
              "#bd3786"
             ],
             [
              0.5555555555555556,
              "#d8576b"
             ],
             [
              0.6666666666666666,
              "#ed7953"
             ],
             [
              0.7777777777777778,
              "#fb9f3a"
             ],
             [
              0.8888888888888888,
              "#fdca26"
             ],
             [
              1,
              "#f0f921"
             ]
            ],
            "type": "histogram2d"
           }
          ],
          "histogram2dcontour": [
           {
            "colorbar": {
             "outlinewidth": 0,
             "ticks": ""
            },
            "colorscale": [
             [
              0,
              "#0d0887"
             ],
             [
              0.1111111111111111,
              "#46039f"
             ],
             [
              0.2222222222222222,
              "#7201a8"
             ],
             [
              0.3333333333333333,
              "#9c179e"
             ],
             [
              0.4444444444444444,
              "#bd3786"
             ],
             [
              0.5555555555555556,
              "#d8576b"
             ],
             [
              0.6666666666666666,
              "#ed7953"
             ],
             [
              0.7777777777777778,
              "#fb9f3a"
             ],
             [
              0.8888888888888888,
              "#fdca26"
             ],
             [
              1,
              "#f0f921"
             ]
            ],
            "type": "histogram2dcontour"
           }
          ],
          "mesh3d": [
           {
            "colorbar": {
             "outlinewidth": 0,
             "ticks": ""
            },
            "type": "mesh3d"
           }
          ],
          "parcoords": [
           {
            "line": {
             "colorbar": {
              "outlinewidth": 0,
              "ticks": ""
             }
            },
            "type": "parcoords"
           }
          ],
          "pie": [
           {
            "automargin": true,
            "type": "pie"
           }
          ],
          "scatter": [
           {
            "marker": {
             "colorbar": {
              "outlinewidth": 0,
              "ticks": ""
             }
            },
            "type": "scatter"
           }
          ],
          "scatter3d": [
           {
            "line": {
             "colorbar": {
              "outlinewidth": 0,
              "ticks": ""
             }
            },
            "marker": {
             "colorbar": {
              "outlinewidth": 0,
              "ticks": ""
             }
            },
            "type": "scatter3d"
           }
          ],
          "scattercarpet": [
           {
            "marker": {
             "colorbar": {
              "outlinewidth": 0,
              "ticks": ""
             }
            },
            "type": "scattercarpet"
           }
          ],
          "scattergeo": [
           {
            "marker": {
             "colorbar": {
              "outlinewidth": 0,
              "ticks": ""
             }
            },
            "type": "scattergeo"
           }
          ],
          "scattergl": [
           {
            "marker": {
             "colorbar": {
              "outlinewidth": 0,
              "ticks": ""
             }
            },
            "type": "scattergl"
           }
          ],
          "scattermapbox": [
           {
            "marker": {
             "colorbar": {
              "outlinewidth": 0,
              "ticks": ""
             }
            },
            "type": "scattermapbox"
           }
          ],
          "scatterpolar": [
           {
            "marker": {
             "colorbar": {
              "outlinewidth": 0,
              "ticks": ""
             }
            },
            "type": "scatterpolar"
           }
          ],
          "scatterpolargl": [
           {
            "marker": {
             "colorbar": {
              "outlinewidth": 0,
              "ticks": ""
             }
            },
            "type": "scatterpolargl"
           }
          ],
          "scatterternary": [
           {
            "marker": {
             "colorbar": {
              "outlinewidth": 0,
              "ticks": ""
             }
            },
            "type": "scatterternary"
           }
          ],
          "surface": [
           {
            "colorbar": {
             "outlinewidth": 0,
             "ticks": ""
            },
            "colorscale": [
             [
              0,
              "#0d0887"
             ],
             [
              0.1111111111111111,
              "#46039f"
             ],
             [
              0.2222222222222222,
              "#7201a8"
             ],
             [
              0.3333333333333333,
              "#9c179e"
             ],
             [
              0.4444444444444444,
              "#bd3786"
             ],
             [
              0.5555555555555556,
              "#d8576b"
             ],
             [
              0.6666666666666666,
              "#ed7953"
             ],
             [
              0.7777777777777778,
              "#fb9f3a"
             ],
             [
              0.8888888888888888,
              "#fdca26"
             ],
             [
              1,
              "#f0f921"
             ]
            ],
            "type": "surface"
           }
          ],
          "table": [
           {
            "cells": {
             "fill": {
              "color": "#EBF0F8"
             },
             "line": {
              "color": "white"
             }
            },
            "header": {
             "fill": {
              "color": "#C8D4E3"
             },
             "line": {
              "color": "white"
             }
            },
            "type": "table"
           }
          ]
         },
         "layout": {
          "annotationdefaults": {
           "arrowcolor": "#2a3f5f",
           "arrowhead": 0,
           "arrowwidth": 1
          },
          "coloraxis": {
           "colorbar": {
            "outlinewidth": 0,
            "ticks": ""
           }
          },
          "colorscale": {
           "diverging": [
            [
             0,
             "#8e0152"
            ],
            [
             0.1,
             "#c51b7d"
            ],
            [
             0.2,
             "#de77ae"
            ],
            [
             0.3,
             "#f1b6da"
            ],
            [
             0.4,
             "#fde0ef"
            ],
            [
             0.5,
             "#f7f7f7"
            ],
            [
             0.6,
             "#e6f5d0"
            ],
            [
             0.7,
             "#b8e186"
            ],
            [
             0.8,
             "#7fbc41"
            ],
            [
             0.9,
             "#4d9221"
            ],
            [
             1,
             "#276419"
            ]
           ],
           "sequential": [
            [
             0,
             "#0d0887"
            ],
            [
             0.1111111111111111,
             "#46039f"
            ],
            [
             0.2222222222222222,
             "#7201a8"
            ],
            [
             0.3333333333333333,
             "#9c179e"
            ],
            [
             0.4444444444444444,
             "#bd3786"
            ],
            [
             0.5555555555555556,
             "#d8576b"
            ],
            [
             0.6666666666666666,
             "#ed7953"
            ],
            [
             0.7777777777777778,
             "#fb9f3a"
            ],
            [
             0.8888888888888888,
             "#fdca26"
            ],
            [
             1,
             "#f0f921"
            ]
           ],
           "sequentialminus": [
            [
             0,
             "#0d0887"
            ],
            [
             0.1111111111111111,
             "#46039f"
            ],
            [
             0.2222222222222222,
             "#7201a8"
            ],
            [
             0.3333333333333333,
             "#9c179e"
            ],
            [
             0.4444444444444444,
             "#bd3786"
            ],
            [
             0.5555555555555556,
             "#d8576b"
            ],
            [
             0.6666666666666666,
             "#ed7953"
            ],
            [
             0.7777777777777778,
             "#fb9f3a"
            ],
            [
             0.8888888888888888,
             "#fdca26"
            ],
            [
             1,
             "#f0f921"
            ]
           ]
          },
          "colorway": [
           "#636efa",
           "#EF553B",
           "#00cc96",
           "#ab63fa",
           "#FFA15A",
           "#19d3f3",
           "#FF6692",
           "#B6E880",
           "#FF97FF",
           "#FECB52"
          ],
          "font": {
           "color": "#2a3f5f"
          },
          "geo": {
           "bgcolor": "white",
           "lakecolor": "white",
           "landcolor": "#E5ECF6",
           "showlakes": true,
           "showland": true,
           "subunitcolor": "white"
          },
          "hoverlabel": {
           "align": "left"
          },
          "hovermode": "closest",
          "mapbox": {
           "style": "light"
          },
          "paper_bgcolor": "white",
          "plot_bgcolor": "#E5ECF6",
          "polar": {
           "angularaxis": {
            "gridcolor": "white",
            "linecolor": "white",
            "ticks": ""
           },
           "bgcolor": "#E5ECF6",
           "radialaxis": {
            "gridcolor": "white",
            "linecolor": "white",
            "ticks": ""
           }
          },
          "scene": {
           "xaxis": {
            "backgroundcolor": "#E5ECF6",
            "gridcolor": "white",
            "gridwidth": 2,
            "linecolor": "white",
            "showbackground": true,
            "ticks": "",
            "zerolinecolor": "white"
           },
           "yaxis": {
            "backgroundcolor": "#E5ECF6",
            "gridcolor": "white",
            "gridwidth": 2,
            "linecolor": "white",
            "showbackground": true,
            "ticks": "",
            "zerolinecolor": "white"
           },
           "zaxis": {
            "backgroundcolor": "#E5ECF6",
            "gridcolor": "white",
            "gridwidth": 2,
            "linecolor": "white",
            "showbackground": true,
            "ticks": "",
            "zerolinecolor": "white"
           }
          },
          "shapedefaults": {
           "line": {
            "color": "#2a3f5f"
           }
          },
          "ternary": {
           "aaxis": {
            "gridcolor": "white",
            "linecolor": "white",
            "ticks": ""
           },
           "baxis": {
            "gridcolor": "white",
            "linecolor": "white",
            "ticks": ""
           },
           "bgcolor": "#E5ECF6",
           "caxis": {
            "gridcolor": "white",
            "linecolor": "white",
            "ticks": ""
           }
          },
          "title": {
           "x": 0.05
          },
          "xaxis": {
           "automargin": true,
           "gridcolor": "white",
           "linecolor": "white",
           "ticks": "",
           "title": {
            "standoff": 15
           },
           "zerolinecolor": "white",
           "zerolinewidth": 2
          },
          "yaxis": {
           "automargin": true,
           "gridcolor": "white",
           "linecolor": "white",
           "ticks": "",
           "title": {
            "standoff": 15
           },
           "zerolinecolor": "white",
           "zerolinewidth": 2
          }
         }
        },
        "title": {
         "text": "Total Weekly Sales with All Holiday Markers",
         "x": 0.5,
         "xanchor": "center",
         "y": 0.9,
         "yanchor": "top"
        }
       }
      },
      "text/html": [
       "<div>\n",
       "        \n",
       "        \n",
       "            <div id=\"bf91a9b2-231f-4d2c-9397-edbd6f461b60\" class=\"plotly-graph-div\" style=\"height:525px; width:100%;\"></div>\n",
       "            <script type=\"text/javascript\">\n",
       "                require([\"plotly\"], function(Plotly) {\n",
       "                    window.PLOTLYENV=window.PLOTLYENV || {};\n",
       "                    \n",
       "                if (document.getElementById(\"bf91a9b2-231f-4d2c-9397-edbd6f461b60\")) {\n",
       "                    Plotly.newPlot(\n",
       "                        'bf91a9b2-231f-4d2c-9397-edbd6f461b60',\n",
       "                        [{\"name\": \"Weekly_Sales\", \"type\": \"scatter\", \"x\": [\"2010-02-05T00:00:00\", \"2010-02-12T00:00:00\", \"2010-02-19T00:00:00\", \"2010-02-26T00:00:00\", \"2010-03-05T00:00:00\", \"2010-03-12T00:00:00\", \"2010-03-19T00:00:00\", \"2010-03-26T00:00:00\", \"2010-04-02T00:00:00\", \"2010-04-09T00:00:00\", \"2010-04-16T00:00:00\", \"2010-04-23T00:00:00\", \"2010-04-30T00:00:00\", \"2010-05-07T00:00:00\", \"2010-05-14T00:00:00\", \"2010-05-21T00:00:00\", \"2010-05-28T00:00:00\", \"2010-06-04T00:00:00\", \"2010-06-11T00:00:00\", \"2010-06-18T00:00:00\", \"2010-06-25T00:00:00\", \"2010-07-02T00:00:00\", \"2010-07-09T00:00:00\", \"2010-07-16T00:00:00\", \"2010-07-23T00:00:00\", \"2010-07-30T00:00:00\", \"2010-08-06T00:00:00\", \"2010-08-13T00:00:00\", \"2010-08-20T00:00:00\", \"2010-08-27T00:00:00\", \"2010-09-03T00:00:00\", \"2010-09-10T00:00:00\", \"2010-09-17T00:00:00\", \"2010-09-24T00:00:00\", \"2010-10-01T00:00:00\", \"2010-10-08T00:00:00\", \"2010-10-15T00:00:00\", \"2010-10-22T00:00:00\", \"2010-10-29T00:00:00\", \"2010-11-05T00:00:00\", \"2010-11-12T00:00:00\", \"2010-11-19T00:00:00\", \"2010-11-26T00:00:00\", \"2010-12-03T00:00:00\", \"2010-12-10T00:00:00\", \"2010-12-17T00:00:00\", \"2010-12-24T00:00:00\", \"2010-12-31T00:00:00\", \"2011-01-07T00:00:00\", \"2011-01-14T00:00:00\", \"2011-01-21T00:00:00\", \"2011-01-28T00:00:00\", \"2011-02-04T00:00:00\", \"2011-02-11T00:00:00\", \"2011-02-18T00:00:00\", \"2011-02-25T00:00:00\", \"2011-03-04T00:00:00\", \"2011-03-11T00:00:00\", \"2011-03-18T00:00:00\", \"2011-03-25T00:00:00\", \"2011-04-01T00:00:00\", \"2011-04-08T00:00:00\", \"2011-04-15T00:00:00\", \"2011-04-22T00:00:00\", \"2011-04-29T00:00:00\", \"2011-05-06T00:00:00\", \"2011-05-13T00:00:00\", \"2011-05-20T00:00:00\", \"2011-05-27T00:00:00\", \"2011-06-03T00:00:00\", \"2011-06-10T00:00:00\", \"2011-06-17T00:00:00\", \"2011-06-24T00:00:00\", \"2011-07-01T00:00:00\", \"2011-07-08T00:00:00\", \"2011-07-15T00:00:00\", \"2011-07-22T00:00:00\", \"2011-07-29T00:00:00\", \"2011-08-05T00:00:00\", \"2011-08-12T00:00:00\", \"2011-08-19T00:00:00\", \"2011-08-26T00:00:00\", \"2011-09-02T00:00:00\", \"2011-09-09T00:00:00\", \"2011-09-16T00:00:00\", \"2011-09-23T00:00:00\", \"2011-09-30T00:00:00\", \"2011-10-07T00:00:00\", \"2011-10-14T00:00:00\", \"2011-10-21T00:00:00\", \"2011-10-28T00:00:00\", \"2011-11-04T00:00:00\", \"2011-11-11T00:00:00\", \"2011-11-18T00:00:00\", \"2011-11-25T00:00:00\", \"2011-12-02T00:00:00\", \"2011-12-09T00:00:00\", \"2011-12-16T00:00:00\", \"2011-12-23T00:00:00\", \"2011-12-30T00:00:00\", \"2012-01-06T00:00:00\", \"2012-01-13T00:00:00\", \"2012-01-20T00:00:00\", \"2012-01-27T00:00:00\", \"2012-02-03T00:00:00\", \"2012-02-10T00:00:00\", \"2012-02-17T00:00:00\", \"2012-02-24T00:00:00\", \"2012-03-02T00:00:00\", \"2012-03-09T00:00:00\", \"2012-03-16T00:00:00\", \"2012-03-23T00:00:00\", \"2012-03-30T00:00:00\", \"2012-04-06T00:00:00\", \"2012-04-13T00:00:00\", \"2012-04-20T00:00:00\", \"2012-04-27T00:00:00\", \"2012-05-04T00:00:00\", \"2012-05-11T00:00:00\", \"2012-05-18T00:00:00\", \"2012-05-25T00:00:00\", \"2012-06-01T00:00:00\", \"2012-06-08T00:00:00\", \"2012-06-15T00:00:00\", \"2012-06-22T00:00:00\", \"2012-06-29T00:00:00\", \"2012-07-06T00:00:00\", \"2012-07-13T00:00:00\", \"2012-07-20T00:00:00\", \"2012-07-27T00:00:00\", \"2012-08-03T00:00:00\", \"2012-08-10T00:00:00\", \"2012-08-17T00:00:00\", \"2012-08-24T00:00:00\", \"2012-08-31T00:00:00\", \"2012-09-07T00:00:00\", \"2012-09-14T00:00:00\", \"2012-09-21T00:00:00\", \"2012-09-28T00:00:00\", \"2012-10-05T00:00:00\", \"2012-10-12T00:00:00\", \"2012-10-19T00:00:00\", \"2012-10-26T00:00:00\"], \"y\": [49750740.49999988, 48336677.63000006, 48276993.78000006, 43968571.12999993, 46871470.3, 45925396.50999998, 44988974.64000006, 44133961.050000034, 50423831.260000035, 47365290.440000035, 45183667.080000006, 44734452.56000002, 43705126.709999874, 48503243.51999991, 45330080.19999999, 45120108.05999994, 47757502.56000001, 50188543.119999915, 47826546.72000009, 47622046.22999998, 46609036.29000002, 48917484.50000017, 47899529.37000009, 46243899.57999996, 44888849.109999955, 44630363.41999992, 48204999.11999994, 46464418.40999996, 47060952.919999994, 45909740.44000011, 47194257.61, 45634397.840000056, 43080726.50999983, 41358514.41000003, 42239875.86999992, 45102974.229999974, 43149473.45000014, 43066669.51999998, 43602830.94999994, 45781981.89, 46124800.829999916, 45125584.18000006, 65821003.240000084, 49909027.88000007, 55666770.389999814, 61820799.85, 80931415.60000007, 40432519.000000075, 42775787.76999989, 40673678.039999954, 40654648.029999994, 39599852.990000054, 46153111.12, 47336192.78999979, 48716164.119999975, 44125859.84000007, 46980603.73999991, 44627319.39999998, 44872325.97000003, 42876199.18000005, 43458991.190000035, 45887466.799999945, 44973328.14000003, 48676692.05999989, 43530032.77999999, 46861958.2900002, 45446144.81999999, 44046598.01000008, 45293457.03999987, 48771994.18000002, 47669734.66000002, 47447561.77000003, 45884094.579999946, 47578519.50000006, 47859263.78, 45515929.91999994, 45274411.39000012, 43683274.27999995, 48015466.97000004, 46249569.2100001, 46917347.61999986, 47416948.45000011, 45376623.26999996, 46763227.53000005, 43793960.07999998, 42718096.7299999, 42195830.80999997, 47211688.36000014, 44374820.29999992, 45818953.43999992, 45855821.05000005, 48655544.3000002, 48474224.75000006, 46438980.559999995, 66593605.25999993, 49390556.4899999, 55561147.70000017, 60085695.93999998, 76998241.30999984, 46042461.03999984, 44955421.950000025, 42023078.47999996, 42080996.56000003, 39834974.670000054, 46085608.08999996, 50009407.91999999, 50197056.95999993, 45771506.56999987, 46861034.97000005, 47480454.110000014, 46901504.940000065, 44993794.45000002, 45272862.01999999, 53502315.87, 46629261.409999974, 45072529.780000016, 43716798.88999998, 47124197.930000074, 46925878.99000018, 46823939.22000004, 47892463.30999993, 48281649.72000005, 49651171.78000006, 48412110.70000001, 47668284.96999992, 46597112.12000013, 51253021.87999992, 46099732.099999964, 46059543.450000085, 44097154.970000006, 47485899.55999997, 47403451.04000004, 47354452.05000001, 47447323.60000003, 47159639.42999998, 48330059.30999995, 44226038.6499999, 44354547.1100001, 43734899.40000004, 47566639.310000025, 46128514.250000045, 45122410.57000012, 45544116.290000014]}],\n",
       "                        {\"shapes\": [{\"opacity\": 0.2, \"type\": \"line\", \"x0\": \"2010-11-26T00:00:00\", \"x1\": \"2010-11-26T00:00:00\", \"y0\": [\"2010-02-05T00:00:00\", 64350, 127980, 39599852.990000054, 0.0], \"y1\": [\"2012-10-26T00:00:00\", 67073, 135801, 80931415.60000007, 3021.0]}, {\"opacity\": 0.2, \"type\": \"line\", \"x0\": \"2011-11-25T00:00:00\", \"x1\": \"2011-11-25T00:00:00\", \"y0\": [\"2010-02-05T00:00:00\", 64350, 127980, 39599852.990000054, 0.0], \"y1\": [\"2012-10-26T00:00:00\", 67073, 135801, 80931415.60000007, 3021.0]}, {\"opacity\": 0.2, \"type\": \"line\", \"x0\": \"2010-12-25T00:00:00\", \"x1\": \"2010-12-25T00:00:00\", \"y0\": [\"2010-02-05T00:00:00\", 64350, 127980, 39599852.990000054, 0.0], \"y1\": [\"2012-10-26T00:00:00\", 67073, 135801, 80931415.60000007, 3021.0]}, {\"opacity\": 0.2, \"type\": \"line\", \"x0\": \"2011-12-25T00:00:00\", \"x1\": \"2011-12-25T00:00:00\", \"y0\": [\"2010-02-05T00:00:00\", 64350, 127980, 39599852.990000054, 0.0], \"y1\": [\"2012-10-26T00:00:00\", 67073, 135801, 80931415.60000007, 3021.0]}, {\"opacity\": 0.2, \"type\": \"line\", \"x0\": \"2010-12-24T00:00:00\", \"x1\": \"2010-12-24T00:00:00\", \"y0\": [\"2010-02-05T00:00:00\", 64350, 127980, 39599852.990000054, 0.0], \"y1\": [\"2012-10-26T00:00:00\", 67073, 135801, 80931415.60000007, 3021.0]}, {\"opacity\": 0.2, \"type\": \"line\", \"x0\": \"2011-12-24T00:00:00\", \"x1\": \"2011-12-24T00:00:00\", \"y0\": [\"2010-02-05T00:00:00\", 64350, 127980, 39599852.990000054, 0.0], \"y1\": [\"2012-10-26T00:00:00\", 67073, 135801, 80931415.60000007, 3021.0]}, {\"opacity\": 0.2, \"type\": \"line\", \"x0\": \"2010-04-04T00:00:00\", \"x1\": \"2010-04-04T00:00:00\", \"y0\": [\"2010-02-05T00:00:00\", 64350, 127980, 39599852.990000054, 0.0], \"y1\": [\"2012-10-26T00:00:00\", 67073, 135801, 80931415.60000007, 3021.0]}, {\"opacity\": 0.2, \"type\": \"line\", \"x0\": \"2011-04-24T00:00:00\", \"x1\": \"2011-04-24T00:00:00\", \"y0\": [\"2010-02-05T00:00:00\", 64350, 127980, 39599852.990000054, 0.0], \"y1\": [\"2012-10-26T00:00:00\", 67073, 135801, 80931415.60000007, 3021.0]}, {\"opacity\": 0.2, \"type\": \"line\", \"x0\": \"2012-04-08T00:00:00\", \"x1\": \"2012-04-08T00:00:00\", \"y0\": [\"2010-02-05T00:00:00\", 64350, 127980, 39599852.990000054, 0.0], \"y1\": [\"2012-10-26T00:00:00\", 67073, 135801, 80931415.60000007, 3021.0]}, {\"opacity\": 0.2, \"type\": \"line\", \"x0\": \"2010-06-20T00:00:00\", \"x1\": \"2010-06-20T00:00:00\", \"y0\": [\"2010-02-05T00:00:00\", 64350, 127980, 39599852.990000054, 0.0], \"y1\": [\"2012-10-26T00:00:00\", 67073, 135801, 80931415.60000007, 3021.0]}, {\"opacity\": 0.2, \"type\": \"line\", \"x0\": \"2011-06-19T00:00:00\", \"x1\": \"2011-06-19T00:00:00\", \"y0\": [\"2010-02-05T00:00:00\", 64350, 127980, 39599852.990000054, 0.0], \"y1\": [\"2012-10-26T00:00:00\", 67073, 135801, 80931415.60000007, 3021.0]}, {\"opacity\": 0.2, \"type\": \"line\", \"x0\": \"2012-06-17T00:00:00\", \"x1\": \"2012-06-17T00:00:00\", \"y0\": [\"2010-02-05T00:00:00\", 64350, 127980, 39599852.990000054, 0.0], \"y1\": [\"2012-10-26T00:00:00\", 67073, 135801, 80931415.60000007, 3021.0]}, {\"opacity\": 0.2, \"type\": \"line\", \"x0\": \"2010-10-31T00:00:00\", \"x1\": \"2010-10-31T00:00:00\", \"y0\": [\"2010-02-05T00:00:00\", 64350, 127980, 39599852.990000054, 0.0], \"y1\": [\"2012-10-26T00:00:00\", 67073, 135801, 80931415.60000007, 3021.0]}, {\"opacity\": 0.2, \"type\": \"line\", \"x0\": \"2011-10-31T00:00:00\", \"x1\": \"2011-10-31T00:00:00\", \"y0\": [\"2010-02-05T00:00:00\", 64350, 127980, 39599852.990000054, 0.0], \"y1\": [\"2012-10-26T00:00:00\", 67073, 135801, 80931415.60000007, 3021.0]}, {\"opacity\": 0.2, \"type\": \"line\", \"x0\": \"2010-07-04T00:00:00\", \"x1\": \"2010-07-04T00:00:00\", \"y0\": [\"2010-02-05T00:00:00\", 64350, 127980, 39599852.990000054, 0.0], \"y1\": [\"2012-10-26T00:00:00\", 67073, 135801, 80931415.60000007, 3021.0]}, {\"opacity\": 0.2, \"type\": \"line\", \"x0\": \"2011-07-04T00:00:00\", \"x1\": \"2011-07-04T00:00:00\", \"y0\": [\"2010-02-05T00:00:00\", 64350, 127980, 39599852.990000054, 0.0], \"y1\": [\"2012-10-26T00:00:00\", 67073, 135801, 80931415.60000007, 3021.0]}, {\"opacity\": 0.2, \"type\": \"line\", \"x0\": \"2012-07-04T00:00:00\", \"x1\": \"2012-07-04T00:00:00\", \"y0\": [\"2010-02-05T00:00:00\", 64350, 127980, 39599852.990000054, 0.0], \"y1\": [\"2012-10-26T00:00:00\", 67073, 135801, 80931415.60000007, 3021.0]}, {\"opacity\": 0.2, \"type\": \"line\", \"x0\": \"2010-09-06T00:00:00\", \"x1\": \"2010-09-06T00:00:00\", \"y0\": [\"2010-02-05T00:00:00\", 64350, 127980, 39599852.990000054, 0.0], \"y1\": [\"2012-10-26T00:00:00\", 67073, 135801, 80931415.60000007, 3021.0]}, {\"opacity\": 0.2, \"type\": \"line\", \"x0\": \"2011-09-05T00:00:00\", \"x1\": \"2011-09-05T00:00:00\", \"y0\": [\"2010-02-05T00:00:00\", 64350, 127980, 39599852.990000054, 0.0], \"y1\": [\"2012-10-26T00:00:00\", 67073, 135801, 80931415.60000007, 3021.0]}, {\"opacity\": 0.2, \"type\": \"line\", \"x0\": \"2012-09-03T00:00:00\", \"x1\": \"2012-09-03T00:00:00\", \"y0\": [\"2010-02-05T00:00:00\", 64350, 127980, 39599852.990000054, 0.0], \"y1\": [\"2012-10-26T00:00:00\", 67073, 135801, 80931415.60000007, 3021.0]}, {\"opacity\": 0.2, \"type\": \"line\", \"x0\": \"2010-05-31T00:00:00\", \"x1\": \"2010-05-31T00:00:00\", \"y0\": [\"2010-02-05T00:00:00\", 64350, 127980, 39599852.990000054, 0.0], \"y1\": [\"2012-10-26T00:00:00\", 67073, 135801, 80931415.60000007, 3021.0]}, {\"opacity\": 0.2, \"type\": \"line\", \"x0\": \"2011-05-30T00:00:00\", \"x1\": \"2011-05-30T00:00:00\", \"y0\": [\"2010-02-05T00:00:00\", 64350, 127980, 39599852.990000054, 0.0], \"y1\": [\"2012-10-26T00:00:00\", 67073, 135801, 80931415.60000007, 3021.0]}, {\"opacity\": 0.2, \"type\": \"line\", \"x0\": \"2012-05-28T00:00:00\", \"x1\": \"2012-05-28T00:00:00\", \"y0\": [\"2010-02-05T00:00:00\", 64350, 127980, 39599852.990000054, 0.0], \"y1\": [\"2012-10-26T00:00:00\", 67073, 135801, 80931415.60000007, 3021.0]}, {\"opacity\": 0.2, \"type\": \"line\", \"x0\": \"2010-05-09T00:00:00\", \"x1\": \"2010-05-09T00:00:00\", \"y0\": [\"2010-02-05T00:00:00\", 64350, 127980, 39599852.990000054, 0.0], \"y1\": [\"2012-10-26T00:00:00\", 67073, 135801, 80931415.60000007, 3021.0]}, {\"opacity\": 0.2, \"type\": \"line\", \"x0\": \"2011-05-08T00:00:00\", \"x1\": \"2011-05-08T00:00:00\", \"y0\": [\"2010-02-05T00:00:00\", 64350, 127980, 39599852.990000054, 0.0], \"y1\": [\"2012-10-26T00:00:00\", 67073, 135801, 80931415.60000007, 3021.0]}, {\"opacity\": 0.2, \"type\": \"line\", \"x0\": \"2012-05-13T00:00:00\", \"x1\": \"2012-05-13T00:00:00\", \"y0\": [\"2010-02-05T00:00:00\", 64350, 127980, 39599852.990000054, 0.0], \"y1\": [\"2012-10-26T00:00:00\", 67073, 135801, 80931415.60000007, 3021.0]}, {\"opacity\": 0.2, \"type\": \"line\", \"x0\": \"2010-01-01T00:00:00\", \"x1\": \"2010-01-01T00:00:00\", \"y0\": [\"2010-02-05T00:00:00\", 64350, 127980, 39599852.990000054, 0.0], \"y1\": [\"2012-10-26T00:00:00\", 67073, 135801, 80931415.60000007, 3021.0]}, {\"opacity\": 0.2, \"type\": \"line\", \"x0\": \"2011-01-01T00:00:00\", \"x1\": \"2011-01-01T00:00:00\", \"y0\": [\"2010-02-05T00:00:00\", 64350, 127980, 39599852.990000054, 0.0], \"y1\": [\"2012-10-26T00:00:00\", 67073, 135801, 80931415.60000007, 3021.0]}, {\"opacity\": 0.2, \"type\": \"line\", \"x0\": \"2012-01-01T00:00:00\", \"x1\": \"2012-01-01T00:00:00\", \"y0\": [\"2010-02-05T00:00:00\", 64350, 127980, 39599852.990000054, 0.0], \"y1\": [\"2012-10-26T00:00:00\", 67073, 135801, 80931415.60000007, 3021.0]}, {\"opacity\": 0.2, \"type\": \"line\", \"x0\": \"2010-03-17T00:00:00\", \"x1\": \"2010-03-17T00:00:00\", \"y0\": [\"2010-02-05T00:00:00\", 64350, 127980, 39599852.990000054, 0.0], \"y1\": [\"2012-10-26T00:00:00\", 67073, 135801, 80931415.60000007, 3021.0]}, {\"opacity\": 0.2, \"type\": \"line\", \"x0\": \"2011-03-17T00:00:00\", \"x1\": \"2011-03-17T00:00:00\", \"y0\": [\"2010-02-05T00:00:00\", 64350, 127980, 39599852.990000054, 0.0], \"y1\": [\"2012-10-26T00:00:00\", 67073, 135801, 80931415.60000007, 3021.0]}, {\"opacity\": 0.2, \"type\": \"line\", \"x0\": \"2012-03-17T00:00:00\", \"x1\": \"2012-03-17T00:00:00\", \"y0\": [\"2010-02-05T00:00:00\", 64350, 127980, 39599852.990000054, 0.0], \"y1\": [\"2012-10-26T00:00:00\", 67073, 135801, 80931415.60000007, 3021.0]}, {\"opacity\": 0.2, \"type\": \"line\", \"x0\": \"2010-11-25T00:00:00\", \"x1\": \"2010-11-25T00:00:00\", \"y0\": [\"2010-02-05T00:00:00\", 64350, 127980, 39599852.990000054, 0.0], \"y1\": [\"2012-10-26T00:00:00\", 67073, 135801, 80931415.60000007, 3021.0]}, {\"opacity\": 0.2, \"type\": \"line\", \"x0\": \"2011-11-24T00:00:00\", \"x1\": \"2011-11-24T00:00:00\", \"y0\": [\"2010-02-05T00:00:00\", 64350, 127980, 39599852.990000054, 0.0], \"y1\": [\"2012-10-26T00:00:00\", 67073, 135801, 80931415.60000007, 3021.0]}, {\"opacity\": 0.2, \"type\": \"line\", \"x0\": \"2010-02-14T00:00:00\", \"x1\": \"2010-02-14T00:00:00\", \"y0\": [\"2010-02-05T00:00:00\", 64350, 127980, 39599852.990000054, 0.0], \"y1\": [\"2012-10-26T00:00:00\", 67073, 135801, 80931415.60000007, 3021.0]}, {\"opacity\": 0.2, \"type\": \"line\", \"x0\": \"2011-02-14T00:00:00\", \"x1\": \"2011-02-14T00:00:00\", \"y0\": [\"2010-02-05T00:00:00\", 64350, 127980, 39599852.990000054, 0.0], \"y1\": [\"2012-10-26T00:00:00\", 67073, 135801, 80931415.60000007, 3021.0]}, {\"opacity\": 0.2, \"type\": \"line\", \"x0\": \"2012-02-14T00:00:00\", \"x1\": \"2012-02-14T00:00:00\", \"y0\": [\"2010-02-05T00:00:00\", 64350, 127980, 39599852.990000054, 0.0], \"y1\": [\"2012-10-26T00:00:00\", 67073, 135801, 80931415.60000007, 3021.0]}, {\"opacity\": 0.2, \"type\": \"line\", \"x0\": \"2010-11-11T00:00:00\", \"x1\": \"2010-11-11T00:00:00\", \"y0\": [\"2010-02-05T00:00:00\", 64350, 127980, 39599852.990000054, 0.0], \"y1\": [\"2012-10-26T00:00:00\", 67073, 135801, 80931415.60000007, 3021.0]}, {\"opacity\": 0.2, \"type\": \"line\", \"x0\": \"2011-11-11T00:00:00\", \"x1\": \"2011-11-11T00:00:00\", \"y0\": [\"2010-02-05T00:00:00\", 64350, 127980, 39599852.990000054, 0.0], \"y1\": [\"2012-10-26T00:00:00\", 67073, 135801, 80931415.60000007, 3021.0]}, {\"opacity\": 0.2, \"type\": \"line\", \"x0\": \"2010-02-07T00:00:00\", \"x1\": \"2010-02-07T00:00:00\", \"y0\": [\"2010-02-05T00:00:00\", 64350, 127980, 39599852.990000054, 0.0], \"y1\": [\"2012-10-26T00:00:00\", 67073, 135801, 80931415.60000007, 3021.0]}, {\"opacity\": 0.2, \"type\": \"line\", \"x0\": \"2011-02-06T00:00:00\", \"x1\": \"2011-02-06T00:00:00\", \"y0\": [\"2010-02-05T00:00:00\", 64350, 127980, 39599852.990000054, 0.0], \"y1\": [\"2012-10-26T00:00:00\", 67073, 135801, 80931415.60000007, 3021.0]}, {\"opacity\": 0.2, \"type\": \"line\", \"x0\": \"2012-02-05T00:00:00\", \"x1\": \"2012-02-05T00:00:00\", \"y0\": [\"2010-02-05T00:00:00\", 64350, 127980, 39599852.990000054, 0.0], \"y1\": [\"2012-10-26T00:00:00\", 67073, 135801, 80931415.60000007, 3021.0]}], \"template\": {\"data\": {\"bar\": [{\"error_x\": {\"color\": \"#2a3f5f\"}, \"error_y\": {\"color\": \"#2a3f5f\"}, \"marker\": {\"line\": {\"color\": \"#E5ECF6\", \"width\": 0.5}}, \"type\": \"bar\"}], \"barpolar\": [{\"marker\": {\"line\": {\"color\": \"#E5ECF6\", \"width\": 0.5}}, \"type\": \"barpolar\"}], \"carpet\": [{\"aaxis\": {\"endlinecolor\": \"#2a3f5f\", \"gridcolor\": \"white\", \"linecolor\": \"white\", \"minorgridcolor\": \"white\", \"startlinecolor\": \"#2a3f5f\"}, \"baxis\": {\"endlinecolor\": \"#2a3f5f\", \"gridcolor\": \"white\", \"linecolor\": \"white\", \"minorgridcolor\": \"white\", \"startlinecolor\": \"#2a3f5f\"}, \"type\": \"carpet\"}], \"choropleth\": [{\"colorbar\": {\"outlinewidth\": 0, \"ticks\": \"\"}, \"type\": \"choropleth\"}], \"contour\": [{\"colorbar\": {\"outlinewidth\": 0, \"ticks\": \"\"}, \"colorscale\": [[0.0, \"#0d0887\"], [0.1111111111111111, \"#46039f\"], [0.2222222222222222, \"#7201a8\"], [0.3333333333333333, \"#9c179e\"], [0.4444444444444444, \"#bd3786\"], [0.5555555555555556, \"#d8576b\"], [0.6666666666666666, \"#ed7953\"], [0.7777777777777778, \"#fb9f3a\"], [0.8888888888888888, \"#fdca26\"], [1.0, \"#f0f921\"]], \"type\": \"contour\"}], \"contourcarpet\": [{\"colorbar\": {\"outlinewidth\": 0, \"ticks\": \"\"}, \"type\": \"contourcarpet\"}], \"heatmap\": [{\"colorbar\": {\"outlinewidth\": 0, \"ticks\": \"\"}, \"colorscale\": [[0.0, \"#0d0887\"], [0.1111111111111111, \"#46039f\"], [0.2222222222222222, \"#7201a8\"], [0.3333333333333333, \"#9c179e\"], [0.4444444444444444, \"#bd3786\"], [0.5555555555555556, \"#d8576b\"], [0.6666666666666666, \"#ed7953\"], [0.7777777777777778, \"#fb9f3a\"], [0.8888888888888888, \"#fdca26\"], [1.0, \"#f0f921\"]], \"type\": \"heatmap\"}], \"heatmapgl\": [{\"colorbar\": {\"outlinewidth\": 0, \"ticks\": \"\"}, \"colorscale\": [[0.0, \"#0d0887\"], [0.1111111111111111, \"#46039f\"], [0.2222222222222222, \"#7201a8\"], [0.3333333333333333, \"#9c179e\"], [0.4444444444444444, \"#bd3786\"], [0.5555555555555556, \"#d8576b\"], [0.6666666666666666, \"#ed7953\"], [0.7777777777777778, \"#fb9f3a\"], [0.8888888888888888, \"#fdca26\"], [1.0, \"#f0f921\"]], \"type\": \"heatmapgl\"}], \"histogram\": [{\"marker\": {\"colorbar\": {\"outlinewidth\": 0, \"ticks\": \"\"}}, \"type\": \"histogram\"}], \"histogram2d\": [{\"colorbar\": {\"outlinewidth\": 0, \"ticks\": \"\"}, \"colorscale\": [[0.0, \"#0d0887\"], [0.1111111111111111, \"#46039f\"], [0.2222222222222222, \"#7201a8\"], [0.3333333333333333, \"#9c179e\"], [0.4444444444444444, \"#bd3786\"], [0.5555555555555556, \"#d8576b\"], [0.6666666666666666, \"#ed7953\"], [0.7777777777777778, \"#fb9f3a\"], [0.8888888888888888, \"#fdca26\"], [1.0, \"#f0f921\"]], \"type\": \"histogram2d\"}], \"histogram2dcontour\": [{\"colorbar\": {\"outlinewidth\": 0, \"ticks\": \"\"}, \"colorscale\": [[0.0, \"#0d0887\"], [0.1111111111111111, \"#46039f\"], [0.2222222222222222, \"#7201a8\"], [0.3333333333333333, \"#9c179e\"], [0.4444444444444444, \"#bd3786\"], [0.5555555555555556, \"#d8576b\"], [0.6666666666666666, \"#ed7953\"], [0.7777777777777778, \"#fb9f3a\"], [0.8888888888888888, \"#fdca26\"], [1.0, \"#f0f921\"]], \"type\": \"histogram2dcontour\"}], \"mesh3d\": [{\"colorbar\": {\"outlinewidth\": 0, \"ticks\": \"\"}, \"type\": \"mesh3d\"}], \"parcoords\": [{\"line\": {\"colorbar\": {\"outlinewidth\": 0, \"ticks\": \"\"}}, \"type\": \"parcoords\"}], \"pie\": [{\"automargin\": true, \"type\": \"pie\"}], \"scatter\": [{\"marker\": {\"colorbar\": {\"outlinewidth\": 0, \"ticks\": \"\"}}, \"type\": \"scatter\"}], \"scatter3d\": [{\"line\": {\"colorbar\": {\"outlinewidth\": 0, \"ticks\": \"\"}}, \"marker\": {\"colorbar\": {\"outlinewidth\": 0, \"ticks\": \"\"}}, \"type\": \"scatter3d\"}], \"scattercarpet\": [{\"marker\": {\"colorbar\": {\"outlinewidth\": 0, \"ticks\": \"\"}}, \"type\": \"scattercarpet\"}], \"scattergeo\": [{\"marker\": {\"colorbar\": {\"outlinewidth\": 0, \"ticks\": \"\"}}, \"type\": \"scattergeo\"}], \"scattergl\": [{\"marker\": {\"colorbar\": {\"outlinewidth\": 0, \"ticks\": \"\"}}, \"type\": \"scattergl\"}], \"scattermapbox\": [{\"marker\": {\"colorbar\": {\"outlinewidth\": 0, \"ticks\": \"\"}}, \"type\": \"scattermapbox\"}], \"scatterpolar\": [{\"marker\": {\"colorbar\": {\"outlinewidth\": 0, \"ticks\": \"\"}}, \"type\": \"scatterpolar\"}], \"scatterpolargl\": [{\"marker\": {\"colorbar\": {\"outlinewidth\": 0, \"ticks\": \"\"}}, \"type\": \"scatterpolargl\"}], \"scatterternary\": [{\"marker\": {\"colorbar\": {\"outlinewidth\": 0, \"ticks\": \"\"}}, \"type\": \"scatterternary\"}], \"surface\": [{\"colorbar\": {\"outlinewidth\": 0, \"ticks\": \"\"}, \"colorscale\": [[0.0, \"#0d0887\"], [0.1111111111111111, \"#46039f\"], [0.2222222222222222, \"#7201a8\"], [0.3333333333333333, \"#9c179e\"], [0.4444444444444444, \"#bd3786\"], [0.5555555555555556, \"#d8576b\"], [0.6666666666666666, \"#ed7953\"], [0.7777777777777778, \"#fb9f3a\"], [0.8888888888888888, \"#fdca26\"], [1.0, \"#f0f921\"]], \"type\": \"surface\"}], \"table\": [{\"cells\": {\"fill\": {\"color\": \"#EBF0F8\"}, \"line\": {\"color\": \"white\"}}, \"header\": {\"fill\": {\"color\": \"#C8D4E3\"}, \"line\": {\"color\": \"white\"}}, \"type\": \"table\"}]}, \"layout\": {\"annotationdefaults\": {\"arrowcolor\": \"#2a3f5f\", \"arrowhead\": 0, \"arrowwidth\": 1}, \"coloraxis\": {\"colorbar\": {\"outlinewidth\": 0, \"ticks\": \"\"}}, \"colorscale\": {\"diverging\": [[0, \"#8e0152\"], [0.1, \"#c51b7d\"], [0.2, \"#de77ae\"], [0.3, \"#f1b6da\"], [0.4, \"#fde0ef\"], [0.5, \"#f7f7f7\"], [0.6, \"#e6f5d0\"], [0.7, \"#b8e186\"], [0.8, \"#7fbc41\"], [0.9, \"#4d9221\"], [1, \"#276419\"]], \"sequential\": [[0.0, \"#0d0887\"], [0.1111111111111111, \"#46039f\"], [0.2222222222222222, \"#7201a8\"], [0.3333333333333333, \"#9c179e\"], [0.4444444444444444, \"#bd3786\"], [0.5555555555555556, \"#d8576b\"], [0.6666666666666666, \"#ed7953\"], [0.7777777777777778, \"#fb9f3a\"], [0.8888888888888888, \"#fdca26\"], [1.0, \"#f0f921\"]], \"sequentialminus\": [[0.0, \"#0d0887\"], [0.1111111111111111, \"#46039f\"], [0.2222222222222222, \"#7201a8\"], [0.3333333333333333, \"#9c179e\"], [0.4444444444444444, \"#bd3786\"], [0.5555555555555556, \"#d8576b\"], [0.6666666666666666, \"#ed7953\"], [0.7777777777777778, \"#fb9f3a\"], [0.8888888888888888, \"#fdca26\"], [1.0, \"#f0f921\"]]}, \"colorway\": [\"#636efa\", \"#EF553B\", \"#00cc96\", \"#ab63fa\", \"#FFA15A\", \"#19d3f3\", \"#FF6692\", \"#B6E880\", \"#FF97FF\", \"#FECB52\"], \"font\": {\"color\": \"#2a3f5f\"}, \"geo\": {\"bgcolor\": \"white\", \"lakecolor\": \"white\", \"landcolor\": \"#E5ECF6\", \"showlakes\": true, \"showland\": true, \"subunitcolor\": \"white\"}, \"hoverlabel\": {\"align\": \"left\"}, \"hovermode\": \"closest\", \"mapbox\": {\"style\": \"light\"}, \"paper_bgcolor\": \"white\", \"plot_bgcolor\": \"#E5ECF6\", \"polar\": {\"angularaxis\": {\"gridcolor\": \"white\", \"linecolor\": \"white\", \"ticks\": \"\"}, \"bgcolor\": \"#E5ECF6\", \"radialaxis\": {\"gridcolor\": \"white\", \"linecolor\": \"white\", \"ticks\": \"\"}}, \"scene\": {\"xaxis\": {\"backgroundcolor\": \"#E5ECF6\", \"gridcolor\": \"white\", \"gridwidth\": 2, \"linecolor\": \"white\", \"showbackground\": true, \"ticks\": \"\", \"zerolinecolor\": \"white\"}, \"yaxis\": {\"backgroundcolor\": \"#E5ECF6\", \"gridcolor\": \"white\", \"gridwidth\": 2, \"linecolor\": \"white\", \"showbackground\": true, \"ticks\": \"\", \"zerolinecolor\": \"white\"}, \"zaxis\": {\"backgroundcolor\": \"#E5ECF6\", \"gridcolor\": \"white\", \"gridwidth\": 2, \"linecolor\": \"white\", \"showbackground\": true, \"ticks\": \"\", \"zerolinecolor\": \"white\"}}, \"shapedefaults\": {\"line\": {\"color\": \"#2a3f5f\"}}, \"ternary\": {\"aaxis\": {\"gridcolor\": \"white\", \"linecolor\": \"white\", \"ticks\": \"\"}, \"baxis\": {\"gridcolor\": \"white\", \"linecolor\": \"white\", \"ticks\": \"\"}, \"bgcolor\": \"#E5ECF6\", \"caxis\": {\"gridcolor\": \"white\", \"linecolor\": \"white\", \"ticks\": \"\"}}, \"title\": {\"x\": 0.05}, \"xaxis\": {\"automargin\": true, \"gridcolor\": \"white\", \"linecolor\": \"white\", \"ticks\": \"\", \"title\": {\"standoff\": 15}, \"zerolinecolor\": \"white\", \"zerolinewidth\": 2}, \"yaxis\": {\"automargin\": true, \"gridcolor\": \"white\", \"linecolor\": \"white\", \"ticks\": \"\", \"title\": {\"standoff\": 15}, \"zerolinecolor\": \"white\", \"zerolinewidth\": 2}}}, \"title\": {\"text\": \"Total Weekly Sales with All Holiday Markers\", \"x\": 0.5, \"xanchor\": \"center\", \"y\": 0.9, \"yanchor\": \"top\"}},\n",
       "                        {\"responsive\": true}\n",
       "                    ).then(function(){\n",
       "                            \n",
       "var gd = document.getElementById('bf91a9b2-231f-4d2c-9397-edbd6f461b60');\n",
       "var x = new MutationObserver(function (mutations, observer) {{\n",
       "        var display = window.getComputedStyle(gd).display;\n",
       "        if (!display || display === 'none') {{\n",
       "            console.log([gd, 'removed!']);\n",
       "            Plotly.purge(gd);\n",
       "            observer.disconnect();\n",
       "        }}\n",
       "}});\n",
       "\n",
       "// Listen for the removal of the full notebook cells\n",
       "var notebookContainer = gd.closest('#notebook-container');\n",
       "if (notebookContainer) {{\n",
       "    x.observe(notebookContainer, {childList: true});\n",
       "}}\n",
       "\n",
       "// Listen for the clearing of the current output cell\n",
       "var outputEl = gd.closest('.output');\n",
       "if (outputEl) {{\n",
       "    x.observe(outputEl, {childList: true});\n",
       "}}\n",
       "\n",
       "                        })\n",
       "                };\n",
       "                });\n",
       "            </script>\n",
       "        </div>"
      ]
     },
     "metadata": {},
     "output_type": "display_data"
    }
   ],
   "source": [
    "# Total weekly sales\n",
    "ymin=byDate.min()\n",
    "ymax=byDate.max()\n",
    "\n",
    "lin = go.Figure(data=go.Scatter(x=byDate.Date,y=byDate.Weekly_Sales, name='Weekly_Sales'))\n",
    "\n",
    "final_wk = max(byDate.Date)\n",
    "for index, row in holidays[holidays.Date <= final_wk].iterrows():\n",
    "    lin.add_shape(type=\"line\",\n",
    "                   x0=row['Date'],\n",
    "                   y0=ymin,\n",
    "                   x1=row['Date'],\n",
    "                   y1=ymax,\n",
    "                   opacity=0.2)\n",
    "\n",
    "lin.update_layout(title={\n",
    "        'text': \"Total Weekly Sales with All Holiday Markers\",\n",
    "        'y':0.9,\n",
    "        'x':0.5,\n",
    "        'xanchor': 'center',\n",
    "        'yanchor': 'top'})\n",
    "lin.show()\n"
   ]
  },
  {
   "cell_type": "markdown",
   "metadata": {},
   "source": [
    "Day-of and trailing/leading"
   ]
  },
  {
   "cell_type": "markdown",
   "metadata": {},
   "source": [
    "# Sales by Store\n",
    "How does the stores' size/type influences sales?"
   ]
  },
  {
   "cell_type": "code",
   "execution_count": 21,
   "metadata": {},
   "outputs": [
    {
     "data": {
      "text/html": [
       "<div>\n",
       "<style scoped>\n",
       "    .dataframe tbody tr th:only-of-type {\n",
       "        vertical-align: middle;\n",
       "    }\n",
       "\n",
       "    .dataframe tbody tr th {\n",
       "        vertical-align: top;\n",
       "    }\n",
       "\n",
       "    .dataframe thead th {\n",
       "        text-align: right;\n",
       "    }\n",
       "</style>\n",
       "<table border=\"1\" class=\"dataframe\">\n",
       "  <thead>\n",
       "    <tr style=\"text-align: right;\">\n",
       "      <th></th>\n",
       "      <th>Store</th>\n",
       "      <th>index</th>\n",
       "      <th>Dept</th>\n",
       "      <th>Weekly_Sales</th>\n",
       "      <th>IsHoliday</th>\n",
       "      <th>Type</th>\n",
       "      <th>Size</th>\n",
       "    </tr>\n",
       "  </thead>\n",
       "  <tbody>\n",
       "    <tr>\n",
       "      <th>0</th>\n",
       "      <td>1</td>\n",
       "      <td>52464646</td>\n",
       "      <td>454749</td>\n",
       "      <td>2.224028e+08</td>\n",
       "      <td>723.0</td>\n",
       "      <td>A</td>\n",
       "      <td>151315</td>\n",
       "    </tr>\n",
       "    <tr>\n",
       "      <th>1</th>\n",
       "      <td>2</td>\n",
       "      <td>157281275</td>\n",
       "      <td>455425</td>\n",
       "      <td>2.753824e+08</td>\n",
       "      <td>722.0</td>\n",
       "      <td>A</td>\n",
       "      <td>202307</td>\n",
       "    </tr>\n",
       "    <tr>\n",
       "      <th>2</th>\n",
       "      <td>3</td>\n",
       "      <td>225895482</td>\n",
       "      <td>370825</td>\n",
       "      <td>5.758674e+07</td>\n",
       "      <td>633.0</td>\n",
       "      <td>B</td>\n",
       "      <td>37392</td>\n",
       "    </tr>\n",
       "    <tr>\n",
       "      <th>3</th>\n",
       "      <td>4</td>\n",
       "      <td>355960752</td>\n",
       "      <td>457340</td>\n",
       "      <td>2.995440e+08</td>\n",
       "      <td>727.0</td>\n",
       "      <td>A</td>\n",
       "      <td>205863</td>\n",
       "    </tr>\n",
       "    <tr>\n",
       "      <th>4</th>\n",
       "      <td>5</td>\n",
       "      <td>398556711</td>\n",
       "      <td>371526</td>\n",
       "      <td>4.547569e+07</td>\n",
       "      <td>640.0</td>\n",
       "      <td>B</td>\n",
       "      <td>34875</td>\n",
       "    </tr>\n",
       "  </tbody>\n",
       "</table>\n",
       "</div>"
      ],
      "text/plain": [
       "   Store      index    Dept  Weekly_Sales  IsHoliday Type    Size\n",
       "0      1   52464646  454749  2.224028e+08      723.0    A  151315\n",
       "1      2  157281275  455425  2.753824e+08      722.0    A  202307\n",
       "2      3  225895482  370825  5.758674e+07      633.0    B   37392\n",
       "3      4  355960752  457340  2.995440e+08      727.0    A  205863\n",
       "4      5  398556711  371526  4.547569e+07      640.0    B   34875"
      ]
     },
     "execution_count": 21,
     "metadata": {},
     "output_type": "execute_result"
    }
   ],
   "source": [
    "byStore = sales.reset_index().groupby('Store', as_index=False).sum()\n",
    "byStore = pd.merge(byStore, stores, on='Store', how='left')\n",
    "byStore.head()"
   ]
  },
  {
   "cell_type": "code",
   "execution_count": 22,
   "metadata": {},
   "outputs": [
    {
     "data": {
      "text/plain": [
       "Store           45\n",
       "index           45\n",
       "Dept            45\n",
       "Weekly_Sales    45\n",
       "IsHoliday       35\n",
       "Type             3\n",
       "Size            40\n",
       "dtype: int64"
      ]
     },
     "execution_count": 22,
     "metadata": {},
     "output_type": "execute_result"
    }
   ],
   "source": [
    "byStore.nunique()"
   ]
  },
  {
   "cell_type": "code",
   "execution_count": 23,
   "metadata": {},
   "outputs": [
    {
     "data": {
      "text/html": [
       "<div>\n",
       "<style scoped>\n",
       "    .dataframe tbody tr th:only-of-type {\n",
       "        vertical-align: middle;\n",
       "    }\n",
       "\n",
       "    .dataframe tbody tr th {\n",
       "        vertical-align: top;\n",
       "    }\n",
       "\n",
       "    .dataframe thead th {\n",
       "        text-align: right;\n",
       "    }\n",
       "</style>\n",
       "<table border=\"1\" class=\"dataframe\">\n",
       "  <thead>\n",
       "    <tr style=\"text-align: right;\">\n",
       "      <th></th>\n",
       "      <th>Store</th>\n",
       "      <th>Weekly_Sales</th>\n",
       "      <th>Type</th>\n",
       "      <th>Size</th>\n",
       "    </tr>\n",
       "  </thead>\n",
       "  <tbody>\n",
       "    <tr>\n",
       "      <th>0</th>\n",
       "      <td>1</td>\n",
       "      <td>2.224028e+08</td>\n",
       "      <td>A</td>\n",
       "      <td>151315</td>\n",
       "    </tr>\n",
       "    <tr>\n",
       "      <th>1</th>\n",
       "      <td>2</td>\n",
       "      <td>2.753824e+08</td>\n",
       "      <td>A</td>\n",
       "      <td>202307</td>\n",
       "    </tr>\n",
       "    <tr>\n",
       "      <th>2</th>\n",
       "      <td>3</td>\n",
       "      <td>5.758674e+07</td>\n",
       "      <td>B</td>\n",
       "      <td>37392</td>\n",
       "    </tr>\n",
       "    <tr>\n",
       "      <th>3</th>\n",
       "      <td>4</td>\n",
       "      <td>2.995440e+08</td>\n",
       "      <td>A</td>\n",
       "      <td>205863</td>\n",
       "    </tr>\n",
       "    <tr>\n",
       "      <th>4</th>\n",
       "      <td>5</td>\n",
       "      <td>4.547569e+07</td>\n",
       "      <td>B</td>\n",
       "      <td>34875</td>\n",
       "    </tr>\n",
       "  </tbody>\n",
       "</table>\n",
       "</div>"
      ],
      "text/plain": [
       "   Store  Weekly_Sales Type    Size\n",
       "0      1  2.224028e+08    A  151315\n",
       "1      2  2.753824e+08    A  202307\n",
       "2      3  5.758674e+07    B   37392\n",
       "3      4  2.995440e+08    A  205863\n",
       "4      5  4.547569e+07    B   34875"
      ]
     },
     "execution_count": 23,
     "metadata": {},
     "output_type": "execute_result"
    }
   ],
   "source": [
    "#Formatting df for visuals\n",
    "byStore = byStore[[\"Store\", \"Weekly_Sales\", \"Type\", \"Size\"]]\n",
    "byStore.head()"
   ]
  },
  {
   "cell_type": "code",
   "execution_count": 24,
   "metadata": {
    "scrolled": false
   },
   "outputs": [
    {
     "data": {
      "text/plain": [
       "<matplotlib.axes._subplots.AxesSubplot at 0x27759cc4c18>"
      ]
     },
     "execution_count": 24,
     "metadata": {},
     "output_type": "execute_result"
    },
    {
     "data": {
      "image/png": "[encoded data removed]",
      "text/plain": [
       "<Figure size 1080x360 with 1 Axes>"
      ]
     },
     "metadata": {},
     "output_type": "display_data"
    }
   ],
   "source": [
    "#Total sales for the entire period\n",
    "byStore.plot(x='Store',y='Weekly_Sales',kind='bar',figsize=(15,5))"
   ]
  },
  {
   "cell_type": "markdown",
   "metadata": {},
   "source": [
    "SOME STORE THAT OUTPERFORM OTHERS...POTENTIALLY INFLUENCED BY Type SIZE LOCATION ETC..."
   ]
  },
  {
   "cell_type": "code",
   "execution_count": 25,
   "metadata": {},
   "outputs": [
    {
     "data": {
      "text/plain": [
       "<matplotlib.axes._subplots.AxesSubplot at 0x27759fa89e8>"
      ]
     },
     "execution_count": 25,
     "metadata": {},
     "output_type": "execute_result"
    },
    {
     "data": {
      "image/png": "[encoded data removed]",
      "text/plain": [
       "<Figure size 432x288 with 1 Axes>"
      ]
     },
     "metadata": {},
     "output_type": "display_data"
    }
   ],
   "source": [
    "sns.distplot(byStore['Size'], kde=False, bins=5)"
   ]
  },
  {
   "cell_type": "code",
   "execution_count": 26,
   "metadata": {},
   "outputs": [
    {
     "data": {
      "text/plain": [
       "<matplotlib.axes._subplots.AxesSubplot at 0x2775a18bbe0>"
      ]
     },
     "execution_count": 26,
     "metadata": {},
     "output_type": "execute_result"
    },
    {
     "data": {
      "image/png": "[encoded data removed]",
      "text/plain": [
       "<Figure size 1080x360 with 2 Axes>"
      ]
     },
     "metadata": {},
     "output_type": "display_data"
    }
   ],
   "source": [
    "fig, (ax1, ax2) = plt.subplots(ncols=2, figsize=(15,5))\n",
    "sns.scatterplot(x='Size',y='Weekly_Sales',data=byStore, hue='Type', ax=ax1)\n",
    "\n",
    "byStore[\"SalesPerSF\"] = byStore['Weekly_Sales']/byStore['Size']\n",
    "sns.scatterplot(x='Size',y='SalesPerSF',data=byStore, hue='Type', ax=ax2)"
   ]
  },
  {
   "cell_type": "code",
   "execution_count": 27,
   "metadata": {},
   "outputs": [
    {
     "data": {
      "text/plain": [
       "<seaborn.axisgrid.FacetGrid at 0x2775a00eb00>"
      ]
     },
     "execution_count": 27,
     "metadata": {},
     "output_type": "execute_result"
    },
    {
     "data": {
      "image/png": "[encoded data removed]",
      "text/plain": [
       "<Figure size 648x216 with 3 Axes>"
      ]
     },
     "metadata": {},
     "output_type": "display_data"
    },
    {
     "data": {
      "image/png": "[encoded data removed]",
      "text/plain": [
       "<Figure size 648x216 with 3 Axes>"
      ]
     },
     "metadata": {},
     "output_type": "display_data"
    }
   ],
   "source": [
    "#Size vs Weekly Sales and Sales per Sq. Ft.\n",
    "fgrid = sns.FacetGrid(data=byStore, col='Type')\n",
    "fgrid.map(plt.scatter,'Size', 'Weekly_Sales')\n",
    "\n",
    "#Size vs Weekly Sales and Sales per Sq. Ft.\n",
    "fgrid = sns.FacetGrid(data=byStore, col='Type')\n",
    "fgrid.map(plt.scatter,'Size', 'SalesPerSF')"
   ]
  },
  {
   "cell_type": "code",
   "execution_count": 28,
   "metadata": {},
   "outputs": [
    {
     "data": {
      "text/plain": [
       "<matplotlib.axes._subplots.AxesSubplot at 0x2775a6a1630>"
      ]
     },
     "execution_count": 28,
     "metadata": {},
     "output_type": "execute_result"
    },
    {
     "data": {
      "image/png": "[encoded data removed]",
      "text/plain": [
       "<Figure size 1080x288 with 3 Axes>"
      ]
     },
     "metadata": {},
     "output_type": "display_data"
    }
   ],
   "source": [
    "fig, (ax1, ax2, ax3) = plt.subplots(ncols=3, figsize=(15,4))\n",
    "sns.boxplot(x='Type', y='Size', data=byStore, ax=ax1)\n",
    "sns.boxplot(x='Type', y='Weekly_Sales', data=byStore, ax=ax2)\n",
    "sns.boxplot(x='Type', y='SalesPerSF', data=byStore, ax=ax3)"
   ]
  },
  {
   "cell_type": "markdown",
   "metadata": {},
   "source": [
    "types seem to be based soley on size....smaller store making best use of space...larger store appear to be average ....medium have lowest performance"
   ]
  },
  {
   "cell_type": "markdown",
   "metadata": {},
   "source": [
    "...type influenced by size...bc previous does not provided the desired detail...dig deeper into size..cluster to further analyze the sales behavior across stores SIZES..."
   ]
  },
  {
   "cell_type": "markdown",
   "metadata": {},
   "source": [
    "Cluster Stores\n",
    "in hope to find stronger relationships...use ml to cluter store based on size"
   ]
  },
  {
   "cell_type": "code",
   "execution_count": 29,
   "metadata": {},
   "outputs": [
    {
     "data": {
      "text/html": [
       "<div>\n",
       "<style scoped>\n",
       "    .dataframe tbody tr th:only-of-type {\n",
       "        vertical-align: middle;\n",
       "    }\n",
       "\n",
       "    .dataframe tbody tr th {\n",
       "        vertical-align: top;\n",
       "    }\n",
       "\n",
       "    .dataframe thead th {\n",
       "        text-align: right;\n",
       "    }\n",
       "</style>\n",
       "<table border=\"1\" class=\"dataframe\">\n",
       "  <thead>\n",
       "    <tr style=\"text-align: right;\">\n",
       "      <th></th>\n",
       "      <th>Weekly_Sales</th>\n",
       "      <th>Size</th>\n",
       "      <th>SalesPerSF</th>\n",
       "    </tr>\n",
       "  </thead>\n",
       "  <tbody>\n",
       "    <tr>\n",
       "      <th>0</th>\n",
       "      <td>2.224028e+08</td>\n",
       "      <td>151315</td>\n",
       "      <td>1469.800144</td>\n",
       "    </tr>\n",
       "    <tr>\n",
       "      <th>1</th>\n",
       "      <td>2.753824e+08</td>\n",
       "      <td>202307</td>\n",
       "      <td>1361.210640</td>\n",
       "    </tr>\n",
       "    <tr>\n",
       "      <th>2</th>\n",
       "      <td>5.758674e+07</td>\n",
       "      <td>37392</td>\n",
       "      <td>1540.081704</td>\n",
       "    </tr>\n",
       "    <tr>\n",
       "      <th>3</th>\n",
       "      <td>2.995440e+08</td>\n",
       "      <td>205863</td>\n",
       "      <td>1455.064550</td>\n",
       "    </tr>\n",
       "    <tr>\n",
       "      <th>4</th>\n",
       "      <td>4.547569e+07</td>\n",
       "      <td>34875</td>\n",
       "      <td>1303.962406</td>\n",
       "    </tr>\n",
       "  </tbody>\n",
       "</table>\n",
       "</div>"
      ],
      "text/plain": [
       "   Weekly_Sales    Size   SalesPerSF\n",
       "0  2.224028e+08  151315  1469.800144\n",
       "1  2.753824e+08  202307  1361.210640\n",
       "2  5.758674e+07   37392  1540.081704\n",
       "3  2.995440e+08  205863  1455.064550\n",
       "4  4.547569e+07   34875  1303.962406"
      ]
     },
     "execution_count": 29,
     "metadata": {},
     "output_type": "execute_result"
    }
   ],
   "source": [
    "byStorex = byStore[['Weekly_Sales', 'Size','SalesPerSF']]\n",
    "byStorex.head()"
   ]
  },
  {
   "cell_type": "code",
   "execution_count": 30,
   "metadata": {},
   "outputs": [
    {
     "data": {
      "text/html": [
       "<div>\n",
       "<style scoped>\n",
       "    .dataframe tbody tr th:only-of-type {\n",
       "        vertical-align: middle;\n",
       "    }\n",
       "\n",
       "    .dataframe tbody tr th {\n",
       "        vertical-align: top;\n",
       "    }\n",
       "\n",
       "    .dataframe thead th {\n",
       "        text-align: right;\n",
       "    }\n",
       "</style>\n",
       "<table border=\"1\" class=\"dataframe\">\n",
       "  <thead>\n",
       "    <tr style=\"text-align: right;\">\n",
       "      <th></th>\n",
       "      <th>Weekly_Sales</th>\n",
       "      <th>Size</th>\n",
       "      <th>SalesPerSF</th>\n",
       "      <th>Cluster</th>\n",
       "    </tr>\n",
       "  </thead>\n",
       "  <tbody>\n",
       "    <tr>\n",
       "      <th>0</th>\n",
       "      <td>2.224028e+08</td>\n",
       "      <td>151315</td>\n",
       "      <td>1469.800144</td>\n",
       "      <td>2</td>\n",
       "    </tr>\n",
       "    <tr>\n",
       "      <th>1</th>\n",
       "      <td>2.753824e+08</td>\n",
       "      <td>202307</td>\n",
       "      <td>1361.210640</td>\n",
       "      <td>0</td>\n",
       "    </tr>\n",
       "    <tr>\n",
       "      <th>2</th>\n",
       "      <td>5.758674e+07</td>\n",
       "      <td>37392</td>\n",
       "      <td>1540.081704</td>\n",
       "      <td>4</td>\n",
       "    </tr>\n",
       "    <tr>\n",
       "      <th>3</th>\n",
       "      <td>2.995440e+08</td>\n",
       "      <td>205863</td>\n",
       "      <td>1455.064550</td>\n",
       "      <td>0</td>\n",
       "    </tr>\n",
       "    <tr>\n",
       "      <th>4</th>\n",
       "      <td>4.547569e+07</td>\n",
       "      <td>34875</td>\n",
       "      <td>1303.962406</td>\n",
       "      <td>4</td>\n",
       "    </tr>\n",
       "  </tbody>\n",
       "</table>\n",
       "</div>"
      ],
      "text/plain": [
       "   Weekly_Sales    Size   SalesPerSF  Cluster\n",
       "0  2.224028e+08  151315  1469.800144        2\n",
       "1  2.753824e+08  202307  1361.210640        0\n",
       "2  5.758674e+07   37392  1540.081704        4\n",
       "3  2.995440e+08  205863  1455.064550        0\n",
       "4  4.547569e+07   34875  1303.962406        4"
      ]
     },
     "execution_count": 30,
     "metadata": {},
     "output_type": "execute_result"
    }
   ],
   "source": [
    "from sklearn.cluster import KMeans\n",
    "\n",
    "kmeans = KMeans(n_clusters=6) #Based on the distinct clustering in the above $/sf graph\n",
    "kmeans.fit(byStorex)\n",
    "byStorex['Cluster'] = kmeans.labels_\n",
    "byStorex.head()"
   ]
  },
  {
   "cell_type": "markdown",
   "metadata": {},
   "source": [
    "NOW THAT THE STORE ARE CLUSTERED...MORE MEANINGFUL inferences...size's influence on sales"
   ]
  },
  {
   "cell_type": "code",
   "execution_count": 31,
   "metadata": {},
   "outputs": [
    {
     "data": {
      "text/plain": [
       "<matplotlib.axes._subplots.AxesSubplot at 0x2775b4e4390>"
      ]
     },
     "execution_count": 31,
     "metadata": {},
     "output_type": "execute_result"
    },
    {
     "data": {
      "image/png": "[encoded data removed]",
      "text/plain": [
       "<Figure size 1080x360 with 2 Axes>"
      ]
     },
     "metadata": {},
     "output_type": "display_data"
    }
   ],
   "source": [
    "fig, (ax1, ax2) = plt.subplots(ncols=2, figsize=(15,5))\n",
    "sns.scatterplot(x='Size',y='Weekly_Sales',data=byStorex, hue='Cluster', ax=ax1, palette=palette)\n",
    "sns.scatterplot(x='Size',y='SalesPerSF',data=byStorex, hue='Cluster', ax=ax2, palette=palette)"
   ]
  },
  {
   "cell_type": "code",
   "execution_count": 32,
   "metadata": {},
   "outputs": [
    {
     "data": {
      "text/plain": [
       "<seaborn.axisgrid.FacetGrid at 0x2775b738b38>"
      ]
     },
     "execution_count": 32,
     "metadata": {},
     "output_type": "execute_result"
    },
    {
     "data": {
      "image/png": "[encoded data removed]",
      "text/plain": [
       "<Figure size 1296x216 with 6 Axes>"
      ]
     },
     "metadata": {},
     "output_type": "display_data"
    },
    {
     "data": {
      "image/png": "[encoded data removed]",
      "text/plain": [
       "<Figure size 1296x216 with 6 Axes>"
      ]
     },
     "metadata": {},
     "output_type": "display_data"
    }
   ],
   "source": [
    "fgrid = sns.FacetGrid(data=byStorex, col='Cluster')\n",
    "fgrid.map(plt.scatter,'Size', 'Weekly_Sales')\n",
    "\n",
    "fgrid = sns.FacetGrid(data=byStorex, col='Cluster')\n",
    "fgrid.map(plt.scatter,'Size', 'SalesPerSF')"
   ]
  },
  {
   "cell_type": "code",
   "execution_count": 33,
   "metadata": {},
   "outputs": [
    {
     "data": {
      "text/plain": [
       "<matplotlib.axes._subplots.AxesSubplot at 0x2775c0014a8>"
      ]
     },
     "execution_count": 33,
     "metadata": {},
     "output_type": "execute_result"
    },
    {
     "data": {
      "image/png": "[encoded data removed]",
      "text/plain": [
       "<Figure size 1080x288 with 3 Axes>"
      ]
     },
     "metadata": {},
     "output_type": "display_data"
    }
   ],
   "source": [
    "fig, (ax1, ax2, ax3) = plt.subplots(ncols=3, figsize=(15,4))\n",
    "sns.boxplot(x='Cluster', y='Size', data=byStorex, ax=ax1)\n",
    "sns.boxplot(x='Cluster', y='Weekly_Sales', data=byStorex, ax=ax2)\n",
    "sns.boxplot(x='Cluster', y='SalesPerSF', data=byStorex, ax=ax3)"
   ]
  },
  {
   "cell_type": "markdown",
   "metadata": {},
   "source": [
    "FINAL STORE SALES THOUGHTS..."
   ]
  },
  {
   "cell_type": "markdown",
   "metadata": {},
   "source": [
    "# Sales by Dept\n",
    "Which departments are influenced by seasonality?"
   ]
  },
  {
   "cell_type": "code",
   "execution_count": 34,
   "metadata": {},
   "outputs": [
    {
     "data": {
      "text/plain": [
       "81"
      ]
     },
     "execution_count": 34,
     "metadata": {},
     "output_type": "execute_result"
    }
   ],
   "source": [
    "#number of unique departments\n",
    "sales['Dept'].nunique()"
   ]
  },
  {
   "cell_type": "code",
   "execution_count": 35,
   "metadata": {},
   "outputs": [
    {
     "data": {
      "text/plain": [
       "<matplotlib.axes._subplots.AxesSubplot at 0x2775b69c630>"
      ]
     },
     "execution_count": 35,
     "metadata": {},
     "output_type": "execute_result"
    },
    {
     "data": {
      "image/png": "[encoded data removed]",
      "text/plain": [
       "<Figure size 1080x576 with 1 Axes>"
      ]
     },
     "metadata": {},
     "output_type": "display_data"
    }
   ],
   "source": [
    "byDept = sales.groupby(['Dept']).sum()\n",
    "byDept['Weekly_Sales'].plot(kind='bar',figsize=(15,8))"
   ]
  },
  {
   "cell_type": "markdown",
   "metadata": {},
   "source": [
    "as expected prices vary very heavily among depts...negative sales (loss) observed...filter store with negative sales"
   ]
  },
  {
   "cell_type": "code",
   "execution_count": 36,
   "metadata": {},
   "outputs": [
    {
     "data": {
      "text/html": [
       "<div>\n",
       "<style scoped>\n",
       "    .dataframe tbody tr th:only-of-type {\n",
       "        vertical-align: middle;\n",
       "    }\n",
       "\n",
       "    .dataframe tbody tr th {\n",
       "        vertical-align: top;\n",
       "    }\n",
       "\n",
       "    .dataframe thead th {\n",
       "        text-align: right;\n",
       "    }\n",
       "</style>\n",
       "<table border=\"1\" class=\"dataframe\">\n",
       "  <thead>\n",
       "    <tr style=\"text-align: right;\">\n",
       "      <th></th>\n",
       "      <th>Store</th>\n",
       "      <th>Weekly_Sales</th>\n",
       "      <th>IsHoliday</th>\n",
       "    </tr>\n",
       "    <tr>\n",
       "      <th>Dept</th>\n",
       "      <th></th>\n",
       "      <th></th>\n",
       "      <th></th>\n",
       "    </tr>\n",
       "  </thead>\n",
       "  <tbody>\n",
       "    <tr>\n",
       "      <th>47</th>\n",
       "      <td>12641</td>\n",
       "      <td>-4962.93</td>\n",
       "      <td>55.0</td>\n",
       "    </tr>\n",
       "  </tbody>\n",
       "</table>\n",
       "</div>"
      ],
      "text/plain": [
       "      Store  Weekly_Sales  IsHoliday\n",
       "Dept                                \n",
       "47    12641      -4962.93       55.0"
      ]
     },
     "execution_count": 36,
     "metadata": {},
     "output_type": "execute_result"
    }
   ],
   "source": [
    "byDept.query('Weekly_Sales<=0')"
   ]
  },
  {
   "cell_type": "markdown",
   "metadata": {},
   "source": [
    "## DICKEY-FULLER TEST\n",
    "determine stationarity...lags!!"
   ]
  },
  {
   "cell_type": "code",
   "execution_count": 37,
   "metadata": {},
   "outputs": [],
   "source": [
    "from statsmodels.tsa.stattools import adfuller"
   ]
  },
  {
   "cell_type": "code",
   "execution_count": 38,
   "metadata": {},
   "outputs": [
    {
     "data": {
      "text/html": [
       "<div>\n",
       "<style scoped>\n",
       "    .dataframe tbody tr th:only-of-type {\n",
       "        vertical-align: middle;\n",
       "    }\n",
       "\n",
       "    .dataframe tbody tr th {\n",
       "        vertical-align: top;\n",
       "    }\n",
       "\n",
       "    .dataframe thead th {\n",
       "        text-align: right;\n",
       "    }\n",
       "</style>\n",
       "<table border=\"1\" class=\"dataframe\">\n",
       "  <thead>\n",
       "    <tr style=\"text-align: right;\">\n",
       "      <th></th>\n",
       "      <th>Store</th>\n",
       "      <th>Dept</th>\n",
       "      <th>Date</th>\n",
       "      <th>Weekly_Sales</th>\n",
       "      <th>IsHoliday</th>\n",
       "    </tr>\n",
       "  </thead>\n",
       "  <tbody>\n",
       "    <tr>\n",
       "      <th>0</th>\n",
       "      <td>1</td>\n",
       "      <td>1</td>\n",
       "      <td>2010-02-05</td>\n",
       "      <td>24924.50</td>\n",
       "      <td>False</td>\n",
       "    </tr>\n",
       "    <tr>\n",
       "      <th>1</th>\n",
       "      <td>1</td>\n",
       "      <td>1</td>\n",
       "      <td>2010-02-12</td>\n",
       "      <td>46039.49</td>\n",
       "      <td>True</td>\n",
       "    </tr>\n",
       "    <tr>\n",
       "      <th>2</th>\n",
       "      <td>1</td>\n",
       "      <td>1</td>\n",
       "      <td>2010-02-19</td>\n",
       "      <td>41595.55</td>\n",
       "      <td>False</td>\n",
       "    </tr>\n",
       "    <tr>\n",
       "      <th>3</th>\n",
       "      <td>1</td>\n",
       "      <td>1</td>\n",
       "      <td>2010-02-26</td>\n",
       "      <td>19403.54</td>\n",
       "      <td>False</td>\n",
       "    </tr>\n",
       "    <tr>\n",
       "      <th>4</th>\n",
       "      <td>1</td>\n",
       "      <td>1</td>\n",
       "      <td>2010-03-05</td>\n",
       "      <td>21827.90</td>\n",
       "      <td>False</td>\n",
       "    </tr>\n",
       "    <tr>\n",
       "      <th>...</th>\n",
       "      <td>...</td>\n",
       "      <td>...</td>\n",
       "      <td>...</td>\n",
       "      <td>...</td>\n",
       "      <td>...</td>\n",
       "    </tr>\n",
       "    <tr>\n",
       "      <th>421565</th>\n",
       "      <td>45</td>\n",
       "      <td>98</td>\n",
       "      <td>2012-09-28</td>\n",
       "      <td>508.37</td>\n",
       "      <td>False</td>\n",
       "    </tr>\n",
       "    <tr>\n",
       "      <th>421566</th>\n",
       "      <td>45</td>\n",
       "      <td>98</td>\n",
       "      <td>2012-10-05</td>\n",
       "      <td>628.10</td>\n",
       "      <td>False</td>\n",
       "    </tr>\n",
       "    <tr>\n",
       "      <th>421567</th>\n",
       "      <td>45</td>\n",
       "      <td>98</td>\n",
       "      <td>2012-10-12</td>\n",
       "      <td>1061.02</td>\n",
       "      <td>False</td>\n",
       "    </tr>\n",
       "    <tr>\n",
       "      <th>421568</th>\n",
       "      <td>45</td>\n",
       "      <td>98</td>\n",
       "      <td>2012-10-19</td>\n",
       "      <td>760.01</td>\n",
       "      <td>False</td>\n",
       "    </tr>\n",
       "    <tr>\n",
       "      <th>421569</th>\n",
       "      <td>45</td>\n",
       "      <td>98</td>\n",
       "      <td>2012-10-26</td>\n",
       "      <td>1076.80</td>\n",
       "      <td>False</td>\n",
       "    </tr>\n",
       "  </tbody>\n",
       "</table>\n",
       "<p>421570 rows × 5 columns</p>\n",
       "</div>"
      ],
      "text/plain": [
       "        Store  Dept        Date  Weekly_Sales  IsHoliday\n",
       "0           1     1  2010-02-05      24924.50      False\n",
       "1           1     1  2010-02-12      46039.49       True\n",
       "2           1     1  2010-02-19      41595.55      False\n",
       "3           1     1  2010-02-26      19403.54      False\n",
       "4           1     1  2010-03-05      21827.90      False\n",
       "...       ...   ...         ...           ...        ...\n",
       "421565     45    98  2012-09-28        508.37      False\n",
       "421566     45    98  2012-10-05        628.10      False\n",
       "421567     45    98  2012-10-12       1061.02      False\n",
       "421568     45    98  2012-10-19        760.01      False\n",
       "421569     45    98  2012-10-26       1076.80      False\n",
       "\n",
       "[421570 rows x 5 columns]"
      ]
     },
     "execution_count": 38,
     "metadata": {},
     "output_type": "execute_result"
    }
   ],
   "source": [
    "salesx = pd.read_csv(\"data/sales.csv\")\n",
    "salesx"
   ]
  },
  {
   "cell_type": "code",
   "execution_count": 39,
   "metadata": {},
   "outputs": [
    {
     "data": {
      "text/plain": [
       "5873.0"
      ]
     },
     "execution_count": 39,
     "metadata": {},
     "output_type": "execute_result"
    }
   ],
   "source": [
    "#median number of records for depts with NO missing week\n",
    "salesx.groupby('Dept').nunique().sort_values('Date').query('Date==143')['Weekly_Sales'].median()"
   ]
  },
  {
   "cell_type": "code",
   "execution_count": 40,
   "metadata": {},
   "outputs": [
    {
     "data": {
      "text/html": [
       "<div>\n",
       "<style scoped>\n",
       "    .dataframe tbody tr th:only-of-type {\n",
       "        vertical-align: middle;\n",
       "    }\n",
       "\n",
       "    .dataframe tbody tr th {\n",
       "        vertical-align: top;\n",
       "    }\n",
       "\n",
       "    .dataframe thead th {\n",
       "        text-align: right;\n",
       "    }\n",
       "</style>\n",
       "<table border=\"1\" class=\"dataframe\">\n",
       "  <thead>\n",
       "    <tr style=\"text-align: right;\">\n",
       "      <th></th>\n",
       "      <th>Store</th>\n",
       "      <th>Dept</th>\n",
       "      <th>Date</th>\n",
       "      <th>Weekly_Sales</th>\n",
       "      <th>IsHoliday</th>\n",
       "    </tr>\n",
       "    <tr>\n",
       "      <th>Dept</th>\n",
       "      <th></th>\n",
       "      <th></th>\n",
       "      <th></th>\n",
       "      <th></th>\n",
       "      <th></th>\n",
       "    </tr>\n",
       "  </thead>\n",
       "  <tbody>\n",
       "    <tr>\n",
       "      <th>43</th>\n",
       "      <td>5</td>\n",
       "      <td>1</td>\n",
       "      <td>12</td>\n",
       "      <td>6</td>\n",
       "      <td>2</td>\n",
       "    </tr>\n",
       "    <tr>\n",
       "      <th>39</th>\n",
       "      <td>5</td>\n",
       "      <td>1</td>\n",
       "      <td>16</td>\n",
       "      <td>12</td>\n",
       "      <td>2</td>\n",
       "    </tr>\n",
       "    <tr>\n",
       "      <th>77</th>\n",
       "      <td>37</td>\n",
       "      <td>1</td>\n",
       "      <td>35</td>\n",
       "      <td>58</td>\n",
       "      <td>2</td>\n",
       "    </tr>\n",
       "    <tr>\n",
       "      <th>78</th>\n",
       "      <td>37</td>\n",
       "      <td>1</td>\n",
       "      <td>82</td>\n",
       "      <td>38</td>\n",
       "      <td>2</td>\n",
       "    </tr>\n",
       "    <tr>\n",
       "      <th>99</th>\n",
       "      <td>37</td>\n",
       "      <td>1</td>\n",
       "      <td>94</td>\n",
       "      <td>311</td>\n",
       "      <td>2</td>\n",
       "    </tr>\n",
       "    <tr>\n",
       "      <th>51</th>\n",
       "      <td>37</td>\n",
       "      <td>1</td>\n",
       "      <td>131</td>\n",
       "      <td>780</td>\n",
       "      <td>2</td>\n",
       "    </tr>\n",
       "    <tr>\n",
       "      <th>47</th>\n",
       "      <td>37</td>\n",
       "      <td>1</td>\n",
       "      <td>138</td>\n",
       "      <td>277</td>\n",
       "      <td>2</td>\n",
       "    </tr>\n",
       "  </tbody>\n",
       "</table>\n",
       "</div>"
      ],
      "text/plain": [
       "      Store  Dept  Date  Weekly_Sales  IsHoliday\n",
       "Dept                                            \n",
       "43        5     1    12             6          2\n",
       "39        5     1    16            12          2\n",
       "77       37     1    35            58          2\n",
       "78       37     1    82            38          2\n",
       "99       37     1    94           311          2\n",
       "51       37     1   131           780          2\n",
       "47       37     1   138           277          2"
      ]
     },
     "execution_count": 40,
     "metadata": {},
     "output_type": "execute_result"
    }
   ],
   "source": [
    "#Depts with missing weeks\n",
    "missing_wks = salesx.groupby('Dept').nunique().sort_values('Date').query('Date<143')\n",
    "missing_wks"
   ]
  },
  {
   "cell_type": "code",
   "execution_count": 41,
   "metadata": {},
   "outputs": [
    {
     "data": {
      "text/plain": [
       "[43, 39, 77, 78, 99, 51, 47]"
      ]
     },
     "execution_count": 41,
     "metadata": {},
     "output_type": "execute_result"
    }
   ],
   "source": [
    "weeks = list(missing_wks.index)\n",
    "weeks"
   ]
  },
  {
   "cell_type": "code",
   "execution_count": 42,
   "metadata": {},
   "outputs": [
    {
     "data": {
      "text/html": [
       "<div>\n",
       "<style scoped>\n",
       "    .dataframe tbody tr th:only-of-type {\n",
       "        vertical-align: middle;\n",
       "    }\n",
       "\n",
       "    .dataframe tbody tr th {\n",
       "        vertical-align: top;\n",
       "    }\n",
       "\n",
       "    .dataframe thead th {\n",
       "        text-align: right;\n",
       "    }\n",
       "</style>\n",
       "<table border=\"1\" class=\"dataframe\">\n",
       "  <thead>\n",
       "    <tr style=\"text-align: right;\">\n",
       "      <th></th>\n",
       "      <th>Store</th>\n",
       "      <th>Weekly_Sales</th>\n",
       "      <th>IsHoliday</th>\n",
       "    </tr>\n",
       "    <tr>\n",
       "      <th>Dept</th>\n",
       "      <th></th>\n",
       "      <th></th>\n",
       "      <th></th>\n",
       "    </tr>\n",
       "  </thead>\n",
       "  <tbody>\n",
       "    <tr>\n",
       "      <th>39</th>\n",
       "      <td>228</td>\n",
       "      <td>177.98</td>\n",
       "      <td>1.0</td>\n",
       "    </tr>\n",
       "    <tr>\n",
       "      <th>43</th>\n",
       "      <td>287</td>\n",
       "      <td>14.32</td>\n",
       "      <td>1.0</td>\n",
       "    </tr>\n",
       "    <tr>\n",
       "      <th>47</th>\n",
       "      <td>12641</td>\n",
       "      <td>-4962.93</td>\n",
       "      <td>55.0</td>\n",
       "    </tr>\n",
       "    <tr>\n",
       "      <th>51</th>\n",
       "      <td>32135</td>\n",
       "      <td>30572.83</td>\n",
       "      <td>85.0</td>\n",
       "    </tr>\n",
       "    <tr>\n",
       "      <th>77</th>\n",
       "      <td>3275</td>\n",
       "      <td>49344.27</td>\n",
       "      <td>48.0</td>\n",
       "    </tr>\n",
       "    <tr>\n",
       "      <th>78</th>\n",
       "      <td>4504</td>\n",
       "      <td>1714.71</td>\n",
       "      <td>26.0</td>\n",
       "    </tr>\n",
       "    <tr>\n",
       "      <th>99</th>\n",
       "      <td>18480</td>\n",
       "      <td>358149.85</td>\n",
       "      <td>95.0</td>\n",
       "    </tr>\n",
       "  </tbody>\n",
       "</table>\n",
       "</div>"
      ],
      "text/plain": [
       "      Store  Weekly_Sales  IsHoliday\n",
       "Dept                                \n",
       "39      228        177.98        1.0\n",
       "43      287         14.32        1.0\n",
       "47    12641      -4962.93       55.0\n",
       "51    32135      30572.83       85.0\n",
       "77     3275      49344.27       48.0\n",
       "78     4504       1714.71       26.0\n",
       "99    18480     358149.85       95.0"
      ]
     },
     "execution_count": 42,
     "metadata": {},
     "output_type": "execute_result"
    }
   ],
   "source": [
    "missing_sum = salesx.query(f\"Dept in {weeks}\").groupby('Dept').sum()\n",
    "missing_sum"
   ]
  },
  {
   "cell_type": "code",
   "execution_count": 43,
   "metadata": {
    "scrolled": false
   },
   "outputs": [
    {
     "data": {
      "image/png": "[encoded data removed]",
      "text/plain": [
       "<Figure size 432x288 with 1 Axes>"
      ]
     },
     "metadata": {},
     "output_type": "display_data"
    },
    {
     "data": {
      "image/png": "[encoded data removed]",
      "text/plain": [
       "<Figure size 432x288 with 1 Axes>"
      ]
     },
     "metadata": {},
     "output_type": "display_data"
    },
    {
     "data": {
      "image/png": "[encoded data removed]",
      "text/plain": [
       "<Figure size 432x288 with 1 Axes>"
      ]
     },
     "metadata": {},
     "output_type": "display_data"
    },
    {
     "data": {
      "image/png": "[encoded data removed]",
      "text/plain": [
       "<Figure size 432x288 with 1 Axes>"
      ]
     },
     "metadata": {},
     "output_type": "display_data"
    },
    {
     "data": {
      "image/png": "[encoded data removed]",
      "text/plain": [
       "<Figure size 432x288 with 1 Axes>"
      ]
     },
     "metadata": {},
     "output_type": "display_data"
    },
    {
     "data": {
      "image/png": "[encoded data removed]",
      "text/plain": [
       "<Figure size 432x288 with 1 Axes>"
      ]
     },
     "metadata": {},
     "output_type": "display_data"
    },
    {
     "data": {
      "image/png": "[encoded data removed]",
      "text/plain": [
       "<Figure size 432x288 with 1 Axes>"
      ]
     },
     "metadata": {},
     "output_type": "display_data"
    }
   ],
   "source": [
    "for dept in missing_wks.index:\n",
    "    salesx.query(f\"Dept=={dept}\").groupby('Date').sum().plot(y='Weekly_Sales', title=f\"Dept {dept} Sales\")"
   ]
  },
  {
   "cell_type": "code",
   "execution_count": 44,
   "metadata": {},
   "outputs": [
    {
     "data": {
      "text/html": [
       "<div>\n",
       "<style scoped>\n",
       "    .dataframe tbody tr th:only-of-type {\n",
       "        vertical-align: middle;\n",
       "    }\n",
       "\n",
       "    .dataframe tbody tr th {\n",
       "        vertical-align: top;\n",
       "    }\n",
       "\n",
       "    .dataframe thead th {\n",
       "        text-align: right;\n",
       "    }\n",
       "</style>\n",
       "<table border=\"1\" class=\"dataframe\">\n",
       "  <thead>\n",
       "    <tr style=\"text-align: right;\">\n",
       "      <th></th>\n",
       "      <th>Dept</th>\n",
       "      <th>Stationary</th>\n",
       "    </tr>\n",
       "  </thead>\n",
       "  <tbody>\n",
       "    <tr>\n",
       "      <th>0</th>\n",
       "      <td>1</td>\n",
       "      <td>1</td>\n",
       "    </tr>\n",
       "    <tr>\n",
       "      <th>1</th>\n",
       "      <td>2</td>\n",
       "      <td>0</td>\n",
       "    </tr>\n",
       "    <tr>\n",
       "      <th>2</th>\n",
       "      <td>3</td>\n",
       "      <td>0</td>\n",
       "    </tr>\n",
       "    <tr>\n",
       "      <th>3</th>\n",
       "      <td>4</td>\n",
       "      <td>0</td>\n",
       "    </tr>\n",
       "    <tr>\n",
       "      <th>4</th>\n",
       "      <td>5</td>\n",
       "      <td>0</td>\n",
       "    </tr>\n",
       "  </tbody>\n",
       "</table>\n",
       "</div>"
      ],
      "text/plain": [
       "   Dept  Stationary\n",
       "0     1           1\n",
       "1     2           0\n",
       "2     3           0\n",
       "3     4           0\n",
       "4     5           0"
      ]
     },
     "execution_count": 44,
     "metadata": {},
     "output_type": "execute_result"
    }
   ],
   "source": [
    "stat_list = []\n",
    "dept_list = []\n",
    "depts = salesx.Dept.unique()\n",
    "for dept in depts:\n",
    "    if dept in weeks:\n",
    "        continue\n",
    "        \n",
    "    byDeptx = salesx.query(f\"Dept=={dept}\").groupby('Date').sum()\n",
    "    dftest = adfuller(byDeptx['Weekly_Sales'], maxlag=55)\n",
    "    p_value = dftest[1]\n",
    "    lags = dftest[2]\n",
    "\n",
    "    if p_value <= 0.05:\n",
    "        stationarity = 1\n",
    "        \n",
    "    else:\n",
    "        stationarity = 0\n",
    "    \n",
    "    dept_list.append(dept)\n",
    "    stat_list.append(stationarity)\n",
    "\n",
    "stationarities = pd.DataFrame({'Dept': dept_list,\n",
    "                              'Stationary': stat_list})\n",
    "stationarities.head()"
   ]
  },
  {
   "cell_type": "markdown",
   "metadata": {},
   "source": [
    "STATIONARY VS NON-STATIONARY...COUNT, %OF DEPT, %OF SALES DEPEND ON SEASONALITY/TRENDS??"
   ]
  },
  {
   "cell_type": "code",
   "execution_count": 45,
   "metadata": {},
   "outputs": [
    {
     "data": {
      "text/html": [
       "<div>\n",
       "<style scoped>\n",
       "    .dataframe tbody tr th:only-of-type {\n",
       "        vertical-align: middle;\n",
       "    }\n",
       "\n",
       "    .dataframe tbody tr th {\n",
       "        vertical-align: top;\n",
       "    }\n",
       "\n",
       "    .dataframe thead th {\n",
       "        text-align: right;\n",
       "    }\n",
       "</style>\n",
       "<table border=\"1\" class=\"dataframe\">\n",
       "  <thead>\n",
       "    <tr style=\"text-align: right;\">\n",
       "      <th></th>\n",
       "      <th>Stationary</th>\n",
       "      <th>Date</th>\n",
       "      <th>Store</th>\n",
       "      <th>Dept</th>\n",
       "      <th>Weekly_Sales</th>\n",
       "      <th>IsHoliday</th>\n",
       "    </tr>\n",
       "  </thead>\n",
       "  <tbody>\n",
       "    <tr>\n",
       "      <th>0</th>\n",
       "      <td>0.0</td>\n",
       "      <td>2010-02-05</td>\n",
       "      <td>58915</td>\n",
       "      <td>122060</td>\n",
       "      <td>48039569.65</td>\n",
       "      <td>0.0</td>\n",
       "    </tr>\n",
       "    <tr>\n",
       "      <th>1</th>\n",
       "      <td>0.0</td>\n",
       "      <td>2010-02-12</td>\n",
       "      <td>58777</td>\n",
       "      <td>122443</td>\n",
       "      <td>46032611.95</td>\n",
       "      <td>2658.0</td>\n",
       "    </tr>\n",
       "    <tr>\n",
       "      <th>2</th>\n",
       "      <td>0.0</td>\n",
       "      <td>2010-02-19</td>\n",
       "      <td>59111</td>\n",
       "      <td>122932</td>\n",
       "      <td>46248198.63</td>\n",
       "      <td>0.0</td>\n",
       "    </tr>\n",
       "    <tr>\n",
       "      <th>3</th>\n",
       "      <td>0.0</td>\n",
       "      <td>2010-02-26</td>\n",
       "      <td>58787</td>\n",
       "      <td>121808</td>\n",
       "      <td>42400522.75</td>\n",
       "      <td>0.0</td>\n",
       "    </tr>\n",
       "    <tr>\n",
       "      <th>4</th>\n",
       "      <td>0.0</td>\n",
       "      <td>2010-03-05</td>\n",
       "      <td>58709</td>\n",
       "      <td>121288</td>\n",
       "      <td>45083785.01</td>\n",
       "      <td>0.0</td>\n",
       "    </tr>\n",
       "  </tbody>\n",
       "</table>\n",
       "</div>"
      ],
      "text/plain": [
       "   Stationary       Date  Store    Dept  Weekly_Sales  IsHoliday\n",
       "0         0.0 2010-02-05  58915  122060   48039569.65        0.0\n",
       "1         0.0 2010-02-12  58777  122443   46032611.95     2658.0\n",
       "2         0.0 2010-02-19  59111  122932   46248198.63        0.0\n",
       "3         0.0 2010-02-26  58787  121808   42400522.75        0.0\n",
       "4         0.0 2010-03-05  58709  121288   45083785.01        0.0"
      ]
     },
     "execution_count": 45,
     "metadata": {},
     "output_type": "execute_result"
    }
   ],
   "source": [
    "statx = pd.merge(sales, stationarities, on='Dept', how='left')\n",
    "statx = statx.groupby(['Stationary','Date'], as_index=False).sum()\n",
    "\n",
    "statx.head()"
   ]
  },
  {
   "cell_type": "code",
   "execution_count": 46,
   "metadata": {},
   "outputs": [
    {
     "data": {
      "text/plain": [
       "<matplotlib.axes._subplots.AxesSubplot at 0x2775d52e4e0>"
      ]
     },
     "execution_count": 46,
     "metadata": {},
     "output_type": "execute_result"
    },
    {
     "data": {
      "image/png": "[encoded data removed]",
      "text/plain": [
       "<Figure size 432x288 with 1 Axes>"
      ]
     },
     "metadata": {},
     "output_type": "display_data"
    }
   ],
   "source": [
    "stationarities.groupby('Stationary').nunique().plot(y='Dept',kind='pie')"
   ]
  },
  {
   "cell_type": "code",
   "execution_count": 47,
   "metadata": {},
   "outputs": [
    {
     "data": {
      "text/plain": [
       "<matplotlib.axes._subplots.AxesSubplot at 0x2775b0c5780>"
      ]
     },
     "execution_count": 47,
     "metadata": {},
     "output_type": "execute_result"
    },
    {
     "data": {
      "image/png": "[encoded data removed]",
      "text/plain": [
       "<Figure size 432x288 with 1 Axes>"
      ]
     },
     "metadata": {},
     "output_type": "display_data"
    }
   ],
   "source": [
    "x = pd.merge(byDept, stationarities, on='Dept',how='left')\n",
    "x.groupby('Stationary').sum().plot(y='Weekly_Sales',kind='pie')"
   ]
  },
  {
   "cell_type": "code",
   "execution_count": 48,
   "metadata": {},
   "outputs": [
    {
     "data": {
      "text/plain": [
       "<matplotlib.axes._subplots.AxesSubplot at 0x2775b137908>"
      ]
     },
     "execution_count": 48,
     "metadata": {},
     "output_type": "execute_result"
    },
    {
     "data": {
      "image/png": "[encoded data removed]",
      "text/plain": [
       "<Figure size 1080x288 with 2 Axes>"
      ]
     },
     "metadata": {},
     "output_type": "display_data"
    }
   ],
   "source": [
    "fig, (ax1, ax2) = plt.subplots(ncols=2, figsize=(15,4))\n",
    "sns.lineplot(x=\"Date\", y=\"Weekly_Sales\",data=statx.query(\"Stationary==1\"), ax=ax1)\n",
    "sns.lineplot(x=\"Date\", y=\"Weekly_Sales\",data=statx.query(\"Stationary==0\"), ax=ax2)"
   ]
  },
  {
   "cell_type": "markdown",
   "metadata": {},
   "source": [
    "# 3. Forecasting\n",
    "describe methodology..stationarity/DFT results determine model type(ARIMA or SARIMAx)...Eget felis eget nunc lobortis mattis. Vulputate sapien nec sagittis aliquam malesuada bibendum. Adipiscing tristique risus nec feugiat in fermentum posuere urna. Sapien pellentesque habitant morbi tristique senectus et netus. Faucibus scelerisque eleifend donec pretium vulputate sapien nec. Eget egestas purus viverra"
   ]
  },
  {
   "cell_type": "markdown",
   "metadata": {},
   "source": [
    "## Seasonal Decomposition"
   ]
  },
  {
   "cell_type": "code",
   "execution_count": 49,
   "metadata": {
    "scrolled": true
   },
   "outputs": [
    {
     "data": {
      "image/png": "[encoded data removed]",
      "text/plain": [
       "<Figure size 432x288 with 4 Axes>"
      ]
     },
     "metadata": {},
     "output_type": "display_data"
    }
   ],
   "source": [
    "from statsmodels.tsa.seasonal import seasonal_decompose\n",
    "\n",
    "result = seasonal_decompose(byDate['Weekly_Sales'], model='add')\n",
    "result.plot();"
   ]
  },
  {
   "cell_type": "markdown",
   "metadata": {},
   "source": [
    "# SARIMA"
   ]
  },
  {
   "cell_type": "code",
   "execution_count": 50,
   "metadata": {},
   "outputs": [],
   "source": [
    "from statsmodels.tsa.statespace.sarimax import SARIMAX\n",
    "\n",
    "from statsmodels.graphics.tsaplots import plot_acf,plot_pacf # for determining (p,q) orders\n",
    "from pmdarima import auto_arima    "
   ]
  },
  {
   "cell_type": "code",
   "execution_count": 51,
   "metadata": {},
   "outputs": [
    {
     "data": {
      "text/html": [
       "<div>\n",
       "<style scoped>\n",
       "    .dataframe tbody tr th:only-of-type {\n",
       "        vertical-align: middle;\n",
       "    }\n",
       "\n",
       "    .dataframe tbody tr th {\n",
       "        vertical-align: top;\n",
       "    }\n",
       "\n",
       "    .dataframe thead th {\n",
       "        text-align: right;\n",
       "    }\n",
       "</style>\n",
       "<table border=\"1\" class=\"dataframe\">\n",
       "  <thead>\n",
       "    <tr style=\"text-align: right;\">\n",
       "      <th></th>\n",
       "      <th>Store</th>\n",
       "      <th>Dept</th>\n",
       "      <th>Weekly_Sales</th>\n",
       "      <th>IsHoliday</th>\n",
       "    </tr>\n",
       "    <tr>\n",
       "      <th>Date</th>\n",
       "      <th></th>\n",
       "      <th></th>\n",
       "      <th></th>\n",
       "      <th></th>\n",
       "    </tr>\n",
       "  </thead>\n",
       "  <tbody>\n",
       "    <tr>\n",
       "      <th>2010-02-05</th>\n",
       "      <td>65124</td>\n",
       "      <td>130557</td>\n",
       "      <td>49750740.50</td>\n",
       "      <td>0</td>\n",
       "    </tr>\n",
       "    <tr>\n",
       "      <th>2010-02-12</th>\n",
       "      <td>65082</td>\n",
       "      <td>131179</td>\n",
       "      <td>48336677.63</td>\n",
       "      <td>1</td>\n",
       "    </tr>\n",
       "    <tr>\n",
       "      <th>2010-02-19</th>\n",
       "      <td>65610</td>\n",
       "      <td>131897</td>\n",
       "      <td>48276993.78</td>\n",
       "      <td>0</td>\n",
       "    </tr>\n",
       "    <tr>\n",
       "      <th>2010-02-26</th>\n",
       "      <td>65045</td>\n",
       "      <td>130161</td>\n",
       "      <td>43968571.13</td>\n",
       "      <td>0</td>\n",
       "    </tr>\n",
       "    <tr>\n",
       "      <th>2010-03-05</th>\n",
       "      <td>64897</td>\n",
       "      <td>129670</td>\n",
       "      <td>46871470.30</td>\n",
       "      <td>0</td>\n",
       "    </tr>\n",
       "  </tbody>\n",
       "</table>\n",
       "</div>"
      ],
      "text/plain": [
       "            Store    Dept  Weekly_Sales  IsHoliday\n",
       "Date                                              \n",
       "2010-02-05  65124  130557   49750740.50          0\n",
       "2010-02-12  65082  131179   48336677.63          1\n",
       "2010-02-19  65610  131897   48276993.78          0\n",
       "2010-02-26  65045  130161   43968571.13          0\n",
       "2010-03-05  64897  129670   46871470.30          0"
      ]
     },
     "execution_count": 51,
     "metadata": {},
     "output_type": "execute_result"
    }
   ],
   "source": [
    "byDate.IsHoliday = byDate.IsHoliday.astype('bool').astype('int')\n",
    "byDate.head()"
   ]
  },
  {
   "cell_type": "code",
   "execution_count": 52,
   "metadata": {},
   "outputs": [
    {
     "data": {
      "text/plain": [
       "DatetimeIndex(['2010-02-05', '2010-02-12', '2010-02-19', '2010-02-26',\n",
       "               '2010-03-05', '2010-03-12', '2010-03-19', '2010-03-26',\n",
       "               '2010-04-02', '2010-04-09',\n",
       "               ...\n",
       "               '2012-08-24', '2012-08-31', '2012-09-07', '2012-09-14',\n",
       "               '2012-09-21', '2012-09-28', '2012-10-05', '2012-10-12',\n",
       "               '2012-10-19', '2012-10-26'],\n",
       "              dtype='datetime64[ns]', name='Date', length=143, freq='W-FRI')"
      ]
     },
     "execution_count": 52,
     "metadata": {},
     "output_type": "execute_result"
    }
   ],
   "source": [
    "byDate.index.freq = 'W-FRI'\n",
    "byDate.index"
   ]
  },
  {
   "cell_type": "code",
   "execution_count": 53,
   "metadata": {},
   "outputs": [
    {
     "data": {
      "text/plain": [
       "(0.5483968487251434,\n",
       " 0.9862721701632599,\n",
       " 52,\n",
       " 90,\n",
       " {'1%': -3.505190196159122,\n",
       "  '5%': -2.894232085048011,\n",
       "  '10%': -2.5842101234567902},\n",
       " 2791.5185459500194)"
      ]
     },
     "execution_count": 53,
     "metadata": {},
     "output_type": "execute_result"
    }
   ],
   "source": [
    "#confirm stationarity\n",
    "adfuller(byDate['Weekly_Sales'], maxlag=55)"
   ]
  },
  {
   "cell_type": "code",
   "execution_count": 54,
   "metadata": {},
   "outputs": [
    {
     "name": "stderr",
     "output_type": "stream",
     "text": [
      "C:\\Users\\octav\\AppData\\Local\\Continuum\\anaconda3\\envs\\PythonData\\lib\\site-packages\\statsmodels\\base\\model.py:568: ConvergenceWarning:\n",
      "\n",
      "Maximum Likelihood optimization failed to converge. Check mle_retvals\n",
      "\n",
      "C:\\Users\\octav\\AppData\\Local\\Continuum\\anaconda3\\envs\\PythonData\\lib\\site-packages\\statsmodels\\base\\model.py:568: ConvergenceWarning:\n",
      "\n",
      "Maximum Likelihood optimization failed to converge. Check mle_retvals\n",
      "\n",
      "C:\\Users\\octav\\AppData\\Local\\Continuum\\anaconda3\\envs\\PythonData\\lib\\site-packages\\statsmodels\\base\\model.py:568: ConvergenceWarning:\n",
      "\n",
      "Maximum Likelihood optimization failed to converge. Check mle_retvals\n",
      "\n"
     ]
    },
    {
     "data": {
      "text/html": [
       "<table class=\"simpletable\">\n",
       "<caption>SARIMAX Results</caption>\n",
       "<tr>\n",
       "  <th>Dep. Variable:</th>                  <td>y</td>                <th>  No. Observations:  </th>    <td>143</td>   \n",
       "</tr>\n",
       "<tr>\n",
       "  <th>Model:</th>           <td>SARIMAX(2, 0, 2)x(1, 0, [], 52)</td> <th>  Log Likelihood     </th> <td>-2376.907</td>\n",
       "</tr>\n",
       "<tr>\n",
       "  <th>Date:</th>                   <td>Sat, 23 May 2020</td>         <th>  AIC                </th> <td>4767.813</td> \n",
       "</tr>\n",
       "<tr>\n",
       "  <th>Time:</th>                       <td>09:42:25</td>             <th>  BIC                </th> <td>4788.553</td> \n",
       "</tr>\n",
       "<tr>\n",
       "  <th>Sample:</th>                         <td>0</td>                <th>  HQIC               </th> <td>4776.241</td> \n",
       "</tr>\n",
       "<tr>\n",
       "  <th></th>                             <td> - 143</td>              <th>                     </th>     <td> </td>    \n",
       "</tr>\n",
       "<tr>\n",
       "  <th>Covariance Type:</th>               <td>opg</td>               <th>                     </th>     <td> </td>    \n",
       "</tr>\n",
       "</table>\n",
       "<table class=\"simpletable\">\n",
       "<tr>\n",
       "      <td></td>         <th>coef</th>     <th>std err</th>      <th>z</th>      <th>P>|z|</th>  <th>[0.025</th>    <th>0.975]</th>  \n",
       "</tr>\n",
       "<tr>\n",
       "  <th>intercept</th> <td> 3.103e+07</td> <td> 1.59e-08</td> <td> 1.95e+15</td> <td> 0.000</td> <td>  3.1e+07</td> <td>  3.1e+07</td>\n",
       "</tr>\n",
       "<tr>\n",
       "  <th>ar.L1</th>     <td>   -0.8263</td> <td>    0.277</td> <td>   -2.982</td> <td> 0.003</td> <td>   -1.370</td> <td>   -0.283</td>\n",
       "</tr>\n",
       "<tr>\n",
       "  <th>ar.L2</th>     <td>   -0.1655</td> <td>    0.411</td> <td>   -0.403</td> <td> 0.687</td> <td>   -0.971</td> <td>    0.640</td>\n",
       "</tr>\n",
       "<tr>\n",
       "  <th>ma.L1</th>     <td>    1.2206</td> <td>    0.284</td> <td>    4.303</td> <td> 0.000</td> <td>    0.665</td> <td>    1.777</td>\n",
       "</tr>\n",
       "<tr>\n",
       "  <th>ma.L2</th>     <td>    0.6215</td> <td>    0.272</td> <td>    2.282</td> <td> 0.022</td> <td>    0.088</td> <td>    1.155</td>\n",
       "</tr>\n",
       "<tr>\n",
       "  <th>ar.S.L52</th>  <td>    0.6713</td> <td>    0.041</td> <td>   16.271</td> <td> 0.000</td> <td>    0.590</td> <td>    0.752</td>\n",
       "</tr>\n",
       "<tr>\n",
       "  <th>sigma2</th>    <td> 2.389e+13</td> <td> 1.82e-14</td> <td> 1.31e+27</td> <td> 0.000</td> <td> 2.39e+13</td> <td> 2.39e+13</td>\n",
       "</tr>\n",
       "</table>\n",
       "<table class=\"simpletable\">\n",
       "<tr>\n",
       "  <th>Ljung-Box (Q):</th>          <td>24.98</td> <th>  Jarque-Bera (JB):  </th> <td>891.56</td>\n",
       "</tr>\n",
       "<tr>\n",
       "  <th>Prob(Q):</th>                <td>0.97</td>  <th>  Prob(JB):          </th>  <td>0.00</td> \n",
       "</tr>\n",
       "<tr>\n",
       "  <th>Heteroskedasticity (H):</th> <td>0.18</td>  <th>  Skew:              </th>  <td>2.02</td> \n",
       "</tr>\n",
       "<tr>\n",
       "  <th>Prob(H) (two-sided):</th>    <td>0.00</td>  <th>  Kurtosis:          </th>  <td>14.55</td>\n",
       "</tr>\n",
       "</table><br/><br/>Warnings:<br/>[1] Covariance matrix calculated using the outer product of gradients (complex-step).<br/>[2] Covariance matrix is singular or near-singular, with condition number 1.28e+43. Standard errors may be unstable."
      ],
      "text/plain": [
       "<class 'statsmodels.iolib.summary.Summary'>\n",
       "\"\"\"\n",
       "                                      SARIMAX Results                                      \n",
       "===========================================================================================\n",
       "Dep. Variable:                                   y   No. Observations:                  143\n",
       "Model:             SARIMAX(2, 0, 2)x(1, 0, [], 52)   Log Likelihood               -2376.907\n",
       "Date:                             Sat, 23 May 2020   AIC                           4767.813\n",
       "Time:                                     09:42:25   BIC                           4788.553\n",
       "Sample:                                          0   HQIC                          4776.241\n",
       "                                             - 143                                         \n",
       "Covariance Type:                               opg                                         \n",
       "==============================================================================\n",
       "                 coef    std err          z      P>|z|      [0.025      0.975]\n",
       "------------------------------------------------------------------------------\n",
       "intercept   3.103e+07   1.59e-08   1.95e+15      0.000     3.1e+07     3.1e+07\n",
       "ar.L1         -0.8263      0.277     -2.982      0.003      -1.370      -0.283\n",
       "ar.L2         -0.1655      0.411     -0.403      0.687      -0.971       0.640\n",
       "ma.L1          1.2206      0.284      4.303      0.000       0.665       1.777\n",
       "ma.L2          0.6215      0.272      2.282      0.022       0.088       1.155\n",
       "ar.S.L52       0.6713      0.041     16.271      0.000       0.590       0.752\n",
       "sigma2      2.389e+13   1.82e-14   1.31e+27      0.000    2.39e+13    2.39e+13\n",
       "===================================================================================\n",
       "Ljung-Box (Q):                       24.98   Jarque-Bera (JB):               891.56\n",
       "Prob(Q):                              0.97   Prob(JB):                         0.00\n",
       "Heteroskedasticity (H):               0.18   Skew:                             2.02\n",
       "Prob(H) (two-sided):                  0.00   Kurtosis:                        14.55\n",
       "===================================================================================\n",
       "\n",
       "Warnings:\n",
       "[1] Covariance matrix calculated using the outer product of gradients (complex-step).\n",
       "[2] Covariance matrix is singular or near-singular, with condition number 1.28e+43. Standard errors may be unstable.\n",
       "\"\"\""
      ]
     },
     "execution_count": 54,
     "metadata": {},
     "output_type": "execute_result"
    }
   ],
   "source": [
    "#Run pmdarima.auto_arima to obtain recommended orders\n",
    "auto_arima(byDate['Weekly_Sales'],seasonal=True,m=52).summary()"
   ]
  },
  {
   "cell_type": "code",
   "execution_count": 55,
   "metadata": {},
   "outputs": [],
   "source": [
    "#Split the data into train/test setsdates = byDate.index\n",
    "length = len(byDate)\n",
    "train_len = int(length*0.50)\n",
    "\n",
    "train = byDate.iloc[:train_len]\n",
    "test = byDate.iloc[train_len:]"
   ]
  },
  {
   "cell_type": "code",
   "execution_count": 56,
   "metadata": {},
   "outputs": [
    {
     "data": {
      "text/plain": [
       "71"
      ]
     },
     "execution_count": 56,
     "metadata": {},
     "output_type": "execute_result"
    }
   ],
   "source": [
    "train_len"
   ]
  },
  {
   "cell_type": "code",
   "execution_count": 57,
   "metadata": {},
   "outputs": [
    {
     "data": {
      "text/html": [
       "<table class=\"simpletable\">\n",
       "<caption>SARIMAX Results</caption>\n",
       "<tr>\n",
       "  <th>Dep. Variable:</th>            <td>Weekly_Sales</td>           <th>  No. Observations:  </th>    <td>71</td>    \n",
       "</tr>\n",
       "<tr>\n",
       "  <th>Model:</th>           <td>SARIMAX(2, 0, 2)x(1, 0, [], 52)</td> <th>  Log Likelihood     </th> <td>-1207.538</td>\n",
       "</tr>\n",
       "<tr>\n",
       "  <th>Date:</th>                   <td>Sat, 23 May 2020</td>         <th>  AIC                </th> <td>2427.076</td> \n",
       "</tr>\n",
       "<tr>\n",
       "  <th>Time:</th>                       <td>09:42:28</td>             <th>  BIC                </th> <td>2440.653</td> \n",
       "</tr>\n",
       "<tr>\n",
       "  <th>Sample:</th>                    <td>02-05-2010</td>            <th>  HQIC               </th> <td>2432.475</td> \n",
       "</tr>\n",
       "<tr>\n",
       "  <th></th>                          <td>- 06-10-2011</td>           <th>                     </th>     <td> </td>    \n",
       "</tr>\n",
       "<tr>\n",
       "  <th>Covariance Type:</th>               <td>opg</td>               <th>                     </th>     <td> </td>    \n",
       "</tr>\n",
       "</table>\n",
       "<table class=\"simpletable\">\n",
       "<tr>\n",
       "      <td></td>        <th>coef</th>     <th>std err</th>      <th>z</th>      <th>P>|z|</th>  <th>[0.025</th>    <th>0.975]</th>  \n",
       "</tr>\n",
       "<tr>\n",
       "  <th>ar.L1</th>    <td>    0.0945</td> <td>    0.643</td> <td>    0.147</td> <td> 0.883</td> <td>   -1.166</td> <td>    1.355</td>\n",
       "</tr>\n",
       "<tr>\n",
       "  <th>ar.L2</th>    <td>    0.8967</td> <td>    0.649</td> <td>    1.381</td> <td> 0.167</td> <td>   -0.376</td> <td>    2.170</td>\n",
       "</tr>\n",
       "<tr>\n",
       "  <th>ma.L1</th>    <td>    0.3016</td> <td>    0.675</td> <td>    0.447</td> <td> 0.655</td> <td>   -1.022</td> <td>    1.625</td>\n",
       "</tr>\n",
       "<tr>\n",
       "  <th>ma.L2</th>    <td>   -0.4643</td> <td>    0.470</td> <td>   -0.987</td> <td> 0.324</td> <td>   -1.386</td> <td>    0.458</td>\n",
       "</tr>\n",
       "<tr>\n",
       "  <th>ar.S.L52</th> <td>    0.4789</td> <td>    0.094</td> <td>    5.122</td> <td> 0.000</td> <td>    0.296</td> <td>    0.662</td>\n",
       "</tr>\n",
       "<tr>\n",
       "  <th>sigma2</th>   <td> 3.385e+13</td> <td> 2.12e-15</td> <td>  1.6e+28</td> <td> 0.000</td> <td> 3.39e+13</td> <td> 3.39e+13</td>\n",
       "</tr>\n",
       "</table>\n",
       "<table class=\"simpletable\">\n",
       "<tr>\n",
       "  <th>Ljung-Box (Q):</th>          <td>22.27</td> <th>  Jarque-Bera (JB):  </th> <td>239.70</td>\n",
       "</tr>\n",
       "<tr>\n",
       "  <th>Prob(Q):</th>                <td>0.99</td>  <th>  Prob(JB):          </th>  <td>0.00</td> \n",
       "</tr>\n",
       "<tr>\n",
       "  <th>Heteroskedasticity (H):</th> <td>6.91</td>  <th>  Skew:              </th>  <td>0.03</td> \n",
       "</tr>\n",
       "<tr>\n",
       "  <th>Prob(H) (two-sided):</th>    <td>0.00</td>  <th>  Kurtosis:          </th>  <td>12.00</td>\n",
       "</tr>\n",
       "</table><br/><br/>Warnings:<br/>[1] Covariance matrix calculated using the outer product of gradients (complex-step).<br/>[2] Covariance matrix is singular or near-singular, with condition number 3.13e+45. Standard errors may be unstable."
      ],
      "text/plain": [
       "<class 'statsmodels.iolib.summary.Summary'>\n",
       "\"\"\"\n",
       "                                      SARIMAX Results                                      \n",
       "===========================================================================================\n",
       "Dep. Variable:                        Weekly_Sales   No. Observations:                   71\n",
       "Model:             SARIMAX(2, 0, 2)x(1, 0, [], 52)   Log Likelihood               -1207.538\n",
       "Date:                             Sat, 23 May 2020   AIC                           2427.076\n",
       "Time:                                     09:42:28   BIC                           2440.653\n",
       "Sample:                                 02-05-2010   HQIC                          2432.475\n",
       "                                      - 06-10-2011                                         \n",
       "Covariance Type:                               opg                                         \n",
       "==============================================================================\n",
       "                 coef    std err          z      P>|z|      [0.025      0.975]\n",
       "------------------------------------------------------------------------------\n",
       "ar.L1          0.0945      0.643      0.147      0.883      -1.166       1.355\n",
       "ar.L2          0.8967      0.649      1.381      0.167      -0.376       2.170\n",
       "ma.L1          0.3016      0.675      0.447      0.655      -1.022       1.625\n",
       "ma.L2         -0.4643      0.470     -0.987      0.324      -1.386       0.458\n",
       "ar.S.L52       0.4789      0.094      5.122      0.000       0.296       0.662\n",
       "sigma2      3.385e+13   2.12e-15    1.6e+28      0.000    3.39e+13    3.39e+13\n",
       "===================================================================================\n",
       "Ljung-Box (Q):                       22.27   Jarque-Bera (JB):               239.70\n",
       "Prob(Q):                              0.99   Prob(JB):                         0.00\n",
       "Heteroskedasticity (H):               6.91   Skew:                             0.03\n",
       "Prob(H) (two-sided):                  0.00   Kurtosis:                        12.00\n",
       "===================================================================================\n",
       "\n",
       "Warnings:\n",
       "[1] Covariance matrix calculated using the outer product of gradients (complex-step).\n",
       "[2] Covariance matrix is singular or near-singular, with condition number 3.13e+45. Standard errors may be unstable.\n",
       "\"\"\""
      ]
     },
     "execution_count": 57,
     "metadata": {},
     "output_type": "execute_result"
    }
   ],
   "source": [
    "#Fit a SARIMA(1,0,0)(2,0,0,7) Model\n",
    "model = SARIMAX(train['Weekly_Sales'],order=(2,0,2),seasonal_order=(1,0,0,52),enforce_invertibility=False)\n",
    "results = model.fit()\n",
    "results.summary()"
   ]
  },
  {
   "cell_type": "code",
   "execution_count": 58,
   "metadata": {},
   "outputs": [],
   "source": [
    "# Obtain predicted values\n",
    "start=len(train)\n",
    "end=len(train)+len(test)-1\n",
    "predictions = results.predict(start=start, end=end, dynamic=False).rename('SARIMA(1,0,0)(2,0,0,7) Predictions')"
   ]
  },
  {
   "cell_type": "code",
   "execution_count": 59,
   "metadata": {},
   "outputs": [
    {
     "data": {
      "text/plain": [
       "Timestamp('2012-10-26 00:00:00', freq='W-FRI')"
      ]
     },
     "execution_count": 59,
     "metadata": {},
     "output_type": "execute_result"
    }
   ],
   "source": [
    "byDate.index[length-1]"
   ]
  },
  {
   "cell_type": "code",
   "execution_count": 60,
   "metadata": {},
   "outputs": [
    {
     "data": {
      "text/plain": [
       "Timestamp('2011-06-17 00:00:00', freq='W-FRI')"
      ]
     },
     "execution_count": 60,
     "metadata": {},
     "output_type": "execute_result"
    }
   ],
   "source": [
    "byDate.index[train_len]"
   ]
  },
  {
   "cell_type": "code",
   "execution_count": 61,
   "metadata": {},
   "outputs": [
    {
     "data": {
      "image/png": "[encoded data removed]",
      "text/plain": [
       "<Figure size 864x432 with 1 Axes>"
      ]
     },
     "metadata": {},
     "output_type": "display_data"
    }
   ],
   "source": [
    "# Plot predictions against known values\n",
    "title='Restaurant Visitors'\n",
    "ylabel='Visitors per day'\n",
    "xlabel=''\n",
    "\n",
    "ax = test['Weekly_Sales'].plot(legend=True,figsize=(12,6),title=title)\n",
    "predictions.plot(legend=True)\n",
    "ax.autoscale(axis='x',tight=True)\n",
    "ax.set(xlabel=xlabel, ylabel=ylabel)\n",
    "for index, row in holidays[(byDate.index[train_len] <= holidays.Date) & (holidays.Date <= byDate.index[length-1])].iterrows():\n",
    "    holiday = row['Date']\n",
    "    ax.axvline(x=holiday, c='k', alpha = 0.3)"
   ]
  },
  {
   "cell_type": "code",
   "execution_count": 62,
   "metadata": {},
   "outputs": [
    {
     "name": "stdout",
     "output_type": "stream",
     "text": [
      "SARIMA(1,0,0)(2,0,0,7) MSE Error: 3.555339881e+13\n",
      "SARIMA(1,0,0)(2,0,0,7) RMSE Error: 5962667.089\n"
     ]
    }
   ],
   "source": [
    "from statsmodels.tools.eval_measures import mse,rmse\n",
    "\n",
    "error1 = mse(test['Weekly_Sales'], predictions)\n",
    "error2 = rmse(test['Weekly_Sales'], predictions)\n",
    "\n",
    "print(f'SARIMA(1,0,0)(2,0,0,7) MSE Error: {error1:11.10}')\n",
    "print(f'SARIMA(1,0,0)(2,0,0,7) RMSE Error: {error2:11.10}')"
   ]
  },
  {
   "cell_type": "markdown",
   "metadata": {},
   "source": [
    "# SARIMAx\n",
    "add the exog variable"
   ]
  },
  {
   "cell_type": "code",
   "execution_count": 63,
   "metadata": {},
   "outputs": [
    {
     "data": {
      "text/html": [
       "<table class=\"simpletable\">\n",
       "<caption>SARIMAX Results</caption>\n",
       "<tr>\n",
       "  <th>Dep. Variable:</th>            <td>Weekly_Sales</td>           <th>  No. Observations:  </th>    <td>71</td>    \n",
       "</tr>\n",
       "<tr>\n",
       "  <th>Model:</th>           <td>SARIMAX(2, 0, 2)x(1, 0, [], 52)</td> <th>  Log Likelihood     </th> <td>-1263.602</td>\n",
       "</tr>\n",
       "<tr>\n",
       "  <th>Date:</th>                   <td>Sat, 23 May 2020</td>         <th>  AIC                </th> <td>2541.204</td> \n",
       "</tr>\n",
       "<tr>\n",
       "  <th>Time:</th>                       <td>09:42:32</td>             <th>  BIC                </th> <td>2557.042</td> \n",
       "</tr>\n",
       "<tr>\n",
       "  <th>Sample:</th>                    <td>02-05-2010</td>            <th>  HQIC               </th> <td>2547.502</td> \n",
       "</tr>\n",
       "<tr>\n",
       "  <th></th>                          <td>- 06-10-2011</td>           <th>                     </th>     <td> </td>    \n",
       "</tr>\n",
       "<tr>\n",
       "  <th>Covariance Type:</th>               <td>opg</td>               <th>                     </th>     <td> </td>    \n",
       "</tr>\n",
       "</table>\n",
       "<table class=\"simpletable\">\n",
       "<tr>\n",
       "      <td></td>         <th>coef</th>     <th>std err</th>      <th>z</th>      <th>P>|z|</th>  <th>[0.025</th>    <th>0.975]</th>  \n",
       "</tr>\n",
       "<tr>\n",
       "  <th>IsHoliday</th> <td> 4.951e+07</td> <td>  3.9e-08</td> <td> 1.27e+15</td> <td> 0.000</td> <td> 4.95e+07</td> <td> 4.95e+07</td>\n",
       "</tr>\n",
       "<tr>\n",
       "  <th>ar.L1</th>     <td>    0.0083</td> <td>    0.365</td> <td>    0.023</td> <td> 0.982</td> <td>   -0.707</td> <td>    0.723</td>\n",
       "</tr>\n",
       "<tr>\n",
       "  <th>ar.L2</th>     <td>    0.9917</td> <td>    0.364</td> <td>    2.726</td> <td> 0.006</td> <td>    0.279</td> <td>    1.705</td>\n",
       "</tr>\n",
       "<tr>\n",
       "  <th>ma.L1</th>     <td>   -0.0057</td> <td>    0.702</td> <td>   -0.008</td> <td> 0.994</td> <td>   -1.382</td> <td>    1.371</td>\n",
       "</tr>\n",
       "<tr>\n",
       "  <th>ma.L2</th>     <td>   -0.9734</td> <td>    0.475</td> <td>   -2.051</td> <td> 0.040</td> <td>   -1.904</td> <td>   -0.043</td>\n",
       "</tr>\n",
       "<tr>\n",
       "  <th>ar.S.L52</th>  <td>    0.5121</td> <td>    0.156</td> <td>    3.277</td> <td> 0.001</td> <td>    0.206</td> <td>    0.818</td>\n",
       "</tr>\n",
       "<tr>\n",
       "  <th>sigma2</th>    <td> 1.739e+14</td> <td> 2.12e-15</td> <td>  8.2e+28</td> <td> 0.000</td> <td> 1.74e+14</td> <td> 1.74e+14</td>\n",
       "</tr>\n",
       "</table>\n",
       "<table class=\"simpletable\">\n",
       "<tr>\n",
       "  <th>Ljung-Box (Q):</th>          <td>26.90</td> <th>  Jarque-Bera (JB):  </th> <td>209.29</td>\n",
       "</tr>\n",
       "<tr>\n",
       "  <th>Prob(Q):</th>                <td>0.94</td>  <th>  Prob(JB):          </th>  <td>0.00</td> \n",
       "</tr>\n",
       "<tr>\n",
       "  <th>Heteroskedasticity (H):</th> <td>1.38</td>  <th>  Skew:              </th>  <td>-2.00</td>\n",
       "</tr>\n",
       "<tr>\n",
       "  <th>Prob(H) (two-sided):</th>    <td>0.44</td>  <th>  Kurtosis:          </th>  <td>10.40</td>\n",
       "</tr>\n",
       "</table><br/><br/>Warnings:<br/>[1] Covariance matrix calculated using the outer product of gradients (complex-step).<br/>[2] Covariance matrix is singular or near-singular, with condition number 5.66e+44. Standard errors may be unstable."
      ],
      "text/plain": [
       "<class 'statsmodels.iolib.summary.Summary'>\n",
       "\"\"\"\n",
       "                                      SARIMAX Results                                      \n",
       "===========================================================================================\n",
       "Dep. Variable:                        Weekly_Sales   No. Observations:                   71\n",
       "Model:             SARIMAX(2, 0, 2)x(1, 0, [], 52)   Log Likelihood               -1263.602\n",
       "Date:                             Sat, 23 May 2020   AIC                           2541.204\n",
       "Time:                                     09:42:32   BIC                           2557.042\n",
       "Sample:                                 02-05-2010   HQIC                          2547.502\n",
       "                                      - 06-10-2011                                         \n",
       "Covariance Type:                               opg                                         \n",
       "==============================================================================\n",
       "                 coef    std err          z      P>|z|      [0.025      0.975]\n",
       "------------------------------------------------------------------------------\n",
       "IsHoliday   4.951e+07    3.9e-08   1.27e+15      0.000    4.95e+07    4.95e+07\n",
       "ar.L1          0.0083      0.365      0.023      0.982      -0.707       0.723\n",
       "ar.L2          0.9917      0.364      2.726      0.006       0.279       1.705\n",
       "ma.L1         -0.0057      0.702     -0.008      0.994      -1.382       1.371\n",
       "ma.L2         -0.9734      0.475     -2.051      0.040      -1.904      -0.043\n",
       "ar.S.L52       0.5121      0.156      3.277      0.001       0.206       0.818\n",
       "sigma2      1.739e+14   2.12e-15    8.2e+28      0.000    1.74e+14    1.74e+14\n",
       "===================================================================================\n",
       "Ljung-Box (Q):                       26.90   Jarque-Bera (JB):               209.29\n",
       "Prob(Q):                              0.94   Prob(JB):                         0.00\n",
       "Heteroskedasticity (H):               1.38   Skew:                            -2.00\n",
       "Prob(H) (two-sided):                  0.44   Kurtosis:                        10.40\n",
       "===================================================================================\n",
       "\n",
       "Warnings:\n",
       "[1] Covariance matrix calculated using the outer product of gradients (complex-step).\n",
       "[2] Covariance matrix is singular or near-singular, with condition number 5.66e+44. Standard errors may be unstable.\n",
       "\"\"\""
      ]
     },
     "execution_count": 63,
     "metadata": {},
     "output_type": "execute_result"
    }
   ],
   "source": [
    "model = SARIMAX(train['Weekly_Sales'],exog=train['IsHoliday'],order=(2,0,2),seasonal_order=(1,0,0,52),enforce_invertibility=False)\n",
    "results = model.fit()\n",
    "results.summary()"
   ]
  },
  {
   "cell_type": "code",
   "execution_count": 64,
   "metadata": {},
   "outputs": [],
   "source": [
    "# Obtain predicted values\n",
    "start=len(train)\n",
    "end=len(train)+len(test)-1\n",
    "exog_forecast = test[['IsHoliday']]  # requires two brackets to yield a shape of (35,1)\n",
    "predictions = results.predict(start=start, end=end, exog=exog_forecast).rename('SARIMAX(1,0,0)(2,0,0,7) Predictions')"
   ]
  },
  {
   "cell_type": "code",
   "execution_count": 65,
   "metadata": {},
   "outputs": [
    {
     "data": {
      "image/png": "[encoded data removed]",
      "text/plain": [
       "<Figure size 864x432 with 1 Axes>"
      ]
     },
     "metadata": {},
     "output_type": "display_data"
    }
   ],
   "source": [
    "# Plot predictions against known values\n",
    "title='Restaurant Visitors'\n",
    "ylabel='Visitors per day'\n",
    "xlabel=''\n",
    "\n",
    "ax = test['Weekly_Sales'].plot(legend=True,figsize=(12,6),title=title)\n",
    "predictions.plot(legend=True)\n",
    "ax.autoscale(axis='x',tight=True)\n",
    "ax.set(xlabel=xlabel, ylabel=ylabel)\n",
    "for index, row in holidays[(byDate.index[train_len] <= holidays.Date) & (holidays.Date <= byDate.index[length-1])].iterrows():\n",
    "    holiday = row['Date']\n",
    "    ax.axvline(x=holiday, c='k', alpha = 0.3)"
   ]
  },
  {
   "cell_type": "code",
   "execution_count": 66,
   "metadata": {},
   "outputs": [
    {
     "name": "stdout",
     "output_type": "stream",
     "text": [
      "SARIMA(1,0,0)(2,0,0,7) MSE Error: 3.555339881e+13\n",
      "SARIMA(1,0,0)(2,0,0,7) RMSE Error: 5962667.089\n",
      "\n",
      "SARIMAX(1,0,0)(2,0,0,7) MSE Error: 4.352390593e+13\n",
      "SARIMAX(1,0,0)(2,0,0,7) RMSE Error: 6597265.034\n"
     ]
    }
   ],
   "source": [
    "# Print values from SARIMA above\n",
    "print(f'SARIMA(1,0,0)(2,0,0,7) MSE Error: {error1:11.10}')\n",
    "print(f'SARIMA(1,0,0)(2,0,0,7) RMSE Error: {error2:11.10}')\n",
    "print()\n",
    "\n",
    "error1x = mse(test['Weekly_Sales'], predictions)\n",
    "error2x = rmse(test['Weekly_Sales'], predictions)\n",
    "\n",
    "# Print new SARIMAX values\n",
    "print(f'SARIMAX(1,0,0)(2,0,0,7) MSE Error: {error1x:11.10}')\n",
    "print(f'SARIMAX(1,0,0)(2,0,0,7) RMSE Error: {error2x:11.10}')"
   ]
  },
  {
   "cell_type": "code",
   "execution_count": null,
   "metadata": {},
   "outputs": [],
   "source": []
  },
  {
   "cell_type": "code",
   "execution_count": null,
   "metadata": {},
   "outputs": [],
   "source": []
  },
  {
   "cell_type": "code",
   "execution_count": null,
   "metadata": {},
   "outputs": [],
   "source": []
  },
  {
   "cell_type": "code",
   "execution_count": 67,
   "metadata": {},
   "outputs": [
    {
     "data": {
      "text/html": [
       "<div>\n",
       "<style scoped>\n",
       "    .dataframe tbody tr th:only-of-type {\n",
       "        vertical-align: middle;\n",
       "    }\n",
       "\n",
       "    .dataframe tbody tr th {\n",
       "        vertical-align: top;\n",
       "    }\n",
       "\n",
       "    .dataframe thead th {\n",
       "        text-align: right;\n",
       "    }\n",
       "</style>\n",
       "<table border=\"1\" class=\"dataframe\">\n",
       "  <thead>\n",
       "    <tr style=\"text-align: right;\">\n",
       "      <th></th>\n",
       "      <th>Store</th>\n",
       "      <th>Dept</th>\n",
       "      <th>Weekly_Sales</th>\n",
       "      <th>IsHoliday</th>\n",
       "    </tr>\n",
       "    <tr>\n",
       "      <th>Date</th>\n",
       "      <th></th>\n",
       "      <th></th>\n",
       "      <th></th>\n",
       "      <th></th>\n",
       "    </tr>\n",
       "  </thead>\n",
       "  <tbody>\n",
       "    <tr>\n",
       "      <th>2010-02-05</th>\n",
       "      <td>65124</td>\n",
       "      <td>130557</td>\n",
       "      <td>49750740.50</td>\n",
       "      <td>0.0</td>\n",
       "    </tr>\n",
       "    <tr>\n",
       "      <th>2010-02-12</th>\n",
       "      <td>65082</td>\n",
       "      <td>131179</td>\n",
       "      <td>48336677.63</td>\n",
       "      <td>2956.0</td>\n",
       "    </tr>\n",
       "    <tr>\n",
       "      <th>2010-02-19</th>\n",
       "      <td>65610</td>\n",
       "      <td>131897</td>\n",
       "      <td>48276993.78</td>\n",
       "      <td>0.0</td>\n",
       "    </tr>\n",
       "    <tr>\n",
       "      <th>2010-02-26</th>\n",
       "      <td>65045</td>\n",
       "      <td>130161</td>\n",
       "      <td>43968571.13</td>\n",
       "      <td>0.0</td>\n",
       "    </tr>\n",
       "    <tr>\n",
       "      <th>2010-03-05</th>\n",
       "      <td>64897</td>\n",
       "      <td>129670</td>\n",
       "      <td>46871470.30</td>\n",
       "      <td>0.0</td>\n",
       "    </tr>\n",
       "    <tr>\n",
       "      <th>...</th>\n",
       "      <td>...</td>\n",
       "      <td>...</td>\n",
       "      <td>...</td>\n",
       "      <td>...</td>\n",
       "    </tr>\n",
       "    <tr>\n",
       "      <th>2012-09-28</th>\n",
       "      <td>65866</td>\n",
       "      <td>130785</td>\n",
       "      <td>43734899.40</td>\n",
       "      <td>0.0</td>\n",
       "    </tr>\n",
       "    <tr>\n",
       "      <th>2012-10-05</th>\n",
       "      <td>66296</td>\n",
       "      <td>132468</td>\n",
       "      <td>47566639.31</td>\n",
       "      <td>0.0</td>\n",
       "    </tr>\n",
       "    <tr>\n",
       "      <th>2012-10-12</th>\n",
       "      <td>66453</td>\n",
       "      <td>133371</td>\n",
       "      <td>46128514.25</td>\n",
       "      <td>0.0</td>\n",
       "    </tr>\n",
       "    <tr>\n",
       "      <th>2012-10-19</th>\n",
       "      <td>65630</td>\n",
       "      <td>130255</td>\n",
       "      <td>45122410.57</td>\n",
       "      <td>0.0</td>\n",
       "    </tr>\n",
       "    <tr>\n",
       "      <th>2012-10-26</th>\n",
       "      <td>65888</td>\n",
       "      <td>130739</td>\n",
       "      <td>45544116.29</td>\n",
       "      <td>0.0</td>\n",
       "    </tr>\n",
       "  </tbody>\n",
       "</table>\n",
       "<p>143 rows × 4 columns</p>\n",
       "</div>"
      ],
      "text/plain": [
       "            Store    Dept  Weekly_Sales  IsHoliday\n",
       "Date                                              \n",
       "2010-02-05  65124  130557   49750740.50        0.0\n",
       "2010-02-12  65082  131179   48336677.63     2956.0\n",
       "2010-02-19  65610  131897   48276993.78        0.0\n",
       "2010-02-26  65045  130161   43968571.13        0.0\n",
       "2010-03-05  64897  129670   46871470.30        0.0\n",
       "...           ...     ...           ...        ...\n",
       "2012-09-28  65866  130785   43734899.40        0.0\n",
       "2012-10-05  66296  132468   47566639.31        0.0\n",
       "2012-10-12  66453  133371   46128514.25        0.0\n",
       "2012-10-19  65630  130255   45122410.57        0.0\n",
       "2012-10-26  65888  130739   45544116.29        0.0\n",
       "\n",
       "[143 rows x 4 columns]"
      ]
     },
     "execution_count": 67,
     "metadata": {},
     "output_type": "execute_result"
    }
   ],
   "source": [
    "byDatex = sales.groupby('Date').sum()\n",
    "byDatex"
   ]
  },
  {
   "cell_type": "code",
   "execution_count": 68,
   "metadata": {},
   "outputs": [
    {
     "data": {
      "text/html": [
       "<div>\n",
       "<style scoped>\n",
       "    .dataframe tbody tr th:only-of-type {\n",
       "        vertical-align: middle;\n",
       "    }\n",
       "\n",
       "    .dataframe tbody tr th {\n",
       "        vertical-align: top;\n",
       "    }\n",
       "\n",
       "    .dataframe thead th {\n",
       "        text-align: right;\n",
       "    }\n",
       "</style>\n",
       "<table border=\"1\" class=\"dataframe\">\n",
       "  <thead>\n",
       "    <tr style=\"text-align: right;\">\n",
       "      <th></th>\n",
       "      <th>Store</th>\n",
       "      <th>Dept</th>\n",
       "      <th>Weekly_Sales</th>\n",
       "      <th>IsHoliday</th>\n",
       "    </tr>\n",
       "    <tr>\n",
       "      <th>Date</th>\n",
       "      <th></th>\n",
       "      <th></th>\n",
       "      <th></th>\n",
       "      <th></th>\n",
       "    </tr>\n",
       "  </thead>\n",
       "  <tbody>\n",
       "    <tr>\n",
       "      <th>2010-02-05</th>\n",
       "      <td>65124</td>\n",
       "      <td>130557</td>\n",
       "      <td>49750740.50</td>\n",
       "      <td>0</td>\n",
       "    </tr>\n",
       "    <tr>\n",
       "      <th>2010-02-12</th>\n",
       "      <td>65082</td>\n",
       "      <td>131179</td>\n",
       "      <td>48336677.63</td>\n",
       "      <td>1</td>\n",
       "    </tr>\n",
       "    <tr>\n",
       "      <th>2010-02-19</th>\n",
       "      <td>65610</td>\n",
       "      <td>131897</td>\n",
       "      <td>48276993.78</td>\n",
       "      <td>0</td>\n",
       "    </tr>\n",
       "    <tr>\n",
       "      <th>2010-02-26</th>\n",
       "      <td>65045</td>\n",
       "      <td>130161</td>\n",
       "      <td>43968571.13</td>\n",
       "      <td>0</td>\n",
       "    </tr>\n",
       "    <tr>\n",
       "      <th>2010-03-05</th>\n",
       "      <td>64897</td>\n",
       "      <td>129670</td>\n",
       "      <td>46871470.30</td>\n",
       "      <td>0</td>\n",
       "    </tr>\n",
       "  </tbody>\n",
       "</table>\n",
       "</div>"
      ],
      "text/plain": [
       "            Store    Dept  Weekly_Sales  IsHoliday\n",
       "Date                                              \n",
       "2010-02-05  65124  130557   49750740.50          0\n",
       "2010-02-12  65082  131179   48336677.63          1\n",
       "2010-02-19  65610  131897   48276993.78          0\n",
       "2010-02-26  65045  130161   43968571.13          0\n",
       "2010-03-05  64897  129670   46871470.30          0"
      ]
     },
     "execution_count": 68,
     "metadata": {},
     "output_type": "execute_result"
    }
   ],
   "source": [
    "byDatex.IsHoliday = byDatex.IsHoliday.astype('bool').astype('int')\n",
    "byDatex.head()"
   ]
  },
  {
   "cell_type": "code",
   "execution_count": 69,
   "metadata": {},
   "outputs": [
    {
     "data": {
      "text/html": [
       "<div>\n",
       "<style scoped>\n",
       "    .dataframe tbody tr th:only-of-type {\n",
       "        vertical-align: middle;\n",
       "    }\n",
       "\n",
       "    .dataframe tbody tr th {\n",
       "        vertical-align: top;\n",
       "    }\n",
       "\n",
       "    .dataframe thead th {\n",
       "        text-align: right;\n",
       "    }\n",
       "</style>\n",
       "<table border=\"1\" class=\"dataframe\">\n",
       "  <thead>\n",
       "    <tr style=\"text-align: right;\">\n",
       "      <th></th>\n",
       "      <th>Store</th>\n",
       "      <th>Dept</th>\n",
       "      <th>Weekly_Sales</th>\n",
       "      <th>IsHoliday</th>\n",
       "    </tr>\n",
       "    <tr>\n",
       "      <th>Date</th>\n",
       "      <th></th>\n",
       "      <th></th>\n",
       "      <th></th>\n",
       "      <th></th>\n",
       "    </tr>\n",
       "  </thead>\n",
       "  <tbody>\n",
       "    <tr>\n",
       "      <th>2011-06-17</th>\n",
       "      <td>65377</td>\n",
       "      <td>131112</td>\n",
       "      <td>47447561.77</td>\n",
       "      <td>0</td>\n",
       "    </tr>\n",
       "    <tr>\n",
       "      <th>2011-06-24</th>\n",
       "      <td>65103</td>\n",
       "      <td>129875</td>\n",
       "      <td>45884094.58</td>\n",
       "      <td>0</td>\n",
       "    </tr>\n",
       "    <tr>\n",
       "      <th>2011-07-01</th>\n",
       "      <td>65429</td>\n",
       "      <td>129329</td>\n",
       "      <td>47578519.50</td>\n",
       "      <td>0</td>\n",
       "    </tr>\n",
       "    <tr>\n",
       "      <th>2011-07-08</th>\n",
       "      <td>65296</td>\n",
       "      <td>129711</td>\n",
       "      <td>47859263.78</td>\n",
       "      <td>0</td>\n",
       "    </tr>\n",
       "    <tr>\n",
       "      <th>2011-07-15</th>\n",
       "      <td>65186</td>\n",
       "      <td>129268</td>\n",
       "      <td>45515929.92</td>\n",
       "      <td>0</td>\n",
       "    </tr>\n",
       "    <tr>\n",
       "      <th>...</th>\n",
       "      <td>...</td>\n",
       "      <td>...</td>\n",
       "      <td>...</td>\n",
       "      <td>...</td>\n",
       "    </tr>\n",
       "    <tr>\n",
       "      <th>2012-09-28</th>\n",
       "      <td>65866</td>\n",
       "      <td>130785</td>\n",
       "      <td>43734899.40</td>\n",
       "      <td>0</td>\n",
       "    </tr>\n",
       "    <tr>\n",
       "      <th>2012-10-05</th>\n",
       "      <td>66296</td>\n",
       "      <td>132468</td>\n",
       "      <td>47566639.31</td>\n",
       "      <td>0</td>\n",
       "    </tr>\n",
       "    <tr>\n",
       "      <th>2012-10-12</th>\n",
       "      <td>66453</td>\n",
       "      <td>133371</td>\n",
       "      <td>46128514.25</td>\n",
       "      <td>0</td>\n",
       "    </tr>\n",
       "    <tr>\n",
       "      <th>2012-10-19</th>\n",
       "      <td>65630</td>\n",
       "      <td>130255</td>\n",
       "      <td>45122410.57</td>\n",
       "      <td>0</td>\n",
       "    </tr>\n",
       "    <tr>\n",
       "      <th>2012-10-26</th>\n",
       "      <td>65888</td>\n",
       "      <td>130739</td>\n",
       "      <td>45544116.29</td>\n",
       "      <td>0</td>\n",
       "    </tr>\n",
       "  </tbody>\n",
       "</table>\n",
       "<p>72 rows × 4 columns</p>\n",
       "</div>"
      ],
      "text/plain": [
       "            Store    Dept  Weekly_Sales  IsHoliday\n",
       "Date                                              \n",
       "2011-06-17  65377  131112   47447561.77          0\n",
       "2011-06-24  65103  129875   45884094.58          0\n",
       "2011-07-01  65429  129329   47578519.50          0\n",
       "2011-07-08  65296  129711   47859263.78          0\n",
       "2011-07-15  65186  129268   45515929.92          0\n",
       "...           ...     ...           ...        ...\n",
       "2012-09-28  65866  130785   43734899.40          0\n",
       "2012-10-05  66296  132468   47566639.31          0\n",
       "2012-10-12  66453  133371   46128514.25          0\n",
       "2012-10-19  65630  130255   45122410.57          0\n",
       "2012-10-26  65888  130739   45544116.29          0\n",
       "\n",
       "[72 rows x 4 columns]"
      ]
     },
     "execution_count": 69,
     "metadata": {},
     "output_type": "execute_result"
    }
   ],
   "source": [
    "#Split the data into train/test setsDatexs = byDatex.index\n",
    "length = len(byDatex)\n",
    "train_len = int(length*0.50)\n",
    "\n",
    "train = byDatex.iloc[:train_len]\n",
    "test = byDatex.iloc[train_len:]\n",
    "test"
   ]
  },
  {
   "cell_type": "code",
   "execution_count": 70,
   "metadata": {},
   "outputs": [
    {
     "name": "stderr",
     "output_type": "stream",
     "text": [
      "C:\\Users\\octav\\AppData\\Local\\Continuum\\anaconda3\\envs\\PythonData\\lib\\site-packages\\statsmodels\\tsa\\base\\tsa_model.py:162: ValueWarning:\n",
      "\n",
      "No frequency information was provided, so inferred frequency W-FRI will be used.\n",
      "\n",
      "C:\\Users\\octav\\AppData\\Local\\Continuum\\anaconda3\\envs\\PythonData\\lib\\site-packages\\statsmodels\\tsa\\base\\tsa_model.py:162: ValueWarning:\n",
      "\n",
      "No frequency information was provided, so inferred frequency W-FRI will be used.\n",
      "\n"
     ]
    },
    {
     "data": {
      "text/html": [
       "<table class=\"simpletable\">\n",
       "<caption>SARIMAX Results</caption>\n",
       "<tr>\n",
       "  <th>Dep. Variable:</th>            <td>Weekly_Sales</td>           <th>  No. Observations:  </th>    <td>71</td>    \n",
       "</tr>\n",
       "<tr>\n",
       "  <th>Model:</th>           <td>SARIMAX(2, 0, 2)x(1, 0, [], 52)</td> <th>  Log Likelihood     </th> <td>-1263.602</td>\n",
       "</tr>\n",
       "<tr>\n",
       "  <th>Date:</th>                   <td>Sat, 23 May 2020</td>         <th>  AIC                </th> <td>2541.204</td> \n",
       "</tr>\n",
       "<tr>\n",
       "  <th>Time:</th>                       <td>09:42:36</td>             <th>  BIC                </th> <td>2557.042</td> \n",
       "</tr>\n",
       "<tr>\n",
       "  <th>Sample:</th>                    <td>02-05-2010</td>            <th>  HQIC               </th> <td>2547.502</td> \n",
       "</tr>\n",
       "<tr>\n",
       "  <th></th>                          <td>- 06-10-2011</td>           <th>                     </th>     <td> </td>    \n",
       "</tr>\n",
       "<tr>\n",
       "  <th>Covariance Type:</th>               <td>opg</td>               <th>                     </th>     <td> </td>    \n",
       "</tr>\n",
       "</table>\n",
       "<table class=\"simpletable\">\n",
       "<tr>\n",
       "      <td></td>         <th>coef</th>     <th>std err</th>      <th>z</th>      <th>P>|z|</th>  <th>[0.025</th>    <th>0.975]</th>  \n",
       "</tr>\n",
       "<tr>\n",
       "  <th>IsHoliday</th> <td> 4.951e+07</td> <td>  3.9e-08</td> <td> 1.27e+15</td> <td> 0.000</td> <td> 4.95e+07</td> <td> 4.95e+07</td>\n",
       "</tr>\n",
       "<tr>\n",
       "  <th>ar.L1</th>     <td>    0.0083</td> <td>    0.365</td> <td>    0.023</td> <td> 0.982</td> <td>   -0.707</td> <td>    0.723</td>\n",
       "</tr>\n",
       "<tr>\n",
       "  <th>ar.L2</th>     <td>    0.9917</td> <td>    0.364</td> <td>    2.726</td> <td> 0.006</td> <td>    0.279</td> <td>    1.705</td>\n",
       "</tr>\n",
       "<tr>\n",
       "  <th>ma.L1</th>     <td>   -0.0057</td> <td>    0.702</td> <td>   -0.008</td> <td> 0.994</td> <td>   -1.382</td> <td>    1.371</td>\n",
       "</tr>\n",
       "<tr>\n",
       "  <th>ma.L2</th>     <td>   -0.9734</td> <td>    0.475</td> <td>   -2.051</td> <td> 0.040</td> <td>   -1.904</td> <td>   -0.043</td>\n",
       "</tr>\n",
       "<tr>\n",
       "  <th>ar.S.L52</th>  <td>    0.5121</td> <td>    0.156</td> <td>    3.277</td> <td> 0.001</td> <td>    0.206</td> <td>    0.818</td>\n",
       "</tr>\n",
       "<tr>\n",
       "  <th>sigma2</th>    <td> 1.739e+14</td> <td> 2.12e-15</td> <td>  8.2e+28</td> <td> 0.000</td> <td> 1.74e+14</td> <td> 1.74e+14</td>\n",
       "</tr>\n",
       "</table>\n",
       "<table class=\"simpletable\">\n",
       "<tr>\n",
       "  <th>Ljung-Box (Q):</th>          <td>26.90</td> <th>  Jarque-Bera (JB):  </th> <td>209.29</td>\n",
       "</tr>\n",
       "<tr>\n",
       "  <th>Prob(Q):</th>                <td>0.94</td>  <th>  Prob(JB):          </th>  <td>0.00</td> \n",
       "</tr>\n",
       "<tr>\n",
       "  <th>Heteroskedasticity (H):</th> <td>1.38</td>  <th>  Skew:              </th>  <td>-2.00</td>\n",
       "</tr>\n",
       "<tr>\n",
       "  <th>Prob(H) (two-sided):</th>    <td>0.44</td>  <th>  Kurtosis:          </th>  <td>10.40</td>\n",
       "</tr>\n",
       "</table><br/><br/>Warnings:<br/>[1] Covariance matrix calculated using the outer product of gradients (complex-step).<br/>[2] Covariance matrix is singular or near-singular, with condition number 5.66e+44. Standard errors may be unstable."
      ],
      "text/plain": [
       "<class 'statsmodels.iolib.summary.Summary'>\n",
       "\"\"\"\n",
       "                                      SARIMAX Results                                      \n",
       "===========================================================================================\n",
       "Dep. Variable:                        Weekly_Sales   No. Observations:                   71\n",
       "Model:             SARIMAX(2, 0, 2)x(1, 0, [], 52)   Log Likelihood               -1263.602\n",
       "Date:                             Sat, 23 May 2020   AIC                           2541.204\n",
       "Time:                                     09:42:36   BIC                           2557.042\n",
       "Sample:                                 02-05-2010   HQIC                          2547.502\n",
       "                                      - 06-10-2011                                         \n",
       "Covariance Type:                               opg                                         \n",
       "==============================================================================\n",
       "                 coef    std err          z      P>|z|      [0.025      0.975]\n",
       "------------------------------------------------------------------------------\n",
       "IsHoliday   4.951e+07    3.9e-08   1.27e+15      0.000    4.95e+07    4.95e+07\n",
       "ar.L1          0.0083      0.365      0.023      0.982      -0.707       0.723\n",
       "ar.L2          0.9917      0.364      2.726      0.006       0.279       1.705\n",
       "ma.L1         -0.0057      0.702     -0.008      0.994      -1.382       1.371\n",
       "ma.L2         -0.9734      0.475     -2.051      0.040      -1.904      -0.043\n",
       "ar.S.L52       0.5121      0.156      3.277      0.001       0.206       0.818\n",
       "sigma2      1.739e+14   2.12e-15    8.2e+28      0.000    1.74e+14    1.74e+14\n",
       "===================================================================================\n",
       "Ljung-Box (Q):                       26.90   Jarque-Bera (JB):               209.29\n",
       "Prob(Q):                              0.94   Prob(JB):                         0.00\n",
       "Heteroskedasticity (H):               1.38   Skew:                            -2.00\n",
       "Prob(H) (two-sided):                  0.44   Kurtosis:                        10.40\n",
       "===================================================================================\n",
       "\n",
       "Warnings:\n",
       "[1] Covariance matrix calculated using the outer product of gradients (complex-step).\n",
       "[2] Covariance matrix is singular or near-singular, with condition number 5.66e+44. Standard errors may be unstable.\n",
       "\"\"\""
      ]
     },
     "execution_count": 70,
     "metadata": {},
     "output_type": "execute_result"
    }
   ],
   "source": [
    "model = SARIMAX(train['Weekly_Sales'],exog=train['IsHoliday'],order=(2,0,2),seasonal_order=(1,0,0,52),enforce_invertibility=False)\n",
    "results = model.fit()\n",
    "results.summary()"
   ]
  },
  {
   "cell_type": "code",
   "execution_count": 71,
   "metadata": {},
   "outputs": [],
   "source": [
    "# Obtain predicted values\n",
    "start=len(train)\n",
    "end=len(train)+len(test)-1\n",
    "exog_forecast = test[['IsHoliday']]  # requires two brackets to yield a shape of (35,1)\n",
    "predictions = results.predict(start=start, end=end, exog=exog_forecast).rename('SARIMAX(1,0,0)(2,0,0,7) Predictions')"
   ]
  },
  {
   "cell_type": "code",
   "execution_count": 72,
   "metadata": {},
   "outputs": [
    {
     "data": {
      "image/png": "[encoded data removed]",
      "text/plain": [
       "<Figure size 864x432 with 1 Axes>"
      ]
     },
     "metadata": {},
     "output_type": "display_data"
    }
   ],
   "source": [
    "# Plot predictions against known values\n",
    "title='Restaurant Visitors'\n",
    "ylabel='Visitors per day'\n",
    "xlabel=''\n",
    "\n",
    "ax = test['Weekly_Sales'].plot(legend=True,figsize=(12,6),title=title)\n",
    "predictions.plot(legend=True)\n",
    "ax.autoscale(axis='x',tight=True)\n",
    "ax.set(xlabel=xlabel, ylabel=ylabel)\n",
    "for x in test.query(\"IsHoliday==1\").index:\n",
    "    ax.axvline(x=x, c='k', alpha = 0.3)"
   ]
  },
  {
   "cell_type": "markdown",
   "metadata": {},
   "source": [
    "original data only include...incorporate all US consumer spending event (super bowl, black friday) and other commonly observed holdays that would drive consumer spending...assuming all us stores!!!!\n",
    "back to school...no exact date???\n",
    "\n",
    "SOME HOLIDAYS HAVE TRAILING SALES (PREPARE)...SOME SAME DAY..."
   ]
  },
  {
   "cell_type": "code",
   "execution_count": null,
   "metadata": {},
   "outputs": [],
   "source": []
  }
 ],
 "metadata": {
  "kernelspec": {
   "display_name": "Python [conda env:PythonData]",
   "language": "python",
   "name": "conda-env-PythonData-py"
  },
  "language_info": {
   "codemirror_mode": {
    "name": "ipython",
    "version": 3
   },
   "file_extension": ".py",
   "mimetype": "text/x-python",
   "name": "python",
   "nbconvert_exporter": "python",
   "pygments_lexer": "ipython3",
   "version": "3.6.9"
  }
 },
 "nbformat": 4,
 "nbformat_minor": 2
}
