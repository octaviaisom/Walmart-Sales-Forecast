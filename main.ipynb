{
 "cells": [
  {
   "cell_type": "markdown",
   "metadata": {},
   "source": [
    "# Walmart Sales Forecast\n",
    "This notebook explores the sales data of 45 Wal-Mart locations. Exploritory data analysis was perfomed at the store and deparment level and the finding were used to forecast the sales."
   ]
  },
  {
   "cell_type": "code",
   "execution_count": 2,
   "metadata": {},
   "outputs": [],
   "source": [
    "import warnings\n",
    "warnings.filterwarnings(\"ignore\")"
   ]
  },
  {
   "cell_type": "code",
   "execution_count": 3,
   "metadata": {},
   "outputs": [],
   "source": [
    "from plotly.subplots import make_subplots\n",
    "import plotly.graph_objects as go\n",
    "import plotly.express as px\n",
    "import plotly.io as pio\n",
    "\n",
    "import pandas as pd\n",
    "import numpy as np\n",
    "import datetime"
   ]
  },
  {
   "cell_type": "markdown",
   "metadata": {},
   "source": [
    "# 1. Data Imports and Manipulation\n",
    "The sales and store data was collected from [Walmart Recruiting's Kaggle Competition](https://www.kaggle.com/c/walmart-recruiting-store-sales-forecasting). This dataset only includes 4 holidays (Superbowl, Labor Day, Thanksgiving and Christmas). Entering this project with the assumption that consumer spending is heavily influenced by holidays so a [second source](https://www.timeanddate.com/holidays/us/2010?hol=17) was utilized to collect all relevant consumer spending events and commonly observed U.S. holidays."
   ]
  },
  {
   "cell_type": "markdown",
   "metadata": {},
   "source": [
    "### 1.1 Sales Data (Walmart's Holidays)"
   ]
  },
  {
   "cell_type": "code",
   "execution_count": 31,
   "metadata": {},
   "outputs": [
    {
     "data": {
      "text/html": [
       "<div>\n",
       "<style scoped>\n",
       "    .dataframe tbody tr th:only-of-type {\n",
       "        vertical-align: middle;\n",
       "    }\n",
       "\n",
       "    .dataframe tbody tr th {\n",
       "        vertical-align: top;\n",
       "    }\n",
       "\n",
       "    .dataframe thead th {\n",
       "        text-align: right;\n",
       "    }\n",
       "</style>\n",
       "<table border=\"1\" class=\"dataframe\">\n",
       "  <thead>\n",
       "    <tr style=\"text-align: right;\">\n",
       "      <th></th>\n",
       "      <th>Store</th>\n",
       "      <th>Dept</th>\n",
       "      <th>Date</th>\n",
       "      <th>Weekly_Sales</th>\n",
       "      <th>IsHoliday</th>\n",
       "    </tr>\n",
       "  </thead>\n",
       "  <tbody>\n",
       "    <tr>\n",
       "      <th>421565</th>\n",
       "      <td>45</td>\n",
       "      <td>98</td>\n",
       "      <td>2012-09-28</td>\n",
       "      <td>508.37</td>\n",
       "      <td>False</td>\n",
       "    </tr>\n",
       "    <tr>\n",
       "      <th>421566</th>\n",
       "      <td>45</td>\n",
       "      <td>98</td>\n",
       "      <td>2012-10-05</td>\n",
       "      <td>628.10</td>\n",
       "      <td>False</td>\n",
       "    </tr>\n",
       "    <tr>\n",
       "      <th>421567</th>\n",
       "      <td>45</td>\n",
       "      <td>98</td>\n",
       "      <td>2012-10-12</td>\n",
       "      <td>1061.02</td>\n",
       "      <td>False</td>\n",
       "    </tr>\n",
       "    <tr>\n",
       "      <th>421568</th>\n",
       "      <td>45</td>\n",
       "      <td>98</td>\n",
       "      <td>2012-10-19</td>\n",
       "      <td>760.01</td>\n",
       "      <td>False</td>\n",
       "    </tr>\n",
       "    <tr>\n",
       "      <th>421569</th>\n",
       "      <td>45</td>\n",
       "      <td>98</td>\n",
       "      <td>2012-10-26</td>\n",
       "      <td>1076.80</td>\n",
       "      <td>False</td>\n",
       "    </tr>\n",
       "  </tbody>\n",
       "</table>\n",
       "</div>"
      ],
      "text/plain": [
       "        Store  Dept        Date  Weekly_Sales  IsHoliday\n",
       "421565     45    98  2012-09-28        508.37      False\n",
       "421566     45    98  2012-10-05        628.10      False\n",
       "421567     45    98  2012-10-12       1061.02      False\n",
       "421568     45    98  2012-10-19        760.01      False\n",
       "421569     45    98  2012-10-26       1076.80      False"
      ]
     },
     "execution_count": 31,
     "metadata": {},
     "output_type": "execute_result"
    }
   ],
   "source": [
    "csv = pd.read_csv(\"data/sales.csv\")\n",
    "sales = pd.DataFrame(csv)\n",
    "\n",
    "sales.tail()"
   ]
  },
  {
   "cell_type": "code",
   "execution_count": 32,
   "metadata": {},
   "outputs": [],
   "source": [
    "sales.Date = pd.to_datetime(sales.Date)"
   ]
  },
  {
   "cell_type": "code",
   "execution_count": 33,
   "metadata": {},
   "outputs": [
    {
     "name": "stdout",
     "output_type": "stream",
     "text": [
      "<class 'pandas.core.frame.DataFrame'>\n",
      "RangeIndex: 421570 entries, 0 to 421569\n",
      "Data columns (total 5 columns):\n",
      "Store           421570 non-null int64\n",
      "Dept            421570 non-null int64\n",
      "Date            421570 non-null datetime64[ns]\n",
      "Weekly_Sales    421570 non-null float64\n",
      "IsHoliday       421570 non-null bool\n",
      "dtypes: bool(1), datetime64[ns](1), float64(1), int64(2)\n",
      "memory usage: 13.3 MB\n"
     ]
    },
    {
     "data": {
      "text/html": [
       "<div>\n",
       "<style scoped>\n",
       "    .dataframe tbody tr th:only-of-type {\n",
       "        vertical-align: middle;\n",
       "    }\n",
       "\n",
       "    .dataframe tbody tr th {\n",
       "        vertical-align: top;\n",
       "    }\n",
       "\n",
       "    .dataframe thead th {\n",
       "        text-align: right;\n",
       "    }\n",
       "</style>\n",
       "<table border=\"1\" class=\"dataframe\">\n",
       "  <thead>\n",
       "    <tr style=\"text-align: right;\">\n",
       "      <th></th>\n",
       "      <th>Store</th>\n",
       "      <th>Dept</th>\n",
       "      <th>Weekly_Sales</th>\n",
       "    </tr>\n",
       "  </thead>\n",
       "  <tbody>\n",
       "    <tr>\n",
       "      <th>count</th>\n",
       "      <td>421570.000000</td>\n",
       "      <td>421570.000000</td>\n",
       "      <td>421570.000000</td>\n",
       "    </tr>\n",
       "    <tr>\n",
       "      <th>mean</th>\n",
       "      <td>22.200546</td>\n",
       "      <td>44.260317</td>\n",
       "      <td>15981.258123</td>\n",
       "    </tr>\n",
       "    <tr>\n",
       "      <th>std</th>\n",
       "      <td>12.785297</td>\n",
       "      <td>30.492054</td>\n",
       "      <td>22711.183519</td>\n",
       "    </tr>\n",
       "    <tr>\n",
       "      <th>min</th>\n",
       "      <td>1.000000</td>\n",
       "      <td>1.000000</td>\n",
       "      <td>-4988.940000</td>\n",
       "    </tr>\n",
       "    <tr>\n",
       "      <th>25%</th>\n",
       "      <td>11.000000</td>\n",
       "      <td>18.000000</td>\n",
       "      <td>2079.650000</td>\n",
       "    </tr>\n",
       "    <tr>\n",
       "      <th>50%</th>\n",
       "      <td>22.000000</td>\n",
       "      <td>37.000000</td>\n",
       "      <td>7612.030000</td>\n",
       "    </tr>\n",
       "    <tr>\n",
       "      <th>75%</th>\n",
       "      <td>33.000000</td>\n",
       "      <td>74.000000</td>\n",
       "      <td>20205.852500</td>\n",
       "    </tr>\n",
       "    <tr>\n",
       "      <th>max</th>\n",
       "      <td>45.000000</td>\n",
       "      <td>99.000000</td>\n",
       "      <td>693099.360000</td>\n",
       "    </tr>\n",
       "  </tbody>\n",
       "</table>\n",
       "</div>"
      ],
      "text/plain": [
       "               Store           Dept   Weekly_Sales\n",
       "count  421570.000000  421570.000000  421570.000000\n",
       "mean       22.200546      44.260317   15981.258123\n",
       "std        12.785297      30.492054   22711.183519\n",
       "min         1.000000       1.000000   -4988.940000\n",
       "25%        11.000000      18.000000    2079.650000\n",
       "50%        22.000000      37.000000    7612.030000\n",
       "75%        33.000000      74.000000   20205.852500\n",
       "max        45.000000      99.000000  693099.360000"
      ]
     },
     "execution_count": 33,
     "metadata": {},
     "output_type": "execute_result"
    }
   ],
   "source": [
    "sales.info()\n",
    "sales.describe()"
   ]
  },
  {
   "cell_type": "markdown",
   "metadata": {},
   "source": [
    "### 1.2 Sales Data (All Holidays)"
   ]
  },
  {
   "cell_type": "code",
   "execution_count": 34,
   "metadata": {},
   "outputs": [
    {
     "data": {
      "text/html": [
       "<div>\n",
       "<style scoped>\n",
       "    .dataframe tbody tr th:only-of-type {\n",
       "        vertical-align: middle;\n",
       "    }\n",
       "\n",
       "    .dataframe tbody tr th {\n",
       "        vertical-align: top;\n",
       "    }\n",
       "\n",
       "    .dataframe thead th {\n",
       "        text-align: right;\n",
       "    }\n",
       "</style>\n",
       "<table border=\"1\" class=\"dataframe\">\n",
       "  <thead>\n",
       "    <tr style=\"text-align: right;\">\n",
       "      <th></th>\n",
       "      <th>Holiday</th>\n",
       "      <th>Date</th>\n",
       "    </tr>\n",
       "  </thead>\n",
       "  <tbody>\n",
       "    <tr>\n",
       "      <th>0</th>\n",
       "      <td>Black Friday</td>\n",
       "      <td>2010-11-26</td>\n",
       "    </tr>\n",
       "    <tr>\n",
       "      <th>1</th>\n",
       "      <td>Black Friday</td>\n",
       "      <td>2011-11-25</td>\n",
       "    </tr>\n",
       "    <tr>\n",
       "      <th>2</th>\n",
       "      <td>Black Friday</td>\n",
       "      <td>2012-11-23</td>\n",
       "    </tr>\n",
       "    <tr>\n",
       "      <th>3</th>\n",
       "      <td>Black Friday</td>\n",
       "      <td>2013-11-29</td>\n",
       "    </tr>\n",
       "    <tr>\n",
       "      <th>4</th>\n",
       "      <td>Christmas Day</td>\n",
       "      <td>2010-12-25</td>\n",
       "    </tr>\n",
       "  </tbody>\n",
       "</table>\n",
       "</div>"
      ],
      "text/plain": [
       "         Holiday        Date\n",
       "0   Black Friday  2010-11-26\n",
       "1   Black Friday  2011-11-25\n",
       "2   Black Friday  2012-11-23\n",
       "3   Black Friday  2013-11-29\n",
       "4  Christmas Day  2010-12-25"
      ]
     },
     "execution_count": 34,
     "metadata": {},
     "output_type": "execute_result"
    }
   ],
   "source": [
    "csv = pd.read_csv(\"data/holidays.csv\")\n",
    "holidays = pd.DataFrame(csv)\n",
    "\n",
    "holidays.head()"
   ]
  },
  {
   "cell_type": "code",
   "execution_count": 37,
   "metadata": {},
   "outputs": [
    {
     "name": "stdout",
     "output_type": "stream",
     "text": [
      "2010-02-05 00:00:00: Holiday Check Complete\n",
      "2010-02-12 00:00:00: Holiday Check Complete\n",
      "2010-02-19 00:00:00: Holiday Check Complete\n",
      "2010-02-26 00:00:00: Holiday Check Complete\n",
      "2010-03-05 00:00:00: Holiday Check Complete\n",
      "2010-03-12 00:00:00: Holiday Check Complete\n",
      "2010-03-19 00:00:00: Holiday Check Complete\n",
      "2010-03-26 00:00:00: Holiday Check Complete\n",
      "2010-04-02 00:00:00: Holiday Check Complete\n",
      "2010-04-09 00:00:00: Holiday Check Complete\n",
      "2010-04-16 00:00:00: Holiday Check Complete\n",
      "2010-04-23 00:00:00: Holiday Check Complete\n",
      "2010-04-30 00:00:00: Holiday Check Complete\n",
      "2010-05-07 00:00:00: Holiday Check Complete\n",
      "2010-05-14 00:00:00: Holiday Check Complete\n",
      "2010-05-21 00:00:00: Holiday Check Complete\n",
      "2010-05-28 00:00:00: Holiday Check Complete\n",
      "2010-06-04 00:00:00: Holiday Check Complete\n",
      "2010-06-11 00:00:00: Holiday Check Complete\n",
      "2010-06-18 00:00:00: Holiday Check Complete\n",
      "2010-06-25 00:00:00: Holiday Check Complete\n",
      "2010-07-02 00:00:00: Holiday Check Complete\n",
      "2010-07-09 00:00:00: Holiday Check Complete\n",
      "2010-07-16 00:00:00: Holiday Check Complete\n",
      "2010-07-23 00:00:00: Holiday Check Complete\n",
      "2010-07-30 00:00:00: Holiday Check Complete\n",
      "2010-08-06 00:00:00: Holiday Check Complete\n",
      "2010-08-13 00:00:00: Holiday Check Complete\n",
      "2010-08-20 00:00:00: Holiday Check Complete\n",
      "2010-08-27 00:00:00: Holiday Check Complete\n",
      "2010-09-03 00:00:00: Holiday Check Complete\n",
      "2010-09-10 00:00:00: Holiday Check Complete\n",
      "2010-09-17 00:00:00: Holiday Check Complete\n",
      "2010-09-24 00:00:00: Holiday Check Complete\n",
      "2010-10-01 00:00:00: Holiday Check Complete\n",
      "2010-10-08 00:00:00: Holiday Check Complete\n",
      "2010-10-15 00:00:00: Holiday Check Complete\n",
      "2010-10-22 00:00:00: Holiday Check Complete\n",
      "2010-10-29 00:00:00: Holiday Check Complete\n",
      "2010-11-05 00:00:00: Holiday Check Complete\n",
      "2010-11-12 00:00:00: Holiday Check Complete\n",
      "2010-11-19 00:00:00: Holiday Check Complete\n",
      "2010-11-26 00:00:00: Holiday Check Complete\n",
      "2010-12-03 00:00:00: Holiday Check Complete\n",
      "2010-12-10 00:00:00: Holiday Check Complete\n",
      "2010-12-17 00:00:00: Holiday Check Complete\n",
      "2010-12-24 00:00:00: Holiday Check Complete\n",
      "2010-12-31 00:00:00: Holiday Check Complete\n",
      "2011-01-07 00:00:00: Holiday Check Complete\n",
      "2011-01-14 00:00:00: Holiday Check Complete\n",
      "2011-01-21 00:00:00: Holiday Check Complete\n",
      "2011-01-28 00:00:00: Holiday Check Complete\n",
      "2011-02-04 00:00:00: Holiday Check Complete\n",
      "2011-02-11 00:00:00: Holiday Check Complete\n",
      "2011-02-18 00:00:00: Holiday Check Complete\n",
      "2011-02-25 00:00:00: Holiday Check Complete\n",
      "2011-03-04 00:00:00: Holiday Check Complete\n",
      "2011-03-11 00:00:00: Holiday Check Complete\n",
      "2011-03-18 00:00:00: Holiday Check Complete\n",
      "2011-03-25 00:00:00: Holiday Check Complete\n",
      "2011-04-01 00:00:00: Holiday Check Complete\n",
      "2011-04-08 00:00:00: Holiday Check Complete\n",
      "2011-04-15 00:00:00: Holiday Check Complete\n",
      "2011-04-22 00:00:00: Holiday Check Complete\n",
      "2011-04-29 00:00:00: Holiday Check Complete\n",
      "2011-05-06 00:00:00: Holiday Check Complete\n",
      "2011-05-13 00:00:00: Holiday Check Complete\n",
      "2011-05-20 00:00:00: Holiday Check Complete\n",
      "2011-05-27 00:00:00: Holiday Check Complete\n",
      "2011-06-03 00:00:00: Holiday Check Complete\n",
      "2011-06-10 00:00:00: Holiday Check Complete\n",
      "2011-06-17 00:00:00: Holiday Check Complete\n",
      "2011-06-24 00:00:00: Holiday Check Complete\n",
      "2011-07-01 00:00:00: Holiday Check Complete\n",
      "2011-07-08 00:00:00: Holiday Check Complete\n",
      "2011-07-15 00:00:00: Holiday Check Complete\n",
      "2011-07-22 00:00:00: Holiday Check Complete\n",
      "2011-07-29 00:00:00: Holiday Check Complete\n",
      "2011-08-05 00:00:00: Holiday Check Complete\n",
      "2011-08-12 00:00:00: Holiday Check Complete\n",
      "2011-08-19 00:00:00: Holiday Check Complete\n",
      "2011-08-26 00:00:00: Holiday Check Complete\n",
      "2011-09-02 00:00:00: Holiday Check Complete\n",
      "2011-09-09 00:00:00: Holiday Check Complete\n",
      "2011-09-16 00:00:00: Holiday Check Complete\n",
      "2011-09-23 00:00:00: Holiday Check Complete\n",
      "2011-09-30 00:00:00: Holiday Check Complete\n",
      "2011-10-07 00:00:00: Holiday Check Complete\n",
      "2011-10-14 00:00:00: Holiday Check Complete\n",
      "2011-10-21 00:00:00: Holiday Check Complete\n",
      "2011-10-28 00:00:00: Holiday Check Complete\n",
      "2011-11-04 00:00:00: Holiday Check Complete\n",
      "2011-11-11 00:00:00: Holiday Check Complete\n",
      "2011-11-18 00:00:00: Holiday Check Complete\n",
      "2011-11-25 00:00:00: Holiday Check Complete\n",
      "2011-12-02 00:00:00: Holiday Check Complete\n",
      "2011-12-09 00:00:00: Holiday Check Complete\n",
      "2011-12-16 00:00:00: Holiday Check Complete\n",
      "2011-12-23 00:00:00: Holiday Check Complete\n",
      "2011-12-30 00:00:00: Holiday Check Complete\n",
      "2012-01-06 00:00:00: Holiday Check Complete\n",
      "2012-01-13 00:00:00: Holiday Check Complete\n",
      "2012-01-20 00:00:00: Holiday Check Complete\n",
      "2012-01-27 00:00:00: Holiday Check Complete\n",
      "2012-02-03 00:00:00: Holiday Check Complete\n",
      "2012-02-10 00:00:00: Holiday Check Complete\n",
      "2012-02-17 00:00:00: Holiday Check Complete\n",
      "2012-02-24 00:00:00: Holiday Check Complete\n",
      "2012-03-02 00:00:00: Holiday Check Complete\n",
      "2012-03-09 00:00:00: Holiday Check Complete\n",
      "2012-03-16 00:00:00: Holiday Check Complete\n",
      "2012-03-23 00:00:00: Holiday Check Complete\n",
      "2012-03-30 00:00:00: Holiday Check Complete\n",
      "2012-04-06 00:00:00: Holiday Check Complete\n",
      "2012-04-13 00:00:00: Holiday Check Complete\n",
      "2012-04-20 00:00:00: Holiday Check Complete\n",
      "2012-04-27 00:00:00: Holiday Check Complete\n",
      "2012-05-04 00:00:00: Holiday Check Complete\n",
      "2012-05-11 00:00:00: Holiday Check Complete\n",
      "2012-05-18 00:00:00: Holiday Check Complete\n",
      "2012-05-25 00:00:00: Holiday Check Complete\n",
      "2012-06-01 00:00:00: Holiday Check Complete\n",
      "2012-06-08 00:00:00: Holiday Check Complete\n",
      "2012-06-15 00:00:00: Holiday Check Complete\n",
      "2012-06-22 00:00:00: Holiday Check Complete\n",
      "2012-06-29 00:00:00: Holiday Check Complete\n",
      "2012-07-06 00:00:00: Holiday Check Complete\n",
      "2012-07-13 00:00:00: Holiday Check Complete\n",
      "2012-07-20 00:00:00: Holiday Check Complete\n",
      "2012-07-27 00:00:00: Holiday Check Complete\n",
      "2012-08-03 00:00:00: Holiday Check Complete\n",
      "2012-08-10 00:00:00: Holiday Check Complete\n",
      "2012-08-17 00:00:00: Holiday Check Complete\n",
      "2012-08-24 00:00:00: Holiday Check Complete\n",
      "2012-08-31 00:00:00: Holiday Check Complete\n",
      "2012-09-07 00:00:00: Holiday Check Complete\n",
      "2012-09-14 00:00:00: Holiday Check Complete\n",
      "2012-09-21 00:00:00: Holiday Check Complete\n",
      "2012-09-28 00:00:00: Holiday Check Complete\n",
      "2012-10-05 00:00:00: Holiday Check Complete\n",
      "2012-10-12 00:00:00: Holiday Check Complete\n",
      "2012-10-19 00:00:00: Holiday Check Complete\n",
      "2012-10-26 00:00:00: Holiday Check Complete\n"
     ]
    }
   ],
   "source": [
    "#holiday merge and loop\n",
    "holidays.Date = pd.to_datetime(holidays.Date)\n",
    "holidates = holidays.Date\n",
    "\n",
    "byDate_all = sales.groupby('Date').sum()\n",
    "\n",
    "for index, row in byDate_all.iterrows():\n",
    "    wk_end = index\n",
    "    six_days = datetime.timedelta(days = 6)\n",
    "    wk_start = (wk_end - six_days)\n",
    "    week = pd.date_range(start=wk_start,end=wk_end)\n",
    "\n",
    "    try:   \n",
    "        byDate_all.loc[index, \"IsHoliday\"] = bool(set(week) & set(holidates))\n",
    "        print(f\"{index}: Holiday Check Complete\")\n",
    "\n",
    "    except:\n",
    "        print(f\"{index}: Unable to Complete Holiday Check, Skipping...\")"
   ]
  },
  {
   "cell_type": "code",
   "execution_count": 39,
   "metadata": {},
   "outputs": [
    {
     "data": {
      "text/html": [
       "<div>\n",
       "<style scoped>\n",
       "    .dataframe tbody tr th:only-of-type {\n",
       "        vertical-align: middle;\n",
       "    }\n",
       "\n",
       "    .dataframe tbody tr th {\n",
       "        vertical-align: top;\n",
       "    }\n",
       "\n",
       "    .dataframe thead th {\n",
       "        text-align: right;\n",
       "    }\n",
       "</style>\n",
       "<table border=\"1\" class=\"dataframe\">\n",
       "  <thead>\n",
       "    <tr style=\"text-align: right;\">\n",
       "      <th></th>\n",
       "      <th>Store</th>\n",
       "      <th>Dept</th>\n",
       "      <th>Weekly_Sales</th>\n",
       "      <th>IsHoliday</th>\n",
       "    </tr>\n",
       "    <tr>\n",
       "      <th>Date</th>\n",
       "      <th></th>\n",
       "      <th></th>\n",
       "      <th></th>\n",
       "      <th></th>\n",
       "    </tr>\n",
       "  </thead>\n",
       "  <tbody>\n",
       "    <tr>\n",
       "      <th>2010-02-05</th>\n",
       "      <td>65124</td>\n",
       "      <td>130557</td>\n",
       "      <td>49750740.50</td>\n",
       "      <td>0</td>\n",
       "    </tr>\n",
       "    <tr>\n",
       "      <th>2010-02-12</th>\n",
       "      <td>65082</td>\n",
       "      <td>131179</td>\n",
       "      <td>48336677.63</td>\n",
       "      <td>1</td>\n",
       "    </tr>\n",
       "    <tr>\n",
       "      <th>2010-02-19</th>\n",
       "      <td>65610</td>\n",
       "      <td>131897</td>\n",
       "      <td>48276993.78</td>\n",
       "      <td>1</td>\n",
       "    </tr>\n",
       "    <tr>\n",
       "      <th>2010-02-26</th>\n",
       "      <td>65045</td>\n",
       "      <td>130161</td>\n",
       "      <td>43968571.13</td>\n",
       "      <td>0</td>\n",
       "    </tr>\n",
       "    <tr>\n",
       "      <th>2010-03-05</th>\n",
       "      <td>64897</td>\n",
       "      <td>129670</td>\n",
       "      <td>46871470.30</td>\n",
       "      <td>0</td>\n",
       "    </tr>\n",
       "  </tbody>\n",
       "</table>\n",
       "</div>"
      ],
      "text/plain": [
       "            Store    Dept  Weekly_Sales  IsHoliday\n",
       "Date                                              \n",
       "2010-02-05  65124  130557   49750740.50          0\n",
       "2010-02-12  65082  131179   48336677.63          1\n",
       "2010-02-19  65610  131897   48276993.78          1\n",
       "2010-02-26  65045  130161   43968571.13          0\n",
       "2010-03-05  64897  129670   46871470.30          0"
      ]
     },
     "execution_count": 39,
     "metadata": {},
     "output_type": "execute_result"
    }
   ],
   "source": [
    "byDate_all.IsHoliday = byDate_all.IsHoliday.astype('int')\n",
    "byDate_all.head()"
   ]
  },
  {
   "cell_type": "markdown",
   "metadata": {},
   "source": [
    "### 1.3 Store Data "
   ]
  },
  {
   "cell_type": "code",
   "execution_count": null,
   "metadata": {},
   "outputs": [],
   "source": [
    "csv = pd.read_csv(\"data/stores.csv\")\n",
    "stores = pd.DataFrame(csv)\n",
    "\n",
    "stores.tail()"
   ]
  },
  {
   "cell_type": "code",
   "execution_count": null,
   "metadata": {},
   "outputs": [],
   "source": [
    "stores.info()\n",
    "stores.describe()"
   ]
  },
  {
   "cell_type": "markdown",
   "metadata": {},
   "source": [
    "# 2. EDA"
   ]
  },
  {
   "cell_type": "code",
   "execution_count": 13,
   "metadata": {},
   "outputs": [],
   "source": [
    "#setting color palette for charts\n",
    "pio.templates.default = \"plotly_white\"\n",
    "walmart_palette = ['#004c91','#007dc6','#78b9e7','#f47321','#ffc220','#76c043']"
   ]
  },
  {
   "cell_type": "markdown",
   "metadata": {},
   "source": [
    "### 1.1 Record Counts\n",
    "Review missing values"
   ]
  },
  {
   "cell_type": "code",
   "execution_count": 14,
   "metadata": {},
   "outputs": [
    {
     "data": {
      "text/plain": [
       "Store               45\n",
       "Dept                81\n",
       "Date               143\n",
       "Weekly_Sales    359464\n",
       "IsHoliday            2\n",
       "dtype: int64"
      ]
     },
     "execution_count": 14,
     "metadata": {},
     "output_type": "execute_result"
    }
   ],
   "source": [
    "sales.nunique()"
   ]
  },
  {
   "cell_type": "code",
   "execution_count": 15,
   "metadata": {},
   "outputs": [
    {
     "data": {
      "text/plain": [
       "False"
      ]
     },
     "execution_count": 15,
     "metadata": {},
     "output_type": "execute_result"
    }
   ],
   "source": [
    "45*81*143 == len(sales)"
   ]
  },
  {
   "cell_type": "code",
   "execution_count": 16,
   "metadata": {},
   "outputs": [
    {
     "data": {
      "text/html": [
       "<div>\n",
       "<style scoped>\n",
       "    .dataframe tbody tr th:only-of-type {\n",
       "        vertical-align: middle;\n",
       "    }\n",
       "\n",
       "    .dataframe tbody tr th {\n",
       "        vertical-align: top;\n",
       "    }\n",
       "\n",
       "    .dataframe thead th {\n",
       "        text-align: right;\n",
       "    }\n",
       "</style>\n",
       "<table border=\"1\" class=\"dataframe\">\n",
       "  <thead>\n",
       "    <tr style=\"text-align: right;\">\n",
       "      <th></th>\n",
       "      <th>Store</th>\n",
       "      <th>Dept</th>\n",
       "      <th>Date</th>\n",
       "      <th>Weekly_Sales</th>\n",
       "      <th>IsHoliday</th>\n",
       "    </tr>\n",
       "    <tr>\n",
       "      <th>Dept</th>\n",
       "      <th></th>\n",
       "      <th></th>\n",
       "      <th></th>\n",
       "      <th></th>\n",
       "      <th></th>\n",
       "    </tr>\n",
       "  </thead>\n",
       "  <tbody>\n",
       "    <tr>\n",
       "      <th>39</th>\n",
       "      <td>5</td>\n",
       "      <td>1</td>\n",
       "      <td>16</td>\n",
       "      <td>12</td>\n",
       "      <td>2</td>\n",
       "    </tr>\n",
       "    <tr>\n",
       "      <th>43</th>\n",
       "      <td>5</td>\n",
       "      <td>1</td>\n",
       "      <td>12</td>\n",
       "      <td>6</td>\n",
       "      <td>2</td>\n",
       "    </tr>\n",
       "    <tr>\n",
       "      <th>47</th>\n",
       "      <td>37</td>\n",
       "      <td>1</td>\n",
       "      <td>138</td>\n",
       "      <td>277</td>\n",
       "      <td>2</td>\n",
       "    </tr>\n",
       "    <tr>\n",
       "      <th>51</th>\n",
       "      <td>37</td>\n",
       "      <td>1</td>\n",
       "      <td>131</td>\n",
       "      <td>780</td>\n",
       "      <td>2</td>\n",
       "    </tr>\n",
       "    <tr>\n",
       "      <th>77</th>\n",
       "      <td>37</td>\n",
       "      <td>1</td>\n",
       "      <td>35</td>\n",
       "      <td>58</td>\n",
       "      <td>2</td>\n",
       "    </tr>\n",
       "    <tr>\n",
       "      <th>78</th>\n",
       "      <td>37</td>\n",
       "      <td>1</td>\n",
       "      <td>82</td>\n",
       "      <td>38</td>\n",
       "      <td>2</td>\n",
       "    </tr>\n",
       "    <tr>\n",
       "      <th>99</th>\n",
       "      <td>37</td>\n",
       "      <td>1</td>\n",
       "      <td>94</td>\n",
       "      <td>311</td>\n",
       "      <td>2</td>\n",
       "    </tr>\n",
       "  </tbody>\n",
       "</table>\n",
       "</div>"
      ],
      "text/plain": [
       "      Store  Dept  Date  Weekly_Sales  IsHoliday\n",
       "Dept                                            \n",
       "39        5     1    16            12          2\n",
       "43        5     1    12             6          2\n",
       "47       37     1   138           277          2\n",
       "51       37     1   131           780          2\n",
       "77       37     1    35            58          2\n",
       "78       37     1    82            38          2\n",
       "99       37     1    94           311          2"
      ]
     },
     "execution_count": 16,
     "metadata": {},
     "output_type": "execute_result"
    }
   ],
   "source": [
    "#Departments with missing weekly sales\n",
    "sales.groupby('Dept').nunique().query(\"Date<143\")"
   ]
  },
  {
   "cell_type": "code",
   "execution_count": 17,
   "metadata": {},
   "outputs": [
    {
     "data": {
      "text/html": [
       "<div>\n",
       "<style scoped>\n",
       "    .dataframe tbody tr th:only-of-type {\n",
       "        vertical-align: middle;\n",
       "    }\n",
       "\n",
       "    .dataframe tbody tr th {\n",
       "        vertical-align: top;\n",
       "    }\n",
       "\n",
       "    .dataframe thead th {\n",
       "        text-align: right;\n",
       "    }\n",
       "</style>\n",
       "<table border=\"1\" class=\"dataframe\">\n",
       "  <thead>\n",
       "    <tr style=\"text-align: right;\">\n",
       "      <th></th>\n",
       "      <th>Store</th>\n",
       "      <th>Dept</th>\n",
       "      <th>Date</th>\n",
       "      <th>Weekly_Sales</th>\n",
       "      <th>IsHoliday</th>\n",
       "    </tr>\n",
       "    <tr>\n",
       "      <th>Store</th>\n",
       "      <th></th>\n",
       "      <th></th>\n",
       "      <th></th>\n",
       "      <th></th>\n",
       "      <th></th>\n",
       "    </tr>\n",
       "  </thead>\n",
       "  <tbody>\n",
       "  </tbody>\n",
       "</table>\n",
       "</div>"
      ],
      "text/plain": [
       "Empty DataFrame\n",
       "Columns: [Store, Dept, Date, Weekly_Sales, IsHoliday]\n",
       "Index: []"
      ]
     },
     "execution_count": 17,
     "metadata": {},
     "output_type": "execute_result"
    }
   ],
   "source": [
    "#Stores with missing weekly sales\n",
    "sales.groupby('Store').nunique().query(\"Date<143\")"
   ]
  },
  {
   "cell_type": "code",
   "execution_count": 18,
   "metadata": {
    "scrolled": true
   },
   "outputs": [
    {
     "data": {
      "text/html": [
       "<div>\n",
       "<style scoped>\n",
       "    .dataframe tbody tr th:only-of-type {\n",
       "        vertical-align: middle;\n",
       "    }\n",
       "\n",
       "    .dataframe tbody tr th {\n",
       "        vertical-align: top;\n",
       "    }\n",
       "\n",
       "    .dataframe thead th {\n",
       "        text-align: right;\n",
       "    }\n",
       "</style>\n",
       "<table border=\"1\" class=\"dataframe\">\n",
       "  <thead>\n",
       "    <tr style=\"text-align: right;\">\n",
       "      <th></th>\n",
       "      <th>Store</th>\n",
       "      <th>Dept</th>\n",
       "      <th>Date</th>\n",
       "      <th>Weekly_Sales</th>\n",
       "      <th>IsHoliday</th>\n",
       "    </tr>\n",
       "    <tr>\n",
       "      <th>Store</th>\n",
       "      <th></th>\n",
       "      <th></th>\n",
       "      <th></th>\n",
       "      <th></th>\n",
       "      <th></th>\n",
       "    </tr>\n",
       "  </thead>\n",
       "  <tbody>\n",
       "    <tr>\n",
       "      <th>1</th>\n",
       "      <td>1</td>\n",
       "      <td>77</td>\n",
       "      <td>143</td>\n",
       "      <td>10042</td>\n",
       "      <td>2</td>\n",
       "    </tr>\n",
       "    <tr>\n",
       "      <th>2</th>\n",
       "      <td>1</td>\n",
       "      <td>78</td>\n",
       "      <td>143</td>\n",
       "      <td>10088</td>\n",
       "      <td>2</td>\n",
       "    </tr>\n",
       "    <tr>\n",
       "      <th>3</th>\n",
       "      <td>1</td>\n",
       "      <td>72</td>\n",
       "      <td>143</td>\n",
       "      <td>8688</td>\n",
       "      <td>2</td>\n",
       "    </tr>\n",
       "    <tr>\n",
       "      <th>4</th>\n",
       "      <td>1</td>\n",
       "      <td>78</td>\n",
       "      <td>143</td>\n",
       "      <td>10098</td>\n",
       "      <td>2</td>\n",
       "    </tr>\n",
       "    <tr>\n",
       "      <th>5</th>\n",
       "      <td>1</td>\n",
       "      <td>72</td>\n",
       "      <td>143</td>\n",
       "      <td>8594</td>\n",
       "      <td>2</td>\n",
       "    </tr>\n",
       "    <tr>\n",
       "      <th>6</th>\n",
       "      <td>1</td>\n",
       "      <td>77</td>\n",
       "      <td>143</td>\n",
       "      <td>10076</td>\n",
       "      <td>2</td>\n",
       "    </tr>\n",
       "    <tr>\n",
       "      <th>7</th>\n",
       "      <td>1</td>\n",
       "      <td>76</td>\n",
       "      <td>143</td>\n",
       "      <td>9391</td>\n",
       "      <td>2</td>\n",
       "    </tr>\n",
       "    <tr>\n",
       "      <th>8</th>\n",
       "      <td>1</td>\n",
       "      <td>76</td>\n",
       "      <td>143</td>\n",
       "      <td>9667</td>\n",
       "      <td>2</td>\n",
       "    </tr>\n",
       "    <tr>\n",
       "      <th>9</th>\n",
       "      <td>1</td>\n",
       "      <td>73</td>\n",
       "      <td>143</td>\n",
       "      <td>8627</td>\n",
       "      <td>2</td>\n",
       "    </tr>\n",
       "    <tr>\n",
       "      <th>10</th>\n",
       "      <td>1</td>\n",
       "      <td>77</td>\n",
       "      <td>143</td>\n",
       "      <td>10126</td>\n",
       "      <td>2</td>\n",
       "    </tr>\n",
       "    <tr>\n",
       "      <th>11</th>\n",
       "      <td>1</td>\n",
       "      <td>78</td>\n",
       "      <td>143</td>\n",
       "      <td>9924</td>\n",
       "      <td>2</td>\n",
       "    </tr>\n",
       "    <tr>\n",
       "      <th>12</th>\n",
       "      <td>1</td>\n",
       "      <td>75</td>\n",
       "      <td>143</td>\n",
       "      <td>9432</td>\n",
       "      <td>2</td>\n",
       "    </tr>\n",
       "    <tr>\n",
       "      <th>13</th>\n",
       "      <td>1</td>\n",
       "      <td>79</td>\n",
       "      <td>143</td>\n",
       "      <td>10293</td>\n",
       "      <td>2</td>\n",
       "    </tr>\n",
       "    <tr>\n",
       "      <th>14</th>\n",
       "      <td>1</td>\n",
       "      <td>77</td>\n",
       "      <td>143</td>\n",
       "      <td>9884</td>\n",
       "      <td>2</td>\n",
       "    </tr>\n",
       "    <tr>\n",
       "      <th>15</th>\n",
       "      <td>1</td>\n",
       "      <td>79</td>\n",
       "      <td>143</td>\n",
       "      <td>9640</td>\n",
       "      <td>2</td>\n",
       "    </tr>\n",
       "    <tr>\n",
       "      <th>16</th>\n",
       "      <td>1</td>\n",
       "      <td>76</td>\n",
       "      <td>143</td>\n",
       "      <td>9137</td>\n",
       "      <td>2</td>\n",
       "    </tr>\n",
       "    <tr>\n",
       "      <th>17</th>\n",
       "      <td>1</td>\n",
       "      <td>76</td>\n",
       "      <td>143</td>\n",
       "      <td>9511</td>\n",
       "      <td>2</td>\n",
       "    </tr>\n",
       "    <tr>\n",
       "      <th>18</th>\n",
       "      <td>1</td>\n",
       "      <td>78</td>\n",
       "      <td>143</td>\n",
       "      <td>9665</td>\n",
       "      <td>2</td>\n",
       "    </tr>\n",
       "    <tr>\n",
       "      <th>19</th>\n",
       "      <td>1</td>\n",
       "      <td>79</td>\n",
       "      <td>143</td>\n",
       "      <td>9944</td>\n",
       "      <td>2</td>\n",
       "    </tr>\n",
       "    <tr>\n",
       "      <th>20</th>\n",
       "      <td>1</td>\n",
       "      <td>78</td>\n",
       "      <td>143</td>\n",
       "      <td>10015</td>\n",
       "      <td>2</td>\n",
       "    </tr>\n",
       "    <tr>\n",
       "      <th>21</th>\n",
       "      <td>1</td>\n",
       "      <td>77</td>\n",
       "      <td>143</td>\n",
       "      <td>9376</td>\n",
       "      <td>2</td>\n",
       "    </tr>\n",
       "    <tr>\n",
       "      <th>22</th>\n",
       "      <td>1</td>\n",
       "      <td>76</td>\n",
       "      <td>143</td>\n",
       "      <td>9439</td>\n",
       "      <td>2</td>\n",
       "    </tr>\n",
       "    <tr>\n",
       "      <th>23</th>\n",
       "      <td>1</td>\n",
       "      <td>77</td>\n",
       "      <td>143</td>\n",
       "      <td>9830</td>\n",
       "      <td>2</td>\n",
       "    </tr>\n",
       "    <tr>\n",
       "      <th>24</th>\n",
       "      <td>1</td>\n",
       "      <td>77</td>\n",
       "      <td>143</td>\n",
       "      <td>9958</td>\n",
       "      <td>2</td>\n",
       "    </tr>\n",
       "    <tr>\n",
       "      <th>25</th>\n",
       "      <td>1</td>\n",
       "      <td>77</td>\n",
       "      <td>143</td>\n",
       "      <td>9551</td>\n",
       "      <td>2</td>\n",
       "    </tr>\n",
       "    <tr>\n",
       "      <th>26</th>\n",
       "      <td>1</td>\n",
       "      <td>76</td>\n",
       "      <td>143</td>\n",
       "      <td>9661</td>\n",
       "      <td>2</td>\n",
       "    </tr>\n",
       "    <tr>\n",
       "      <th>27</th>\n",
       "      <td>1</td>\n",
       "      <td>78</td>\n",
       "      <td>143</td>\n",
       "      <td>10026</td>\n",
       "      <td>2</td>\n",
       "    </tr>\n",
       "    <tr>\n",
       "      <th>28</th>\n",
       "      <td>1</td>\n",
       "      <td>77</td>\n",
       "      <td>143</td>\n",
       "      <td>9933</td>\n",
       "      <td>2</td>\n",
       "    </tr>\n",
       "    <tr>\n",
       "      <th>29</th>\n",
       "      <td>1</td>\n",
       "      <td>77</td>\n",
       "      <td>143</td>\n",
       "      <td>9133</td>\n",
       "      <td>2</td>\n",
       "    </tr>\n",
       "    <tr>\n",
       "      <th>30</th>\n",
       "      <td>1</td>\n",
       "      <td>64</td>\n",
       "      <td>143</td>\n",
       "      <td>6517</td>\n",
       "      <td>2</td>\n",
       "    </tr>\n",
       "    <tr>\n",
       "      <th>31</th>\n",
       "      <td>1</td>\n",
       "      <td>76</td>\n",
       "      <td>143</td>\n",
       "      <td>9931</td>\n",
       "      <td>2</td>\n",
       "    </tr>\n",
       "    <tr>\n",
       "      <th>32</th>\n",
       "      <td>1</td>\n",
       "      <td>77</td>\n",
       "      <td>143</td>\n",
       "      <td>9985</td>\n",
       "      <td>2</td>\n",
       "    </tr>\n",
       "    <tr>\n",
       "      <th>33</th>\n",
       "      <td>1</td>\n",
       "      <td>63</td>\n",
       "      <td>143</td>\n",
       "      <td>5714</td>\n",
       "      <td>2</td>\n",
       "    </tr>\n",
       "    <tr>\n",
       "      <th>34</th>\n",
       "      <td>1</td>\n",
       "      <td>78</td>\n",
       "      <td>143</td>\n",
       "      <td>9911</td>\n",
       "      <td>2</td>\n",
       "    </tr>\n",
       "    <tr>\n",
       "      <th>35</th>\n",
       "      <td>1</td>\n",
       "      <td>74</td>\n",
       "      <td>143</td>\n",
       "      <td>9298</td>\n",
       "      <td>2</td>\n",
       "    </tr>\n",
       "    <tr>\n",
       "      <th>36</th>\n",
       "      <td>1</td>\n",
       "      <td>63</td>\n",
       "      <td>143</td>\n",
       "      <td>5742</td>\n",
       "      <td>2</td>\n",
       "    </tr>\n",
       "    <tr>\n",
       "      <th>37</th>\n",
       "      <td>1</td>\n",
       "      <td>62</td>\n",
       "      <td>143</td>\n",
       "      <td>6864</td>\n",
       "      <td>2</td>\n",
       "    </tr>\n",
       "    <tr>\n",
       "      <th>38</th>\n",
       "      <td>1</td>\n",
       "      <td>63</td>\n",
       "      <td>143</td>\n",
       "      <td>6715</td>\n",
       "      <td>2</td>\n",
       "    </tr>\n",
       "    <tr>\n",
       "      <th>39</th>\n",
       "      <td>1</td>\n",
       "      <td>75</td>\n",
       "      <td>143</td>\n",
       "      <td>9713</td>\n",
       "      <td>2</td>\n",
       "    </tr>\n",
       "    <tr>\n",
       "      <th>40</th>\n",
       "      <td>1</td>\n",
       "      <td>77</td>\n",
       "      <td>143</td>\n",
       "      <td>9724</td>\n",
       "      <td>2</td>\n",
       "    </tr>\n",
       "    <tr>\n",
       "      <th>41</th>\n",
       "      <td>1</td>\n",
       "      <td>77</td>\n",
       "      <td>143</td>\n",
       "      <td>9864</td>\n",
       "      <td>2</td>\n",
       "    </tr>\n",
       "    <tr>\n",
       "      <th>42</th>\n",
       "      <td>1</td>\n",
       "      <td>62</td>\n",
       "      <td>143</td>\n",
       "      <td>6452</td>\n",
       "      <td>2</td>\n",
       "    </tr>\n",
       "    <tr>\n",
       "      <th>43</th>\n",
       "      <td>1</td>\n",
       "      <td>61</td>\n",
       "      <td>143</td>\n",
       "      <td>6292</td>\n",
       "      <td>2</td>\n",
       "    </tr>\n",
       "    <tr>\n",
       "      <th>44</th>\n",
       "      <td>1</td>\n",
       "      <td>62</td>\n",
       "      <td>143</td>\n",
       "      <td>6548</td>\n",
       "      <td>2</td>\n",
       "    </tr>\n",
       "    <tr>\n",
       "      <th>45</th>\n",
       "      <td>1</td>\n",
       "      <td>74</td>\n",
       "      <td>143</td>\n",
       "      <td>9381</td>\n",
       "      <td>2</td>\n",
       "    </tr>\n",
       "  </tbody>\n",
       "</table>\n",
       "</div>"
      ],
      "text/plain": [
       "       Store  Dept  Date  Weekly_Sales  IsHoliday\n",
       "Store                                            \n",
       "1          1    77   143         10042          2\n",
       "2          1    78   143         10088          2\n",
       "3          1    72   143          8688          2\n",
       "4          1    78   143         10098          2\n",
       "5          1    72   143          8594          2\n",
       "6          1    77   143         10076          2\n",
       "7          1    76   143          9391          2\n",
       "8          1    76   143          9667          2\n",
       "9          1    73   143          8627          2\n",
       "10         1    77   143         10126          2\n",
       "11         1    78   143          9924          2\n",
       "12         1    75   143          9432          2\n",
       "13         1    79   143         10293          2\n",
       "14         1    77   143          9884          2\n",
       "15         1    79   143          9640          2\n",
       "16         1    76   143          9137          2\n",
       "17         1    76   143          9511          2\n",
       "18         1    78   143          9665          2\n",
       "19         1    79   143          9944          2\n",
       "20         1    78   143         10015          2\n",
       "21         1    77   143          9376          2\n",
       "22         1    76   143          9439          2\n",
       "23         1    77   143          9830          2\n",
       "24         1    77   143          9958          2\n",
       "25         1    77   143          9551          2\n",
       "26         1    76   143          9661          2\n",
       "27         1    78   143         10026          2\n",
       "28         1    77   143          9933          2\n",
       "29         1    77   143          9133          2\n",
       "30         1    64   143          6517          2\n",
       "31         1    76   143          9931          2\n",
       "32         1    77   143          9985          2\n",
       "33         1    63   143          5714          2\n",
       "34         1    78   143          9911          2\n",
       "35         1    74   143          9298          2\n",
       "36         1    63   143          5742          2\n",
       "37         1    62   143          6864          2\n",
       "38         1    63   143          6715          2\n",
       "39         1    75   143          9713          2\n",
       "40         1    77   143          9724          2\n",
       "41         1    77   143          9864          2\n",
       "42         1    62   143          6452          2\n",
       "43         1    61   143          6292          2\n",
       "44         1    62   143          6548          2\n",
       "45         1    74   143          9381          2"
      ]
     },
     "execution_count": 18,
     "metadata": {},
     "output_type": "execute_result"
    }
   ],
   "source": [
    "#Number of unique depts per store\n",
    "sales.groupby('Store').nunique()"
   ]
  },
  {
   "cell_type": "markdown",
   "metadata": {},
   "source": [
    "### 1.2 Sales Analysis\n",
    "High-level analysis of sales and holiday's potential influence on seasonality"
   ]
  },
  {
   "cell_type": "code",
   "execution_count": 19,
   "metadata": {},
   "outputs": [
    {
     "data": {
      "text/html": [
       "<div>\n",
       "<style scoped>\n",
       "    .dataframe tbody tr th:only-of-type {\n",
       "        vertical-align: middle;\n",
       "    }\n",
       "\n",
       "    .dataframe tbody tr th {\n",
       "        vertical-align: top;\n",
       "    }\n",
       "\n",
       "    .dataframe thead th {\n",
       "        text-align: right;\n",
       "    }\n",
       "</style>\n",
       "<table border=\"1\" class=\"dataframe\">\n",
       "  <thead>\n",
       "    <tr style=\"text-align: right;\">\n",
       "      <th></th>\n",
       "      <th>Store</th>\n",
       "      <th>Dept</th>\n",
       "      <th>Weekly_Sales</th>\n",
       "      <th>IsHoliday</th>\n",
       "    </tr>\n",
       "    <tr>\n",
       "      <th>Date</th>\n",
       "      <th></th>\n",
       "      <th></th>\n",
       "      <th></th>\n",
       "      <th></th>\n",
       "    </tr>\n",
       "  </thead>\n",
       "  <tbody>\n",
       "    <tr>\n",
       "      <th>2010-02-05</th>\n",
       "      <td>65124</td>\n",
       "      <td>130557</td>\n",
       "      <td>49750740.50</td>\n",
       "      <td>0</td>\n",
       "    </tr>\n",
       "    <tr>\n",
       "      <th>2010-02-12</th>\n",
       "      <td>65082</td>\n",
       "      <td>131179</td>\n",
       "      <td>48336677.63</td>\n",
       "      <td>1</td>\n",
       "    </tr>\n",
       "    <tr>\n",
       "      <th>2010-02-19</th>\n",
       "      <td>65610</td>\n",
       "      <td>131897</td>\n",
       "      <td>48276993.78</td>\n",
       "      <td>0</td>\n",
       "    </tr>\n",
       "    <tr>\n",
       "      <th>2010-02-26</th>\n",
       "      <td>65045</td>\n",
       "      <td>130161</td>\n",
       "      <td>43968571.13</td>\n",
       "      <td>0</td>\n",
       "    </tr>\n",
       "    <tr>\n",
       "      <th>2010-03-05</th>\n",
       "      <td>64897</td>\n",
       "      <td>129670</td>\n",
       "      <td>46871470.30</td>\n",
       "      <td>0</td>\n",
       "    </tr>\n",
       "  </tbody>\n",
       "</table>\n",
       "</div>"
      ],
      "text/plain": [
       "            Store    Dept  Weekly_Sales  IsHoliday\n",
       "Date                                              \n",
       "2010-02-05  65124  130557   49750740.50          0\n",
       "2010-02-12  65082  131179   48336677.63          1\n",
       "2010-02-19  65610  131897   48276993.78          0\n",
       "2010-02-26  65045  130161   43968571.13          0\n",
       "2010-03-05  64897  129670   46871470.30          0"
      ]
     },
     "execution_count": 19,
     "metadata": {},
     "output_type": "execute_result"
    }
   ],
   "source": [
    "byDate = sales.groupby('Date',sort=False).sum()\n",
    "byDate.IsHoliday = byDate.IsHoliday.astype('bool').astype('int')\n",
    "byDate.index.freq = 'W-FRI'\n",
    "byDate.head()"
   ]
  },
  {
   "cell_type": "code",
   "execution_count": 20,
   "metadata": {},
   "outputs": [
    {
     "data": {
      "image/png": "[encoded data removed]"
     },
     "metadata": {},
     "output_type": "display_data"
    }
   ],
   "source": [
    "byDate_line = go.Figure(data=go.Scatter(x=byDate.index,y=byDate.Weekly_Sales, name='Weekly_Sales'))\n",
    "byDate_line.update_layout(title={\n",
    "        'text': \"Total Weekly Sales\",\n",
    "        'y':0.9,\n",
    "        'x':0.5,\n",
    "        'xanchor': 'center',\n",
    "        'yanchor': 'top'}\n",
    ")\n",
    "byDate_line.update_xaxes(\n",
    "    rangeslider_visible=True,\n",
    "    rangeselector=dict(\n",
    "        buttons=list([\n",
    "            dict(count=1, label=\"1m\", step=\"month\", stepmode=\"backward\"),\n",
    "            dict(count=6, label=\"6m\", step=\"month\", stepmode=\"backward\"),\n",
    "            dict(count=1, label=\"1y\", step=\"year\", stepmode=\"backward\"),\n",
    "            dict(step=\"all\")\n",
    "        ])\n",
    "    )\n",
    ")\n",
    "byDate_line.update_layout(title={\n",
    "        'text': \"Total Weekly Sales\",\n",
    "        'y':0.9,\n",
    "        'x':0.5,\n",
    "        'xanchor': 'center',\n",
    "        'yanchor': 'top'})\n",
    "byDate_line.show(\"png\")\n",
    "#byDate_line.show()"
   ]
  },
  {
   "cell_type": "code",
   "execution_count": 26,
   "metadata": {},
   "outputs": [
    {
     "data": {
      "image/png": "[encoded data removed]"
     },
     "metadata": {},
     "output_type": "display_data"
    }
   ],
   "source": [
    "ymin=byDate.Weekly_Sales.min()\n",
    "ymax=byDate.Weekly_Sales.max()\n",
    "\n",
    "byDate_wm_markers = go.Figure(data=go.Scatter(x=byDate.index,y=byDate.Weekly_Sales, name='Weekly_Sales'))\n",
    "\n",
    "final_wk = max(byDate.index)\n",
    "for date in byDate.query(\"IsHoliday==1\").index:\n",
    "    byDate_wm_markers.add_shape(type=\"line\",\n",
    "                   x0=date,\n",
    "                   y0=ymin,\n",
    "                   x1=date,\n",
    "                   y1=ymax,\n",
    "                   opacity=0.3,\n",
    "                  line=dict(color=walmart_palette[4]))\n",
    "\n",
    "byDate_wm_markers.update_layout(title={\n",
    "        'text': \"Total Weekly Sales with Walmart's Holiday Markers\",\n",
    "        'y':0.9,\n",
    "        'x':0.5,\n",
    "        'xanchor': 'center',\n",
    "        'yanchor': 'top'})\n",
    "byDate_wm_markers.show('png')\n",
    "#byDate_wm_markers.show()"
   ]
  },
  {
   "cell_type": "code",
   "execution_count": 40,
   "metadata": {
    "scrolled": true
   },
   "outputs": [
    {
     "data": {
      "image/png": "[encoded data removed]"
     },
     "metadata": {},
     "output_type": "display_data"
    }
   ],
   "source": [
    "byDate_all_markers = go.Figure(data=go.Scatter(x=byDate_all.index,y=byDate_all.Weekly_Sales, name='Weekly_Sales'))\n",
    "\n",
    "for date in byDate_all.query(\"IsHoliday==1\").index:\n",
    "    byDate_all_markers.add_shape(type=\"line\",\n",
    "                   x0=date,\n",
    "                   y0=ymin,\n",
    "                   x1=date,\n",
    "                   y1=ymax,\n",
    "                   opacity=0.3,\n",
    "                  line=dict(color=walmart_palette[4]))\n",
    "\n",
    "byDate_all_markers.update_layout(title={\n",
    "        'text': \"Total Weekly Sales with All Holiday Markers\",\n",
    "        'y':0.9,\n",
    "        'x':0.5,\n",
    "        'xanchor': 'center',\n",
    "        'yanchor': 'top'})\n",
    "byDate_all_markers.show('png')\n",
    "#byDate_all_markers.show()"
   ]
  },
  {
   "cell_type": "markdown",
   "metadata": {},
   "source": [
    "## Sales by Store"
   ]
  },
  {
   "cell_type": "code",
   "execution_count": null,
   "metadata": {},
   "outputs": [],
   "source": [
    "byStore = sales.reset_index().groupby('Store', as_index=False).sum()\n",
    "byStore = pd.merge(byStore, stores, on='Store', how='left')\n",
    "byStore.head()"
   ]
  },
  {
   "cell_type": "code",
   "execution_count": null,
   "metadata": {},
   "outputs": [],
   "source": [
    "#Total number of stores\n",
    "byStore.nunique()"
   ]
  },
  {
   "cell_type": "code",
   "execution_count": null,
   "metadata": {},
   "outputs": [],
   "source": [
    "#Formatting df for visuals\n",
    "byStore = byStore[[\"Store\", \"Weekly_Sales\", \"Type\", \"Size\"]]\n",
    "byStore.head()"
   ]
  },
  {
   "cell_type": "code",
   "execution_count": null,
   "metadata": {},
   "outputs": [],
   "source": [
    "byStore_Bar = go.Figure(data=go.Bar(x=byStore.Store,\n",
    "                                y=byStore.Weekly_Sales, \n",
    "                                name='Weekly_Sales')\n",
    ")\n",
    "\n",
    "\n",
    "\n",
    "byStore_Bar.update_layout(title={\n",
    "        'text': \"Total Weekly Sales by Store\",\n",
    "        'y':0.9,\n",
    "        'x':0.5,\n",
    "        'xanchor': 'center',\n",
    "        'yanchor': 'top'})\n",
    "\n",
    "byStore_Bar.show('png')\n",
    "#byStore_Bar.show()"
   ]
  },
  {
   "cell_type": "code",
   "execution_count": 1,
   "metadata": {
    "collapsed": true
   },
   "outputs": [
    {
     "ename": "NameError",
     "evalue": "name 'px' is not defined",
     "output_type": "error",
     "traceback": [
      "\u001b[1;31m---------------------------------------------------------------------------\u001b[0m",
      "\u001b[1;31mNameError\u001b[0m                                 Traceback (most recent call last)",
      "\u001b[1;32m<ipython-input-1-7411f5fe5576>\u001b[0m in \u001b[0;36m<module>\u001b[1;34m\u001b[0m\n\u001b[1;32m----> 1\u001b[1;33m \u001b[0mfig\u001b[0m \u001b[1;33m=\u001b[0m \u001b[0mpx\u001b[0m\u001b[1;33m.\u001b[0m\u001b[0mbox\u001b[0m\u001b[1;33m(\u001b[0m\u001b[0mbyStore\u001b[0m\u001b[1;33m,\u001b[0m \u001b[0mx\u001b[0m\u001b[1;33m=\u001b[0m\u001b[1;34m\"Type\"\u001b[0m\u001b[1;33m,\u001b[0m \u001b[0my\u001b[0m\u001b[1;33m=\u001b[0m\u001b[1;34m\"Weekly_Sales\"\u001b[0m\u001b[1;33m,\u001b[0m \u001b[0mcolor\u001b[0m\u001b[1;33m=\u001b[0m\u001b[1;34m\"Type\"\u001b[0m\u001b[1;33m)\u001b[0m\u001b[1;33m\u001b[0m\u001b[1;33m\u001b[0m\u001b[0m\n\u001b[0m\u001b[0;32m      2\u001b[0m \u001b[0mfig\u001b[0m\u001b[1;33m.\u001b[0m\u001b[0mshow\u001b[0m\u001b[1;33m(\u001b[0m\u001b[1;34m'png'\u001b[0m\u001b[1;33m)\u001b[0m\u001b[1;33m\u001b[0m\u001b[1;33m\u001b[0m\u001b[0m\n\u001b[0;32m      3\u001b[0m \u001b[1;31m#fig.show()\u001b[0m\u001b[1;33m\u001b[0m\u001b[1;33m\u001b[0m\u001b[1;33m\u001b[0m\u001b[0m\n",
      "\u001b[1;31mNameError\u001b[0m: name 'px' is not defined"
     ]
    }
   ],
   "source": [
    "fig = px.box(byStore, x=\"Type\", y=\"Weekly_Sales\", color=\"Type\")\n",
    ".update_layout(title={\n",
    "        'text': \"Total Weekly Sales by Store\",\n",
    "        'y':0.9,\n",
    "        'x':0.5,\n",
    "        'xanchor': 'center',\n",
    "        'yanchor': 'top'})\n",
    "fig.show('png')\n",
    "#fig.show()"
   ]
  },
  {
   "cell_type": "code",
   "execution_count": null,
   "metadata": {},
   "outputs": [],
   "source": [
    "fig = px.box(byStore, x=\"Type\", y=\"Size\", color=\"Type\")\n",
    ".update_layout(title={\n",
    "        'text': \"Total Weekly Sales by Store\",\n",
    "        'y':0.9,\n",
    "        'x':0.5,\n",
    "        'xanchor': 'center',\n",
    "        'yanchor': 'top'})\n",
    "fig.show('png')\n",
    "#fig.show()"
   ]
  },
  {
   "cell_type": "code",
   "execution_count": null,
   "metadata": {},
   "outputs": [],
   "source": [
    "size_Dist = px.histogram(byStore, x=\"Size\", color='Type')\n",
    ".update_layout(title={\n",
    "        'text': \"Total Weekly Sales by Store\",\n",
    "        'y':0.9,\n",
    "        'x':0.5,\n",
    "        'xanchor': 'center',\n",
    "        'yanchor': 'top'})\n",
    "size_Dist.show('png')\n",
    "#size_Dist.show()"
   ]
  },
  {
   "cell_type": "code",
   "execution_count": null,
   "metadata": {},
   "outputs": [],
   "source": [
    "fig = px.scatter(byStore, x=\"Size\",y='Weekly_Sales',color='Type')\n",
    ".update_layout(title={\n",
    "        'text': \"Total Weekly Sales by Store\",\n",
    "        'y':0.9,\n",
    "        'x':0.5,\n",
    "        'xanchor': 'center',\n",
    "        'yanchor': 'top'})\n",
    "fig.show('png')\n",
    "#fig.show()"
   ]
  },
  {
   "cell_type": "code",
   "execution_count": null,
   "metadata": {},
   "outputs": [],
   "source": [
    "byStore['SalesPerSF'] = byStore.Weekly_Sales/byStore.Size\n",
    "\n",
    "fig = px.scatter(byStore, x=\"Size\",y='SalesPerSF',color='Type')\n",
    ".update_layout(title={\n",
    "        'text': \"Total Weekly Sales by Store\",\n",
    "        'y':0.9,\n",
    "        'x':0.5,\n",
    "        'xanchor': 'center',\n",
    "        'yanchor': 'top'})\n",
    "fig.show('png')\n",
    "#fig.show()"
   ]
  },
  {
   "cell_type": "markdown",
   "metadata": {},
   "source": [
    "### Cluster Stores"
   ]
  },
  {
   "cell_type": "code",
   "execution_count": null,
   "metadata": {},
   "outputs": [],
   "source": [
    "byStorex = byStore[['SalesPerSF','Weekly_Sales', 'Size']]\n",
    "byStorex.head()"
   ]
  },
  {
   "cell_type": "code",
   "execution_count": null,
   "metadata": {},
   "outputs": [],
   "source": [
    "from sklearn.cluster import KMeans\n",
    "\n",
    "kmeans = KMeans(n_clusters=6) \n",
    "kmeans.fit(byStorex)\n",
    "byStorex['Cluster'] = kmeans.labels_\n",
    "byStorex.head()"
   ]
  },
  {
   "cell_type": "code",
   "execution_count": null,
   "metadata": {},
   "outputs": [],
   "source": [
    "fig = px.scatter(byStorex, x=\"Size\",y='SalesPerSF',color='Cluster', size='Weekly_Sales')\n",
    "fig.update_layout(title={\n",
    "        'text': \"Total Weekly Sales by Store\",\n",
    "        'y':0.9,\n",
    "        'x':0.5,\n",
    "        'xanchor': 'center',\n",
    "        'yanchor': 'top'})\n",
    "fig.show('png')\n",
    "#fig.show()"
   ]
  },
  {
   "cell_type": "code",
   "execution_count": null,
   "metadata": {},
   "outputs": [],
   "source": [
    "fig = px.box(byStorex, x=\"Cluster\", y=\"SalesPerSF\", color=\"Cluster\")\n",
    "fig.update_layout(title={\n",
    "        'text': \"Total Weekly Sales by Store\",\n",
    "        'y':0.9,\n",
    "        'x':0.5,\n",
    "        'xanchor': 'center',\n",
    "        'yanchor': 'top'})\n",
    "fig.show('png')\n",
    "#fig.show()"
   ]
  },
  {
   "cell_type": "markdown",
   "metadata": {},
   "source": [
    "# Sales by Dept\n",
    "Which departments are influenced by seasonality?"
   ]
  },
  {
   "cell_type": "code",
   "execution_count": null,
   "metadata": {},
   "outputs": [],
   "source": [
    "#number of unique departments\n",
    "sales['Dept'].nunique()"
   ]
  },
  {
   "cell_type": "code",
   "execution_count": null,
   "metadata": {},
   "outputs": [],
   "source": [
    "byDept = sales.groupby(['Dept']).sum()\n",
    "byDept.head()"
   ]
  },
  {
   "cell_type": "code",
   "execution_count": null,
   "metadata": {},
   "outputs": [],
   "source": [
    "byDept_Bar = px.bar(byDept, y='Weekly_Sales')\n",
    "byDept_Bar.show('png')\n",
    "#byDept_Bar.show()"
   ]
  },
  {
   "cell_type": "code",
   "execution_count": null,
   "metadata": {},
   "outputs": [],
   "source": [
    "byDept.query('Weekly_Sales<=0')"
   ]
  },
  {
   "cell_type": "markdown",
   "metadata": {},
   "source": [
    "## DICKEY-FULLER TEST\n",
    "determine stationarity...lags!!"
   ]
  },
  {
   "cell_type": "code",
   "execution_count": null,
   "metadata": {},
   "outputs": [],
   "source": [
    "from statsmodels.tsa.stattools import adfuller"
   ]
  },
  {
   "cell_type": "code",
   "execution_count": null,
   "metadata": {},
   "outputs": [],
   "source": [
    "#salesx = pd.read_csv(\"data/sales.csv\")\n",
    "#salesx.head()"
   ]
  },
  {
   "cell_type": "code",
   "execution_count": null,
   "metadata": {},
   "outputs": [],
   "source": [
    "#median number of records for depts with NO missing week\n",
    "sales.groupby('Dept').nunique().sort_values('Date').query('Date==143')['Weekly_Sales'].median()"
   ]
  },
  {
   "cell_type": "code",
   "execution_count": null,
   "metadata": {},
   "outputs": [],
   "source": [
    "sales.Date.nunique()"
   ]
  },
  {
   "cell_type": "code",
   "execution_count": null,
   "metadata": {},
   "outputs": [],
   "source": [
    "#Depts with missing weeks\n",
    "dept_w_missing_wks = sales.groupby('Dept').nunique().sort_values('Date').query('Date<143')\n",
    "missing_wks = dept_w_missing_wks.index"
   ]
  },
  {
   "cell_type": "code",
   "execution_count": null,
   "metadata": {},
   "outputs": [],
   "source": [
    "for dept in missing_wks:\n",
    "    data = sales.query(f\"Dept=={dept}\").groupby('Date').sum()\n",
    "    fig = px.line(data, y=\"Weekly_Sales\")\n",
    "    fig.show('png')"
   ]
  },
  {
   "cell_type": "code",
   "execution_count": null,
   "metadata": {},
   "outputs": [],
   "source": [
    "stat_list = []\n",
    "stat_bool_list = []\n",
    "dept_list = []\n",
    "depts = sales.Dept.unique()\n",
    "for dept in depts:\n",
    "    if dept in missing_wks:\n",
    "        continue\n",
    "        \n",
    "    byDeptx = sales.query(f\"Dept=={dept}\").groupby('Date').sum()\n",
    "    dftest = adfuller(byDeptx['Weekly_Sales'], maxlag=55)\n",
    "    p_value = dftest[1]\n",
    "    lags = dftest[2]\n",
    "\n",
    "    if p_value <= 0.05:\n",
    "        stationarity = \"Stationary\"\n",
    "        station_bool = 1\n",
    "        \n",
    "    else:\n",
    "        stationarity = \"Non-Stationary\"\n",
    "        station_bool = 0\n",
    "    \n",
    "    dept_list.append(dept)\n",
    "    stat_list.append(stationarity)\n",
    "    stat_bool_list.append(station_bool)\n",
    "\n",
    "stationarities = pd.DataFrame({'Dept': dept_list,\n",
    "                              'Stationary': stat_list,\n",
    "                              'Stationary_Bool': stat_bool_list})\n",
    "stationarities.head()"
   ]
  },
  {
   "cell_type": "code",
   "execution_count": null,
   "metadata": {},
   "outputs": [],
   "source": [
    "byStat = pd.merge(sales, stationarities, on='Dept', how='left')\n",
    "byStat = byStat.groupby(['Stationary','Date'], as_index=False).sum()\n",
    "\n",
    "byStat.head()"
   ]
  },
  {
   "cell_type": "code",
   "execution_count": null,
   "metadata": {},
   "outputs": [],
   "source": [
    "byStat_line = px.line(byStat,x='Date', y='Weekly_Sales', color='Stationary')\n",
    "byStat_line.show('png')\n",
    "#byStat_line.show()"
   ]
  },
  {
   "cell_type": "code",
   "execution_count": null,
   "metadata": {},
   "outputs": [],
   "source": [
    "fig = px.pie(byStat, values='Weekly_Sales', names='Stationary')\n",
    "fig.show('png')\n",
    "#fig.show()"
   ]
  },
  {
   "cell_type": "markdown",
   "metadata": {},
   "source": [
    "# 3. Forecasting"
   ]
  },
  {
   "cell_type": "markdown",
   "metadata": {},
   "source": [
    "## Seasonal Decomposition"
   ]
  },
  {
   "cell_type": "code",
   "execution_count": null,
   "metadata": {
    "scrolled": true
   },
   "outputs": [],
   "source": [
    "from statsmodels.tsa.seasonal import seasonal_decompose\n",
    "\n",
    "result = seasonal_decompose(byDate['Weekly_Sales'], model='add')\n",
    "result.plot();"
   ]
  },
  {
   "cell_type": "markdown",
   "metadata": {},
   "source": [
    "# SARIMA"
   ]
  },
  {
   "cell_type": "code",
   "execution_count": null,
   "metadata": {},
   "outputs": [],
   "source": [
    "from statsmodels.tsa.statespace.sarimax import SARIMAX\n",
    "\n",
    "from statsmodels.graphics.tsaplots import plot_acf,plot_pacf # for determining (p,q) orders\n",
    "from pmdarima import auto_arima    "
   ]
  },
  {
   "cell_type": "code",
   "execution_count": null,
   "metadata": {},
   "outputs": [],
   "source": [
    "models = byDate[['Weekly_Sales', 'IsHoliday']]\n",
    "models.IsHoliday = byDate.IsHoliday.astype('bool').astype('int')\n",
    "models.head()"
   ]
  },
  {
   "cell_type": "code",
   "execution_count": null,
   "metadata": {},
   "outputs": [],
   "source": [
    "models.index.freq = 'W-FRI'\n",
    "models.index"
   ]
  },
  {
   "cell_type": "code",
   "execution_count": null,
   "metadata": {
    "scrolled": true
   },
   "outputs": [],
   "source": [
    "#confirm stationarity\n",
    "adfuller(models['Weekly_Sales'], maxlag=55)"
   ]
  },
  {
   "cell_type": "code",
   "execution_count": null,
   "metadata": {
    "scrolled": true
   },
   "outputs": [],
   "source": [
    "#Run pmdarima.auto_arima to obtain recommended orders\n",
    "auto_arima(models['Weekly_Sales'],seasonal=True,m=52).summary()"
   ]
  },
  {
   "cell_type": "code",
   "execution_count": null,
   "metadata": {},
   "outputs": [],
   "source": [
    "#Split the data into train/test setsdates = models.index\n",
    "length = len(models)\n",
    "train_len = int(length*0.70)\n",
    "\n",
    "train = models.iloc[:train_len]\n",
    "test = models.iloc[train_len:]"
   ]
  },
  {
   "cell_type": "code",
   "execution_count": null,
   "metadata": {},
   "outputs": [],
   "source": [
    "#Fit a SARIMA(1,0,0)(2,0,0,7) Model\n",
    "model1 = SARIMAX(train['Weekly_Sales'],order=(2,0,2),seasonal_order=(1,0,0,52),enforce_invertibility=False)\n",
    "results = model1.fit()\n",
    "results.summary()"
   ]
  },
  {
   "cell_type": "code",
   "execution_count": null,
   "metadata": {},
   "outputs": [],
   "source": [
    "# Obtain predicted values\n",
    "start=len(train)\n",
    "end=len(train)+len(test)-1\n",
    "predictions1 = results.predict(start=start, end=end, dynamic=False)\n",
    "models['NoHolidays'] = predictions1\n",
    "models.dropna(inplace=True)\n",
    "models.head()"
   ]
  },
  {
   "cell_type": "code",
   "execution_count": null,
   "metadata": {},
   "outputs": [],
   "source": [
    "models_lines = go.Figure()\n",
    "\n",
    "models_lines.add_trace(\n",
    "    go.Scatter(\n",
    "        x=models.index,\n",
    "        y=models.Weekly_Sales,\n",
    "        name = \"Weekly Sales - Actual\"\n",
    "    ))\n",
    "\n",
    "models_lines.add_trace(\n",
    "    go.Scatter(\n",
    "        x=models.index,\n",
    "        y=models.NoHolidays,\n",
    "        name = \"Model 1 - No Holidays\"\n",
    "    ))\n",
    "\n",
    "models_lines.show('png')\n",
    "#models_lines.show()"
   ]
  },
  {
   "cell_type": "code",
   "execution_count": null,
   "metadata": {},
   "outputs": [],
   "source": [
    "from statsmodels.tools.eval_measures import mse,rmse\n",
    "\n",
    "mse1 = mse(test['Weekly_Sales'], predictions1)\n",
    "rmse1 = rmse(test['Weekly_Sales'], predictions1)\n",
    "\n",
    "print(f\"MSE: {mse1}\\nRMSE: {rmse1}\")"
   ]
  },
  {
   "cell_type": "markdown",
   "metadata": {},
   "source": [
    "# SARIMAX - WalMart Holidays\n",
    "add the exog variable"
   ]
  },
  {
   "cell_type": "code",
   "execution_count": null,
   "metadata": {},
   "outputs": [],
   "source": [
    "model2 = SARIMAX(train['Weekly_Sales'],exog=train['IsHoliday'],order=(2,0,2),seasonal_order=(1,0,0,52),enforce_invertibility=False)\n",
    "results = model2.fit()\n",
    "results.summary()"
   ]
  },
  {
   "cell_type": "code",
   "execution_count": null,
   "metadata": {},
   "outputs": [],
   "source": [
    "# Obtain predicted values\n",
    "start=len(train)\n",
    "end=len(train)+len(test)-1\n",
    "exog_forecast = test[['IsHoliday']]  # requires two brackets to yield a shape of (35,1)\n",
    "predictions2 = results.predict(start=start, end=end, exog=exog_forecast)\n",
    "models['WalmartHolidays'] = predictions2\n",
    "models.head()"
   ]
  },
  {
   "cell_type": "code",
   "execution_count": null,
   "metadata": {},
   "outputs": [],
   "source": [
    "models_lines.add_trace(\n",
    "    go.Scatter(\n",
    "        x=models.index,\n",
    "        y=models.WalmartHolidays,\n",
    "        name = \"Model 2 - with Walmart Holidays\"\n",
    "    ))\n",
    "models_lines.show('png')\n",
    "#models_lines.show()"
   ]
  },
  {
   "cell_type": "code",
   "execution_count": null,
   "metadata": {},
   "outputs": [],
   "source": [
    "testmin = test.index.min()\n",
    "testmax = test.index.max()\n",
    "trainmin = train.index.min()\n",
    "trainmax = train.index.max()\n",
    "\n",
    "print(f\"Train Set: {trainmin} - {trainmax}\\nTest Set: {testmin} - {testmax}\")"
   ]
  },
  {
   "cell_type": "code",
   "execution_count": null,
   "metadata": {
    "scrolled": true
   },
   "outputs": [],
   "source": [
    "mse2 = mse(test['Weekly_Sales'], predictions2)\n",
    "rmse2 = rmse(test['Weekly_Sales'], predictions2)\n",
    "\n",
    "print(f\"MSE: {mse2}\\nRMSE: {rmse2}\")"
   ]
  },
  {
   "cell_type": "markdown",
   "metadata": {},
   "source": [
    "# SARIMAX - All Holidays\n",
    "add the exog variable"
   ]
  },
  {
   "cell_type": "code",
   "execution_count": null,
   "metadata": {},
   "outputs": [],
   "source": [
    "byDatex = byDate_all\n",
    "byDatex.head()"
   ]
  },
  {
   "cell_type": "code",
   "execution_count": null,
   "metadata": {},
   "outputs": [],
   "source": [
    "#Split the data into train/test setsDatexs = byDatex.index\n",
    "length = len(byDatex)\n",
    "train_len = int(length*0.70)\n",
    "\n",
    "train = byDatex.iloc[:train_len]\n",
    "test = byDatex.iloc[train_len:]"
   ]
  },
  {
   "cell_type": "code",
   "execution_count": null,
   "metadata": {},
   "outputs": [],
   "source": [
    "model3 = SARIMAX(train['Weekly_Sales'],exog=train['IsHoliday'],order=(2,0,2),seasonal_order=(1,0,0,52),enforce_invertibility=False)\n",
    "results = model3.fit()\n",
    "results.summary()"
   ]
  },
  {
   "cell_type": "code",
   "execution_count": null,
   "metadata": {},
   "outputs": [],
   "source": [
    "# Obtain predicted values\n",
    "start=len(train)\n",
    "end=len(train)+len(test)-1\n",
    "exog_forecast = test[['IsHoliday']]  # requires two brackets to yield a shape of (35,1)\n",
    "predictions3 = results.predict(start=start, end=end, exog=exog_forecast)\n",
    "models['AllHolidays'] = predictions3\n",
    "models.head()"
   ]
  },
  {
   "cell_type": "code",
   "execution_count": null,
   "metadata": {},
   "outputs": [],
   "source": [
    "models_lines.add_trace(\n",
    "    go.Scatter(\n",
    "        x=models.index,\n",
    "        y=models.AllHolidays,\n",
    "        name = \"Model 3 - All Holidays\"\n",
    "    ))\n",
    "models_lines.show('png')\n",
    "#models_lines.show()"
   ]
  },
  {
   "cell_type": "code",
   "execution_count": null,
   "metadata": {},
   "outputs": [],
   "source": [
    "from statsmodels.tools.eval_measures import mse,rmse"
   ]
  },
  {
   "cell_type": "code",
   "execution_count": null,
   "metadata": {},
   "outputs": [],
   "source": [
    "mse3 = mse(test['Weekly_Sales'], predictions3)\n",
    "rmse3 = rmse(test['Weekly_Sales'], predictions3)\n",
    "\n",
    "print(f\"MODEL 1\\n MSE: {mse1}\\n RMSE: {rmse1}\\n\")\n",
    "print(f\"MODEL 2\\n MSE: {mse2}\\n RMSE: {rmse2}\\n\")\n",
    "print(f\"MODEL 3\\n MSE: {mse3}\\n RMSE: {rmse3}\")"
   ]
  },
  {
   "cell_type": "markdown",
   "metadata": {},
   "source": [
    "## Forecast the Future"
   ]
  },
  {
   "cell_type": "markdown",
   "metadata": {},
   "source": [
    "#### Retrain all data on Model 1"
   ]
  },
  {
   "cell_type": "code",
   "execution_count": null,
   "metadata": {},
   "outputs": [],
   "source": [
    "byDate = byDate[['Weekly_Sales','IsHoliday']]\n",
    "byDate.head()"
   ]
  },
  {
   "cell_type": "code",
   "execution_count": null,
   "metadata": {},
   "outputs": [],
   "source": [
    "csv = pd.read_csv(\"data/fcast.csv\")\n",
    "fcast_dates = pd.DataFrame(csv)\n",
    "fcast_dates.IsHoliday = fcast_dates.IsHoliday.astype('bool').astype('int')\n",
    "fcast_dates.Date = pd.to_datetime(fcast_dates.Date)\n",
    "fcast_dates.head()"
   ]
  },
  {
   "cell_type": "code",
   "execution_count": null,
   "metadata": {},
   "outputs": [],
   "source": [
    "fcast_dates.set_index('Date', inplace=True)\n",
    "fcast_dates.index.freq = 'W-FRI'\n",
    "fcast_dates.index"
   ]
  },
  {
   "cell_type": "code",
   "execution_count": null,
   "metadata": {},
   "outputs": [],
   "source": [
    "byDate.index"
   ]
  },
  {
   "cell_type": "code",
   "execution_count": null,
   "metadata": {},
   "outputs": [],
   "source": [
    "len(fcast_dates)\n",
    "len(test)"
   ]
  },
  {
   "cell_type": "code",
   "execution_count": null,
   "metadata": {},
   "outputs": [],
   "source": [
    "model2x = SARIMAX(byDate['Weekly_Sales'],order=(2,0,2),seasonal_order=(1,0,0,52),enforce_invertibility=False)\n",
    "results = model2x.fit()\n",
    "exog_forecast = fcast_dates[['IsHoliday']]\n",
    "fcast_predics = results.predict(fcast_dates.index.min(),fcast_dates.index.max(),exog=exog_forecast)"
   ]
  },
  {
   "cell_type": "code",
   "execution_count": null,
   "metadata": {},
   "outputs": [],
   "source": [
    "fcast_dates['Weekly_Sales'] = fcast_predics\n",
    "fcast_dates['SalesType'] = \"Forecast\"\n",
    "fcast_dates.head()"
   ]
  },
  {
   "cell_type": "code",
   "execution_count": null,
   "metadata": {},
   "outputs": [],
   "source": [
    "byDate['SalesType'] = \"Actual\"\n",
    "byDate.head()"
   ]
  },
  {
   "cell_type": "code",
   "execution_count": null,
   "metadata": {},
   "outputs": [],
   "source": [
    "byDateFcast = pd.concat([byDate,fcast_dates])\n",
    "byDateFcast"
   ]
  },
  {
   "cell_type": "code",
   "execution_count": null,
   "metadata": {},
   "outputs": [],
   "source": [
    "fcast_line = px.line(byDateFcast, x=byDateFcast.index,y='Weekly_Sales', color='SalesType')\n",
    "fcast_line.show('png')\n",
    "#fcast_line.show()"
   ]
  }
 ],
 "metadata": {
  "kernelspec": {
   "display_name": "Python [conda env:PythonData]",
   "language": "python",
   "name": "conda-env-PythonData-py"
  },
  "language_info": {
   "codemirror_mode": {
    "name": "ipython",
    "version": 3
   },
   "file_extension": ".py",
   "mimetype": "text/x-python",
   "name": "python",
   "nbconvert_exporter": "python",
   "pygments_lexer": "ipython3",
   "version": "3.6.9"
  }
 },
 "nbformat": 4,
 "nbformat_minor": 4
}
